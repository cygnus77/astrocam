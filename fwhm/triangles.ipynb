{
 "cells": [
  {
   "cell_type": "code",
   "execution_count": 5,
   "metadata": {},
   "outputs": [],
   "source": [
    "import matplotlib.pyplot as plt\n",
    "from itertools import combinations\n",
    "import math"
   ]
  },
  {
   "cell_type": "code",
   "execution_count": 6,
   "metadata": {},
   "outputs": [],
   "source": [
    "stars = [(0,0), (2,3), (3,2)]\n",
    "\n",
    "# Cache distances between every pair of stars\n",
    "starDistances = {}\n",
    "for c in combinations(range(len(stars)), 2):\n",
    "    assert(c[1] > c[0])\n",
    "    key = (c[0], c[1])\n",
    "    x1, y1 = stars[c[0]]\n",
    "    x2, y2 = stars[c[1]]\n",
    "    starDistances[key] = math.sqrt((x2-x1)**2 + (y2-y1)**2)\n",
    "\n",
    "    vTriangles = []\n",
    "    for i,j,k in combinations(range(len(stars)), 3):\n",
    "\n",
    "        s, m, l = sorted([\n",
    "            (set([i, j]), starDistances[(i,j)]),\n",
    "            (set([j, k]), starDistances[(j,k)]),\n",
    "            (set([i, k]), starDistances[(i,k)])\n",
    "        ], key=lambda x:x[1])\n",
    "\n",
    "        A = s[0].intersection(l[0]).pop()\n",
    "        C = m[0].intersection(l[0]).pop()\n",
    "        B = s[0].intersection(m[0]).pop()\n",
    "\n",
    "        fX = s[1]/l[1]\n",
    "        fY = m[1]/l[1]\n",
    "\n",
    "        # Add to the triangle list\n",
    "        vTriangles.append({\"A\":A, \"B\":B, \"C\":C, \"fX\":fX, \"fY\":fY})\n",
    "\n",
    "    vTriangles = sorted(vTriangles, key=lambda x: x[\"fX\"])\n"
   ]
  },
  {
   "cell_type": "code",
   "execution_count": null,
   "metadata": {},
   "outputs": [],
   "source": []
  }
 ],
 "metadata": {
  "kernelspec": {
   "display_name": "astro",
   "language": "python",
   "name": "python3"
  },
  "language_info": {
   "codemirror_mode": {
    "name": "ipython",
    "version": 3
   },
   "file_extension": ".py",
   "mimetype": "text/x-python",
   "name": "python",
   "nbconvert_exporter": "python",
   "pygments_lexer": "ipython3",
   "version": "3.9.16"
  },
  "orig_nbformat": 4
 },
 "nbformat": 4,
 "nbformat_minor": 2
}
