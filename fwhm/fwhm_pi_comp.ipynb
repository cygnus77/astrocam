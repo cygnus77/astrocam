{
 "cells": [
  {
   "cell_type": "code",
   "execution_count": 1,
   "metadata": {},
   "outputs": [],
   "source": [
    "%load_ext autoreload\n",
    "%autoreload 2\n",
    "import sys\n",
    "sys.path.insert(0, r'C:\\code\\astrocam')\n",
    "import pandas as pd\n",
    "from pathlib import Path\n",
    "from fwhm.star_finder import StarFinder\n",
    "from fwhm.star_matcher import StarMatcher\n",
    "import matplotlib.pyplot as plt\n",
    "import re\n",
    "import numpy as np"
   ]
  },
  {
   "cell_type": "code",
   "execution_count": 2,
   "metadata": {},
   "outputs": [],
   "source": [
    "pi_data_file = r\"D:\\Astro\\Objects\\C30-NGC7331\\fwhm.csv\"\n",
    "df = pd.read_csv(pi_data_file)"
   ]
  },
  {
   "cell_type": "code",
   "execution_count": 3,
   "metadata": {},
   "outputs": [
    {
     "name": "stdout",
     "output_type": "stream",
     "text": [
      "Found 2789\n"
     ]
    }
   ],
   "source": [
    "fit_list = {x.name:str(x) for x in Path(r\"D:\\Astro\").glob(\"**/*.fit\")}\n",
    "print(f\"Found {len(fit_list)}\")"
   ]
  },
  {
   "cell_type": "code",
   "execution_count": 4,
   "metadata": {},
   "outputs": [],
   "source": [
    "df['fit_file'] = df.File.apply(lambda x: fit_list[re.findall(r'(Light_.*?C).*',x)[0]+\".fit\"])"
   ]
  },
  {
   "cell_type": "code",
   "execution_count": 5,
   "metadata": {},
   "outputs": [
    {
     "data": {
      "text/html": [
       "<div>\n",
       "<style scoped>\n",
       "    .dataframe tbody tr th:only-of-type {\n",
       "        vertical-align: middle;\n",
       "    }\n",
       "\n",
       "    .dataframe tbody tr th {\n",
       "        vertical-align: top;\n",
       "    }\n",
       "\n",
       "    .dataframe thead th {\n",
       "        text-align: right;\n",
       "    }\n",
       "</style>\n",
       "<table border=\"1\" class=\"dataframe\">\n",
       "  <thead>\n",
       "    <tr style=\"text-align: right;\">\n",
       "      <th></th>\n",
       "      <th>Index</th>\n",
       "      <th>Approved</th>\n",
       "      <th>Locked</th>\n",
       "      <th>File</th>\n",
       "      <th>Weight</th>\n",
       "      <th>PSF Signal Weight</th>\n",
       "      <th>PSF Power Weight</th>\n",
       "      <th>SNR Weight</th>\n",
       "      <th>FWHM</th>\n",
       "      <th>Eccentricity</th>\n",
       "      <th>...</th>\n",
       "      <th>Median</th>\n",
       "      <th>Median Mean Deviation</th>\n",
       "      <th>Noise</th>\n",
       "      <th>Noise Ratio</th>\n",
       "      <th>Stars</th>\n",
       "      <th>Star Residual</th>\n",
       "      <th>FWHM Mean Deviation</th>\n",
       "      <th>Eccentricity Mean Deviation</th>\n",
       "      <th>Star Residual Mean Deviation</th>\n",
       "      <th>fit_file</th>\n",
       "    </tr>\n",
       "  </thead>\n",
       "  <tbody>\n",
       "    <tr>\n",
       "      <th>0</th>\n",
       "      <td>14</td>\n",
       "      <td>True</td>\n",
       "      <td>False</td>\n",
       "      <td>D:/Astro/Objects/C30-NGC7331/subs/Light_00948_...</td>\n",
       "      <td>0.0</td>\n",
       "      <td>776.0</td>\n",
       "      <td>2810000.0</td>\n",
       "      <td>1.80</td>\n",
       "      <td>3.0627</td>\n",
       "      <td>0.4692</td>\n",
       "      <td>...</td>\n",
       "      <td>16.1</td>\n",
       "      <td>2.88</td>\n",
       "      <td>0.429</td>\n",
       "      <td>0.715</td>\n",
       "      <td>458</td>\n",
       "      <td>0.0193</td>\n",
       "      <td>1.1625</td>\n",
       "      <td>0.1532</td>\n",
       "      <td>0.0104</td>\n",
       "      <td>D:\\Astro\\20220922\\C30\\Light\\Light_00948_180.0s...</td>\n",
       "    </tr>\n",
       "    <tr>\n",
       "      <th>1</th>\n",
       "      <td>27</td>\n",
       "      <td>True</td>\n",
       "      <td>False</td>\n",
       "      <td>D:/Astro/Objects/C30-NGC7331/subs/Light_00961_...</td>\n",
       "      <td>0.0</td>\n",
       "      <td>726.0</td>\n",
       "      <td>2490000.0</td>\n",
       "      <td>1.78</td>\n",
       "      <td>3.1120</td>\n",
       "      <td>0.4887</td>\n",
       "      <td>...</td>\n",
       "      <td>16.6</td>\n",
       "      <td>2.96</td>\n",
       "      <td>0.435</td>\n",
       "      <td>0.720</td>\n",
       "      <td>428</td>\n",
       "      <td>0.0198</td>\n",
       "      <td>1.0250</td>\n",
       "      <td>0.1450</td>\n",
       "      <td>0.0109</td>\n",
       "      <td>D:\\Astro\\20220922\\C30\\Light\\Light_00961_180.0s...</td>\n",
       "    </tr>\n",
       "    <tr>\n",
       "      <th>2</th>\n",
       "      <td>21</td>\n",
       "      <td>True</td>\n",
       "      <td>False</td>\n",
       "      <td>D:/Astro/Objects/C30-NGC7331/subs/Light_00955_...</td>\n",
       "      <td>0.0</td>\n",
       "      <td>741.0</td>\n",
       "      <td>2610000.0</td>\n",
       "      <td>1.80</td>\n",
       "      <td>3.1677</td>\n",
       "      <td>0.4720</td>\n",
       "      <td>...</td>\n",
       "      <td>16.3</td>\n",
       "      <td>2.91</td>\n",
       "      <td>0.431</td>\n",
       "      <td>0.718</td>\n",
       "      <td>453</td>\n",
       "      <td>0.0208</td>\n",
       "      <td>1.0185</td>\n",
       "      <td>0.1411</td>\n",
       "      <td>0.0103</td>\n",
       "      <td>D:\\Astro\\20220922\\C30\\Light\\Light_00955_180.0s...</td>\n",
       "    </tr>\n",
       "    <tr>\n",
       "      <th>3</th>\n",
       "      <td>18</td>\n",
       "      <td>True</td>\n",
       "      <td>False</td>\n",
       "      <td>D:/Astro/Objects/C30-NGC7331/subs/Light_00952_...</td>\n",
       "      <td>0.0</td>\n",
       "      <td>759.0</td>\n",
       "      <td>2700000.0</td>\n",
       "      <td>1.81</td>\n",
       "      <td>3.1840</td>\n",
       "      <td>0.4619</td>\n",
       "      <td>...</td>\n",
       "      <td>16.2</td>\n",
       "      <td>2.90</td>\n",
       "      <td>0.430</td>\n",
       "      <td>0.717</td>\n",
       "      <td>447</td>\n",
       "      <td>0.0211</td>\n",
       "      <td>1.0659</td>\n",
       "      <td>0.1480</td>\n",
       "      <td>0.0103</td>\n",
       "      <td>D:\\Astro\\20220922\\C30\\Light\\Light_00952_180.0s...</td>\n",
       "    </tr>\n",
       "    <tr>\n",
       "      <th>4</th>\n",
       "      <td>19</td>\n",
       "      <td>True</td>\n",
       "      <td>False</td>\n",
       "      <td>D:/Astro/Objects/C30-NGC7331/subs/Light_00953_...</td>\n",
       "      <td>0.0</td>\n",
       "      <td>722.0</td>\n",
       "      <td>2460000.0</td>\n",
       "      <td>1.85</td>\n",
       "      <td>3.1876</td>\n",
       "      <td>0.5180</td>\n",
       "      <td>...</td>\n",
       "      <td>16.3</td>\n",
       "      <td>2.90</td>\n",
       "      <td>0.431</td>\n",
       "      <td>0.718</td>\n",
       "      <td>383</td>\n",
       "      <td>0.0226</td>\n",
       "      <td>1.0306</td>\n",
       "      <td>0.1198</td>\n",
       "      <td>0.0103</td>\n",
       "      <td>D:\\Astro\\20220922\\C30\\Light\\Light_00953_180.0s...</td>\n",
       "    </tr>\n",
       "    <tr>\n",
       "      <th>...</th>\n",
       "      <td>...</td>\n",
       "      <td>...</td>\n",
       "      <td>...</td>\n",
       "      <td>...</td>\n",
       "      <td>...</td>\n",
       "      <td>...</td>\n",
       "      <td>...</td>\n",
       "      <td>...</td>\n",
       "      <td>...</td>\n",
       "      <td>...</td>\n",
       "      <td>...</td>\n",
       "      <td>...</td>\n",
       "      <td>...</td>\n",
       "      <td>...</td>\n",
       "      <td>...</td>\n",
       "      <td>...</td>\n",
       "      <td>...</td>\n",
       "      <td>...</td>\n",
       "      <td>...</td>\n",
       "      <td>...</td>\n",
       "      <td>...</td>\n",
       "    </tr>\n",
       "    <tr>\n",
       "      <th>69</th>\n",
       "      <td>54</td>\n",
       "      <td>True</td>\n",
       "      <td>False</td>\n",
       "      <td>D:/Astro/Objects/C30-NGC7331/subs/Light_01310_...</td>\n",
       "      <td>0.0</td>\n",
       "      <td>680.0</td>\n",
       "      <td>2240000.0</td>\n",
       "      <td>1.88</td>\n",
       "      <td>3.9763</td>\n",
       "      <td>0.4168</td>\n",
       "      <td>...</td>\n",
       "      <td>17.1</td>\n",
       "      <td>3.08</td>\n",
       "      <td>0.437</td>\n",
       "      <td>0.726</td>\n",
       "      <td>361</td>\n",
       "      <td>0.0228</td>\n",
       "      <td>1.0214</td>\n",
       "      <td>0.1422</td>\n",
       "      <td>0.0112</td>\n",
       "      <td>D:\\Astro\\20220927\\C30\\Light\\Light_01310_180.0s...</td>\n",
       "    </tr>\n",
       "    <tr>\n",
       "      <th>70</th>\n",
       "      <td>57</td>\n",
       "      <td>True</td>\n",
       "      <td>False</td>\n",
       "      <td>D:/Astro/Objects/C30-NGC7331/subs/Light_01317_...</td>\n",
       "      <td>0.0</td>\n",
       "      <td>657.0</td>\n",
       "      <td>2070000.0</td>\n",
       "      <td>1.88</td>\n",
       "      <td>3.9848</td>\n",
       "      <td>0.4075</td>\n",
       "      <td>...</td>\n",
       "      <td>17.5</td>\n",
       "      <td>3.16</td>\n",
       "      <td>0.443</td>\n",
       "      <td>0.731</td>\n",
       "      <td>351</td>\n",
       "      <td>0.0258</td>\n",
       "      <td>0.9513</td>\n",
       "      <td>0.1372</td>\n",
       "      <td>0.0122</td>\n",
       "      <td>D:\\Astro\\20220927\\C30\\Light\\Light_01317_180.0s...</td>\n",
       "    </tr>\n",
       "    <tr>\n",
       "      <th>71</th>\n",
       "      <td>52</td>\n",
       "      <td>True</td>\n",
       "      <td>False</td>\n",
       "      <td>D:/Astro/Objects/C30-NGC7331/subs/Light_01308_...</td>\n",
       "      <td>0.0</td>\n",
       "      <td>689.0</td>\n",
       "      <td>2300000.0</td>\n",
       "      <td>1.89</td>\n",
       "      <td>3.9939</td>\n",
       "      <td>0.4116</td>\n",
       "      <td>...</td>\n",
       "      <td>17.0</td>\n",
       "      <td>3.06</td>\n",
       "      <td>0.435</td>\n",
       "      <td>0.727</td>\n",
       "      <td>366</td>\n",
       "      <td>0.0225</td>\n",
       "      <td>1.0908</td>\n",
       "      <td>0.1505</td>\n",
       "      <td>0.0109</td>\n",
       "      <td>D:\\Astro\\20220927\\C30\\Light\\Light_01308_180.0s...</td>\n",
       "    </tr>\n",
       "    <tr>\n",
       "      <th>72</th>\n",
       "      <td>56</td>\n",
       "      <td>True</td>\n",
       "      <td>False</td>\n",
       "      <td>D:/Astro/Objects/C30-NGC7331/subs/Light_01312_...</td>\n",
       "      <td>0.0</td>\n",
       "      <td>681.0</td>\n",
       "      <td>2230000.0</td>\n",
       "      <td>1.88</td>\n",
       "      <td>4.0048</td>\n",
       "      <td>0.4207</td>\n",
       "      <td>...</td>\n",
       "      <td>17.2</td>\n",
       "      <td>3.11</td>\n",
       "      <td>0.439</td>\n",
       "      <td>0.728</td>\n",
       "      <td>361</td>\n",
       "      <td>0.0249</td>\n",
       "      <td>0.9815</td>\n",
       "      <td>0.1423</td>\n",
       "      <td>0.0112</td>\n",
       "      <td>D:\\Astro\\20220927\\C30\\Light\\Light_01312_180.0s...</td>\n",
       "    </tr>\n",
       "    <tr>\n",
       "      <th>73</th>\n",
       "      <td>74</td>\n",
       "      <td>True</td>\n",
       "      <td>False</td>\n",
       "      <td>D:/Astro/Objects/C30-NGC7331/subs/Light_01346_...</td>\n",
       "      <td>0.0</td>\n",
       "      <td>540.0</td>\n",
       "      <td>1300000.0</td>\n",
       "      <td>1.78</td>\n",
       "      <td>4.0086</td>\n",
       "      <td>0.3924</td>\n",
       "      <td>...</td>\n",
       "      <td>20.6</td>\n",
       "      <td>3.71</td>\n",
       "      <td>0.482</td>\n",
       "      <td>0.751</td>\n",
       "      <td>330</td>\n",
       "      <td>0.0327</td>\n",
       "      <td>0.7644</td>\n",
       "      <td>0.1213</td>\n",
       "      <td>0.0144</td>\n",
       "      <td>D:\\Astro\\20220927\\C30\\Light\\Light_01346_180.0s...</td>\n",
       "    </tr>\n",
       "  </tbody>\n",
       "</table>\n",
       "<p>74 rows × 22 columns</p>\n",
       "</div>"
      ],
      "text/plain": [
       "    Index  Approved  Locked   \n",
       "0      14      True   False  \\\n",
       "1      27      True   False   \n",
       "2      21      True   False   \n",
       "3      18      True   False   \n",
       "4      19      True   False   \n",
       "..    ...       ...     ...   \n",
       "69     54      True   False   \n",
       "70     57      True   False   \n",
       "71     52      True   False   \n",
       "72     56      True   False   \n",
       "73     74      True   False   \n",
       "\n",
       "                                                 File  Weight   \n",
       "0   D:/Astro/Objects/C30-NGC7331/subs/Light_00948_...     0.0  \\\n",
       "1   D:/Astro/Objects/C30-NGC7331/subs/Light_00961_...     0.0   \n",
       "2   D:/Astro/Objects/C30-NGC7331/subs/Light_00955_...     0.0   \n",
       "3   D:/Astro/Objects/C30-NGC7331/subs/Light_00952_...     0.0   \n",
       "4   D:/Astro/Objects/C30-NGC7331/subs/Light_00953_...     0.0   \n",
       "..                                                ...     ...   \n",
       "69  D:/Astro/Objects/C30-NGC7331/subs/Light_01310_...     0.0   \n",
       "70  D:/Astro/Objects/C30-NGC7331/subs/Light_01317_...     0.0   \n",
       "71  D:/Astro/Objects/C30-NGC7331/subs/Light_01308_...     0.0   \n",
       "72  D:/Astro/Objects/C30-NGC7331/subs/Light_01312_...     0.0   \n",
       "73  D:/Astro/Objects/C30-NGC7331/subs/Light_01346_...     0.0   \n",
       "\n",
       "    PSF Signal Weight  PSF Power Weight  SNR Weight    FWHM  Eccentricity   \n",
       "0               776.0         2810000.0        1.80  3.0627        0.4692  \\\n",
       "1               726.0         2490000.0        1.78  3.1120        0.4887   \n",
       "2               741.0         2610000.0        1.80  3.1677        0.4720   \n",
       "3               759.0         2700000.0        1.81  3.1840        0.4619   \n",
       "4               722.0         2460000.0        1.85  3.1876        0.5180   \n",
       "..                ...               ...         ...     ...           ...   \n",
       "69              680.0         2240000.0        1.88  3.9763        0.4168   \n",
       "70              657.0         2070000.0        1.88  3.9848        0.4075   \n",
       "71              689.0         2300000.0        1.89  3.9939        0.4116   \n",
       "72              681.0         2230000.0        1.88  4.0048        0.4207   \n",
       "73              540.0         1300000.0        1.78  4.0086        0.3924   \n",
       "\n",
       "    ...  Median  Median Mean Deviation  Noise  Noise Ratio  Stars   \n",
       "0   ...    16.1                   2.88  0.429        0.715    458  \\\n",
       "1   ...    16.6                   2.96  0.435        0.720    428   \n",
       "2   ...    16.3                   2.91  0.431        0.718    453   \n",
       "3   ...    16.2                   2.90  0.430        0.717    447   \n",
       "4   ...    16.3                   2.90  0.431        0.718    383   \n",
       "..  ...     ...                    ...    ...          ...    ...   \n",
       "69  ...    17.1                   3.08  0.437        0.726    361   \n",
       "70  ...    17.5                   3.16  0.443        0.731    351   \n",
       "71  ...    17.0                   3.06  0.435        0.727    366   \n",
       "72  ...    17.2                   3.11  0.439        0.728    361   \n",
       "73  ...    20.6                   3.71  0.482        0.751    330   \n",
       "\n",
       "    Star Residual  FWHM Mean Deviation  Eccentricity Mean Deviation   \n",
       "0          0.0193               1.1625                       0.1532  \\\n",
       "1          0.0198               1.0250                       0.1450   \n",
       "2          0.0208               1.0185                       0.1411   \n",
       "3          0.0211               1.0659                       0.1480   \n",
       "4          0.0226               1.0306                       0.1198   \n",
       "..            ...                  ...                          ...   \n",
       "69         0.0228               1.0214                       0.1422   \n",
       "70         0.0258               0.9513                       0.1372   \n",
       "71         0.0225               1.0908                       0.1505   \n",
       "72         0.0249               0.9815                       0.1423   \n",
       "73         0.0327               0.7644                       0.1213   \n",
       "\n",
       "    Star Residual Mean Deviation   \n",
       "0                         0.0104  \\\n",
       "1                         0.0109   \n",
       "2                         0.0103   \n",
       "3                         0.0103   \n",
       "4                         0.0103   \n",
       "..                           ...   \n",
       "69                        0.0112   \n",
       "70                        0.0122   \n",
       "71                        0.0109   \n",
       "72                        0.0112   \n",
       "73                        0.0144   \n",
       "\n",
       "                                             fit_file  \n",
       "0   D:\\Astro\\20220922\\C30\\Light\\Light_00948_180.0s...  \n",
       "1   D:\\Astro\\20220922\\C30\\Light\\Light_00961_180.0s...  \n",
       "2   D:\\Astro\\20220922\\C30\\Light\\Light_00955_180.0s...  \n",
       "3   D:\\Astro\\20220922\\C30\\Light\\Light_00952_180.0s...  \n",
       "4   D:\\Astro\\20220922\\C30\\Light\\Light_00953_180.0s...  \n",
       "..                                                ...  \n",
       "69  D:\\Astro\\20220927\\C30\\Light\\Light_01310_180.0s...  \n",
       "70  D:\\Astro\\20220927\\C30\\Light\\Light_01317_180.0s...  \n",
       "71  D:\\Astro\\20220927\\C30\\Light\\Light_01308_180.0s...  \n",
       "72  D:\\Astro\\20220927\\C30\\Light\\Light_01312_180.0s...  \n",
       "73  D:\\Astro\\20220927\\C30\\Light\\Light_01346_180.0s...  \n",
       "\n",
       "[74 rows x 22 columns]"
      ]
     },
     "execution_count": 5,
     "metadata": {},
     "output_type": "execute_result"
    }
   ],
   "source": [
    "df"
   ]
  },
  {
   "cell_type": "code",
   "execution_count": 6,
   "metadata": {},
   "outputs": [
    {
     "name": "stdout",
     "output_type": "stream",
     "text": [
      "Numer of images: 74\n"
     ]
    }
   ],
   "source": [
    "print(f\"Numer of images: {len(df)}\")"
   ]
  },
  {
   "cell_type": "code",
   "execution_count": 7,
   "metadata": {},
   "outputs": [
    {
     "name": "stdout",
     "output_type": "stream",
     "text": [
      "img16 shape: (2822, 4144), img8 shape: (2822, 4144)\n"
     ]
    },
    {
     "name": "stderr",
     "output_type": "stream",
     "text": [
      "Calculating FWHM:  75%|███████▍  | 306/410 [00:00<00:00, 319.57it/s]c:\\Users\\anand\\anaconda3\\envs\\astro\\lib\\site-packages\\scipy\\optimize\\_minpack_py.py:492: RuntimeWarning: Number of calls to function has reached maxfev = 1200.\n",
      "  warnings.warn(errors[info][0], RuntimeWarning)\n",
      "Calculating FWHM: 100%|██████████| 410/410 [00:01<00:00, 287.39it/s]\n"
     ]
    }
   ],
   "source": [
    "starfinder = StarFinder()\n",
    "starmatcher = StarMatcher()\n",
    "starData = starfinder.getStarData(df.fit_file[0], topk=40)\n",
    "star_img = starData[\"star_mask\"]\n",
    "df_ref = starData[\"stars\"]"
   ]
  },
  {
   "cell_type": "code",
   "execution_count": 8,
   "metadata": {},
   "outputs": [
    {
     "data": {
      "text/plain": [
       "<matplotlib.image.AxesImage at 0x1dc00574e50>"
      ]
     },
     "execution_count": 8,
     "metadata": {},
     "output_type": "execute_result"
    },
    {
     "data": {
      "image/png": "[encoded data removed]",
      "text/plain": [
       "<Figure size 640x480 with 1 Axes>"
      ]
     },
     "metadata": {},
     "output_type": "display_data"
    }
   ],
   "source": [
    "plt.imshow(star_img, cmap='gray')"
   ]
  },
  {
   "cell_type": "code",
   "execution_count": 9,
   "metadata": {},
   "outputs": [
    {
     "data": {
      "text/html": [
       "<div>\n",
       "<style scoped>\n",
       "    .dataframe tbody tr th:only-of-type {\n",
       "        vertical-align: middle;\n",
       "    }\n",
       "\n",
       "    .dataframe tbody tr th {\n",
       "        vertical-align: top;\n",
       "    }\n",
       "\n",
       "    .dataframe thead th {\n",
       "        text-align: right;\n",
       "    }\n",
       "</style>\n",
       "<table border=\"1\" class=\"dataframe\">\n",
       "  <thead>\n",
       "    <tr style=\"text-align: right;\">\n",
       "      <th></th>\n",
       "      <th>area</th>\n",
       "      <th>cluster_cx</th>\n",
       "      <th>cluster_cy</th>\n",
       "      <th>iwc_cx</th>\n",
       "      <th>iwc_cy</th>\n",
       "      <th>gaussian_cx</th>\n",
       "      <th>gaussian_cy</th>\n",
       "      <th>box</th>\n",
       "      <th>tile_4</th>\n",
       "      <th>tile_32</th>\n",
       "      <th>fwhm_x</th>\n",
       "      <th>fwhm_y</th>\n",
       "    </tr>\n",
       "  </thead>\n",
       "  <tbody>\n",
       "    <tr>\n",
       "      <th>0</th>\n",
       "      <td>330</td>\n",
       "      <td>632.930303</td>\n",
       "      <td>2051.966667</td>\n",
       "      <td>22.000977</td>\n",
       "      <td>18.000977</td>\n",
       "      <td>19.445930</td>\n",
       "      <td>22.883351</td>\n",
       "      <td>[611, 2032, 654, 2071]</td>\n",
       "      <td>531626</td>\n",
       "      <td>8340</td>\n",
       "      <td>8.337355</td>\n",
       "      <td>9.019000</td>\n",
       "    </tr>\n",
       "    <tr>\n",
       "      <th>1</th>\n",
       "      <td>323</td>\n",
       "      <td>3669.024768</td>\n",
       "      <td>2181.693498</td>\n",
       "      <td>18.000977</td>\n",
       "      <td>18.000977</td>\n",
       "      <td>19.680262</td>\n",
       "      <td>18.854735</td>\n",
       "      <td>[3649, 2162, 3690, 2201]</td>\n",
       "      <td>565537</td>\n",
       "      <td>8955</td>\n",
       "      <td>10.661034</td>\n",
       "      <td>10.624041</td>\n",
       "    </tr>\n",
       "    <tr>\n",
       "      <th>2</th>\n",
       "      <td>313</td>\n",
       "      <td>3514.498403</td>\n",
       "      <td>2016.651757</td>\n",
       "      <td>17.000977</td>\n",
       "      <td>18.000977</td>\n",
       "      <td>19.475557</td>\n",
       "      <td>18.278973</td>\n",
       "      <td>[3495, 1997, 3534, 2036]</td>\n",
       "      <td>523023</td>\n",
       "      <td>8300</td>\n",
       "      <td>11.263100</td>\n",
       "      <td>10.704717</td>\n",
       "    </tr>\n",
       "    <tr>\n",
       "      <th>3</th>\n",
       "      <td>311</td>\n",
       "      <td>3660.774920</td>\n",
       "      <td>445.263666</td>\n",
       "      <td>19.000977</td>\n",
       "      <td>18.000977</td>\n",
       "      <td>18.534161</td>\n",
       "      <td>19.843707</td>\n",
       "      <td>[3640, 427, 3681, 464]</td>\n",
       "      <td>115911</td>\n",
       "      <td>1934</td>\n",
       "      <td>11.503017</td>\n",
       "      <td>10.919182</td>\n",
       "    </tr>\n",
       "    <tr>\n",
       "      <th>4</th>\n",
       "      <td>308</td>\n",
       "      <td>1898.061688</td>\n",
       "      <td>2160.506494</td>\n",
       "      <td>18.000977</td>\n",
       "      <td>19.000977</td>\n",
       "      <td>19.645572</td>\n",
       "      <td>17.729837</td>\n",
       "      <td>[1880, 2140, 1917, 2181]</td>\n",
       "      <td>559915</td>\n",
       "      <td>8899</td>\n",
       "      <td>9.717917</td>\n",
       "      <td>10.065953</td>\n",
       "    </tr>\n",
       "    <tr>\n",
       "      <th>5</th>\n",
       "      <td>305</td>\n",
       "      <td>814.413115</td>\n",
       "      <td>139.524590</td>\n",
       "      <td>17.000977</td>\n",
       "      <td>20.000977</td>\n",
       "      <td>20.760033</td>\n",
       "      <td>17.477041</td>\n",
       "      <td>[797, 119, 832, 160]</td>\n",
       "      <td>36464</td>\n",
       "      <td>545</td>\n",
       "      <td>13.797493</td>\n",
       "      <td>15.959861</td>\n",
       "    </tr>\n",
       "    <tr>\n",
       "      <th>6</th>\n",
       "      <td>304</td>\n",
       "      <td>3332.641447</td>\n",
       "      <td>106.085526</td>\n",
       "      <td>19.000977</td>\n",
       "      <td>18.000977</td>\n",
       "      <td>18.314829</td>\n",
       "      <td>20.185398</td>\n",
       "      <td>[3312, 88, 3353, 125]</td>\n",
       "      <td>28805</td>\n",
       "      <td>494</td>\n",
       "      <td>13.387562</td>\n",
       "      <td>11.769476</td>\n",
       "    </tr>\n",
       "    <tr>\n",
       "      <th>7</th>\n",
       "      <td>304</td>\n",
       "      <td>3820.562500</td>\n",
       "      <td>1139.243421</td>\n",
       "      <td>18.000977</td>\n",
       "      <td>18.000977</td>\n",
       "      <td>19.445197</td>\n",
       "      <td>18.350336</td>\n",
       "      <td>[3801, 1120, 3840, 1159]</td>\n",
       "      <td>296215</td>\n",
       "      <td>4799</td>\n",
       "      <td>11.044797</td>\n",
       "      <td>11.195841</td>\n",
       "    </tr>\n",
       "    <tr>\n",
       "      <th>8</th>\n",
       "      <td>302</td>\n",
       "      <td>625.692053</td>\n",
       "      <td>354.033113</td>\n",
       "      <td>18.000977</td>\n",
       "      <td>20.000977</td>\n",
       "      <td>20.443636</td>\n",
       "      <td>18.572477</td>\n",
       "      <td>[607, 334, 644, 375]</td>\n",
       "      <td>92360</td>\n",
       "      <td>1450</td>\n",
       "      <td>9.402102</td>\n",
       "      <td>10.900787</td>\n",
       "    </tr>\n",
       "    <tr>\n",
       "      <th>9</th>\n",
       "      <td>299</td>\n",
       "      <td>1726.210702</td>\n",
       "      <td>2067.173913</td>\n",
       "      <td>18.000977</td>\n",
       "      <td>18.000977</td>\n",
       "      <td>18.568716</td>\n",
       "      <td>18.106730</td>\n",
       "      <td>[1708, 2048, 1745, 2087]</td>\n",
       "      <td>536044</td>\n",
       "      <td>8504</td>\n",
       "      <td>11.669707</td>\n",
       "      <td>12.298536</td>\n",
       "    </tr>\n",
       "    <tr>\n",
       "      <th>10</th>\n",
       "      <td>298</td>\n",
       "      <td>3736.630872</td>\n",
       "      <td>1777.291946</td>\n",
       "      <td>17.000977</td>\n",
       "      <td>17.000977</td>\n",
       "      <td>18.286146</td>\n",
       "      <td>18.263620</td>\n",
       "      <td>[3717, 1759, 3756, 1796]</td>\n",
       "      <td>460918</td>\n",
       "      <td>7397</td>\n",
       "      <td>9.154693</td>\n",
       "      <td>9.408278</td>\n",
       "    </tr>\n",
       "    <tr>\n",
       "      <th>11</th>\n",
       "      <td>297</td>\n",
       "      <td>1570.498316</td>\n",
       "      <td>2161.121212</td>\n",
       "      <td>18.000977</td>\n",
       "      <td>18.000977</td>\n",
       "      <td>18.288809</td>\n",
       "      <td>18.718071</td>\n",
       "      <td>[1552, 2142, 1589, 2181]</td>\n",
       "      <td>559833</td>\n",
       "      <td>8889</td>\n",
       "      <td>8.515209</td>\n",
       "      <td>9.025345</td>\n",
       "    </tr>\n",
       "    <tr>\n",
       "      <th>12</th>\n",
       "      <td>293</td>\n",
       "      <td>2334.399317</td>\n",
       "      <td>2798.215017</td>\n",
       "      <td>18.000977</td>\n",
       "      <td>17.000977</td>\n",
       "      <td>17.711141</td>\n",
       "      <td>17.349780</td>\n",
       "      <td>[2316, 2779, 2353, 2818]</td>\n",
       "      <td>725784</td>\n",
       "      <td>11383</td>\n",
       "      <td>9.256887</td>\n",
       "      <td>8.892015</td>\n",
       "    </tr>\n",
       "    <tr>\n",
       "      <th>13</th>\n",
       "      <td>290</td>\n",
       "      <td>3270.093103</td>\n",
       "      <td>2469.662069</td>\n",
       "      <td>18.000977</td>\n",
       "      <td>16.000977</td>\n",
       "      <td>17.341472</td>\n",
       "      <td>18.301854</td>\n",
       "      <td>[3251, 2452, 3290, 2487]</td>\n",
       "      <td>640030</td>\n",
       "      <td>10112</td>\n",
       "      <td>13.602205</td>\n",
       "      <td>11.254165</td>\n",
       "    </tr>\n",
       "    <tr>\n",
       "      <th>14</th>\n",
       "      <td>284</td>\n",
       "      <td>3632.929577</td>\n",
       "      <td>644.235915</td>\n",
       "      <td>20.000977</td>\n",
       "      <td>16.000977</td>\n",
       "      <td>17.171214</td>\n",
       "      <td>19.471178</td>\n",
       "      <td>[3612, 627, 3653, 662]</td>\n",
       "      <td>167704</td>\n",
       "      <td>2714</td>\n",
       "      <td>9.197308</td>\n",
       "      <td>8.734171</td>\n",
       "    </tr>\n",
       "    <tr>\n",
       "      <th>15</th>\n",
       "      <td>284</td>\n",
       "      <td>3257.390845</td>\n",
       "      <td>770.651408</td>\n",
       "      <td>17.000977</td>\n",
       "      <td>18.000977</td>\n",
       "      <td>19.961908</td>\n",
       "      <td>16.652669</td>\n",
       "      <td>[3239, 752, 3276, 789]</td>\n",
       "      <td>200762</td>\n",
       "      <td>3222</td>\n",
       "      <td>9.663821</td>\n",
       "      <td>8.660048</td>\n",
       "    </tr>\n",
       "    <tr>\n",
       "      <th>16</th>\n",
       "      <td>281</td>\n",
       "      <td>1059.096085</td>\n",
       "      <td>2264.928826</td>\n",
       "      <td>17.000977</td>\n",
       "      <td>18.000977</td>\n",
       "      <td>18.652533</td>\n",
       "      <td>17.761164</td>\n",
       "      <td>[1042, 2245, 1077, 2284]</td>\n",
       "      <td>586641</td>\n",
       "      <td>9263</td>\n",
       "      <td>7.528624</td>\n",
       "      <td>8.234392</td>\n",
       "    </tr>\n",
       "    <tr>\n",
       "      <th>17</th>\n",
       "      <td>265</td>\n",
       "      <td>3008.966038</td>\n",
       "      <td>1824.324528</td>\n",
       "      <td>19.000977</td>\n",
       "      <td>15.000977</td>\n",
       "      <td>15.731615</td>\n",
       "      <td>17.952275</td>\n",
       "      <td>[2989, 1808, 3028, 1841]</td>\n",
       "      <td>473168</td>\n",
       "      <td>7504</td>\n",
       "      <td>9.678700</td>\n",
       "      <td>8.581111</td>\n",
       "    </tr>\n",
       "    <tr>\n",
       "      <th>18</th>\n",
       "      <td>263</td>\n",
       "      <td>1952.403042</td>\n",
       "      <td>6.684411</td>\n",
       "      <td>19.000977</td>\n",
       "      <td>10.000977</td>\n",
       "      <td>5.460859</td>\n",
       "      <td>19.012105</td>\n",
       "      <td>[1933, 0, 1972, 23]</td>\n",
       "      <td>2560</td>\n",
       "      <td>61</td>\n",
       "      <td>9.817638</td>\n",
       "      <td>11.954265</td>\n",
       "    </tr>\n",
       "    <tr>\n",
       "      <th>19</th>\n",
       "      <td>262</td>\n",
       "      <td>3287.374046</td>\n",
       "      <td>1120.824427</td>\n",
       "      <td>19.000977</td>\n",
       "      <td>16.000977</td>\n",
       "      <td>17.151265</td>\n",
       "      <td>17.756798</td>\n",
       "      <td>[3268, 1104, 3307, 1137]</td>\n",
       "      <td>290902</td>\n",
       "      <td>4653</td>\n",
       "      <td>11.389003</td>\n",
       "      <td>9.778763</td>\n",
       "    </tr>\n",
       "    <tr>\n",
       "      <th>20</th>\n",
       "      <td>260</td>\n",
       "      <td>1923.946154</td>\n",
       "      <td>954.450000</td>\n",
       "      <td>17.000977</td>\n",
       "      <td>18.000977</td>\n",
       "      <td>19.432514</td>\n",
       "      <td>17.476484</td>\n",
       "      <td>[1906, 936, 1941, 973]</td>\n",
       "      <td>248085</td>\n",
       "      <td>3960</td>\n",
       "      <td>7.926015</td>\n",
       "      <td>8.301806</td>\n",
       "    </tr>\n",
       "    <tr>\n",
       "      <th>21</th>\n",
       "      <td>249</td>\n",
       "      <td>2128.285141</td>\n",
       "      <td>131.694779</td>\n",
       "      <td>16.000977</td>\n",
       "      <td>18.000977</td>\n",
       "      <td>20.181347</td>\n",
       "      <td>15.894070</td>\n",
       "      <td>[2112, 113, 2145, 150]</td>\n",
       "      <td>34720</td>\n",
       "      <td>587</td>\n",
       "      <td>8.392219</td>\n",
       "      <td>9.599409</td>\n",
       "    </tr>\n",
       "    <tr>\n",
       "      <th>22</th>\n",
       "      <td>248</td>\n",
       "      <td>1146.169355</td>\n",
       "      <td>2129.290323</td>\n",
       "      <td>17.000977</td>\n",
       "      <td>16.000977</td>\n",
       "      <td>16.701321</td>\n",
       "      <td>17.938148</td>\n",
       "      <td>[1129, 2112, 1164, 2147]</td>\n",
       "      <td>551439</td>\n",
       "      <td>8746</td>\n",
       "      <td>7.812905</td>\n",
       "      <td>8.375216</td>\n",
       "    </tr>\n",
       "    <tr>\n",
       "      <th>23</th>\n",
       "      <td>247</td>\n",
       "      <td>3155.619433</td>\n",
       "      <td>1429.663968</td>\n",
       "      <td>18.000977</td>\n",
       "      <td>15.000977</td>\n",
       "      <td>16.644195</td>\n",
       "      <td>16.844881</td>\n",
       "      <td>[3137, 1413, 3174, 1446]</td>\n",
       "      <td>370641</td>\n",
       "      <td>5949</td>\n",
       "      <td>9.963156</td>\n",
       "      <td>8.620724</td>\n",
       "    </tr>\n",
       "    <tr>\n",
       "      <th>24</th>\n",
       "      <td>243</td>\n",
       "      <td>2851.148148</td>\n",
       "      <td>2254.275720</td>\n",
       "      <td>16.000977</td>\n",
       "      <td>15.000977</td>\n",
       "      <td>15.306839</td>\n",
       "      <td>15.288714</td>\n",
       "      <td>[2834, 2238, 2869, 2271]</td>\n",
       "      <td>585017</td>\n",
       "      <td>9189</td>\n",
       "      <td>9.259394</td>\n",
       "      <td>8.376372</td>\n",
       "    </tr>\n",
       "    <tr>\n",
       "      <th>25</th>\n",
       "      <td>242</td>\n",
       "      <td>1456.351240</td>\n",
       "      <td>2748.454545</td>\n",
       "      <td>15.000977</td>\n",
       "      <td>16.000977</td>\n",
       "      <td>16.299768</td>\n",
       "      <td>16.078634</td>\n",
       "      <td>[1440, 2731, 1473, 2766]</td>\n",
       "      <td>712096</td>\n",
       "      <td>11226</td>\n",
       "      <td>7.479629</td>\n",
       "      <td>7.978203</td>\n",
       "    </tr>\n",
       "    <tr>\n",
       "      <th>26</th>\n",
       "      <td>240</td>\n",
       "      <td>2895.112500</td>\n",
       "      <td>2060.183333</td>\n",
       "      <td>16.000977</td>\n",
       "      <td>15.000977</td>\n",
       "      <td>15.530566</td>\n",
       "      <td>15.961081</td>\n",
       "      <td>[2878, 2044, 2913, 2077]</td>\n",
       "      <td>534264</td>\n",
       "      <td>8410</td>\n",
       "      <td>21.728462</td>\n",
       "      <td>20.126422</td>\n",
       "    </tr>\n",
       "    <tr>\n",
       "      <th>27</th>\n",
       "      <td>239</td>\n",
       "      <td>3056.205021</td>\n",
       "      <td>733.853556</td>\n",
       "      <td>17.000977</td>\n",
       "      <td>15.000977</td>\n",
       "      <td>17.185935</td>\n",
       "      <td>16.194171</td>\n",
       "      <td>[3039, 717, 3074, 750]</td>\n",
       "      <td>190352</td>\n",
       "      <td>3086</td>\n",
       "      <td>24.810826</td>\n",
       "      <td>23.524112</td>\n",
       "    </tr>\n",
       "    <tr>\n",
       "      <th>28</th>\n",
       "      <td>239</td>\n",
       "      <td>3015.142259</td>\n",
       "      <td>2230.322176</td>\n",
       "      <td>17.000977</td>\n",
       "      <td>15.000977</td>\n",
       "      <td>15.440499</td>\n",
       "      <td>15.409488</td>\n",
       "      <td>[2998, 2214, 3033, 2247]</td>\n",
       "      <td>578842</td>\n",
       "      <td>9194</td>\n",
       "      <td>11.283041</td>\n",
       "      <td>10.172422</td>\n",
       "    </tr>\n",
       "    <tr>\n",
       "      <th>29</th>\n",
       "      <td>238</td>\n",
       "      <td>1473.663866</td>\n",
       "      <td>818.075630</td>\n",
       "      <td>16.000977</td>\n",
       "      <td>16.000977</td>\n",
       "      <td>17.899338</td>\n",
       "      <td>16.998246</td>\n",
       "      <td>[1457, 801, 1490, 836]</td>\n",
       "      <td>212748</td>\n",
       "      <td>3426</td>\n",
       "      <td>7.048760</td>\n",
       "      <td>7.529877</td>\n",
       "    </tr>\n",
       "    <tr>\n",
       "      <th>30</th>\n",
       "      <td>235</td>\n",
       "      <td>1120.536170</td>\n",
       "      <td>1727.404255</td>\n",
       "      <td>16.000977</td>\n",
       "      <td>15.000977</td>\n",
       "      <td>16.125938</td>\n",
       "      <td>17.437369</td>\n",
       "      <td>[1104, 1711, 1137, 1744]</td>\n",
       "      <td>447832</td>\n",
       "      <td>7055</td>\n",
       "      <td>7.278461</td>\n",
       "      <td>7.615577</td>\n",
       "    </tr>\n",
       "    <tr>\n",
       "      <th>31</th>\n",
       "      <td>234</td>\n",
       "      <td>2353.136752</td>\n",
       "      <td>2626.175214</td>\n",
       "      <td>16.000977</td>\n",
       "      <td>15.000977</td>\n",
       "      <td>14.861271</td>\n",
       "      <td>15.771600</td>\n",
       "      <td>[2336, 2610, 2371, 2643]</td>\n",
       "      <td>681240</td>\n",
       "      <td>10734</td>\n",
       "      <td>8.824379</td>\n",
       "      <td>8.639924</td>\n",
       "    </tr>\n",
       "    <tr>\n",
       "      <th>32</th>\n",
       "      <td>232</td>\n",
       "      <td>1498.267241</td>\n",
       "      <td>1653.625000</td>\n",
       "      <td>16.000977</td>\n",
       "      <td>15.000977</td>\n",
       "      <td>16.788737</td>\n",
       "      <td>16.402984</td>\n",
       "      <td>[1482, 1637, 1515, 1670]</td>\n",
       "      <td>428243</td>\n",
       "      <td>6807</td>\n",
       "      <td>7.822119</td>\n",
       "      <td>7.985989</td>\n",
       "    </tr>\n",
       "    <tr>\n",
       "      <th>33</th>\n",
       "      <td>231</td>\n",
       "      <td>4087.112554</td>\n",
       "      <td>926.952381</td>\n",
       "      <td>14.000977</td>\n",
       "      <td>16.000977</td>\n",
       "      <td>17.459436</td>\n",
       "      <td>15.502998</td>\n",
       "      <td>[4071, 909, 4104, 944]</td>\n",
       "      <td>241374</td>\n",
       "      <td>3898</td>\n",
       "      <td>34.000647</td>\n",
       "      <td>36.238150</td>\n",
       "    </tr>\n",
       "    <tr>\n",
       "      <th>34</th>\n",
       "      <td>226</td>\n",
       "      <td>2527.309735</td>\n",
       "      <td>889.663717</td>\n",
       "      <td>15.000977</td>\n",
       "      <td>15.000977</td>\n",
       "      <td>17.333236</td>\n",
       "      <td>14.518491</td>\n",
       "      <td>[2511, 873, 2544, 906]</td>\n",
       "      <td>230624</td>\n",
       "      <td>3719</td>\n",
       "      <td>7.687586</td>\n",
       "      <td>7.470129</td>\n",
       "    </tr>\n",
       "    <tr>\n",
       "      <th>35</th>\n",
       "      <td>224</td>\n",
       "      <td>2894.419643</td>\n",
       "      <td>2535.433036</td>\n",
       "      <td>16.000977</td>\n",
       "      <td>16.000977</td>\n",
       "      <td>15.350222</td>\n",
       "      <td>14.750111</td>\n",
       "      <td>[2878, 2519, 2911, 2552]</td>\n",
       "      <td>657548</td>\n",
       "      <td>10360</td>\n",
       "      <td>9.644270</td>\n",
       "      <td>8.719532</td>\n",
       "    </tr>\n",
       "    <tr>\n",
       "      <th>36</th>\n",
       "      <td>223</td>\n",
       "      <td>2766.654709</td>\n",
       "      <td>2495.143498</td>\n",
       "      <td>16.000977</td>\n",
       "      <td>15.000977</td>\n",
       "      <td>15.418124</td>\n",
       "      <td>15.733676</td>\n",
       "      <td>[2750, 2479, 2783, 2512]</td>\n",
       "      <td>647156</td>\n",
       "      <td>10226</td>\n",
       "      <td>25.473174</td>\n",
       "      <td>25.229607</td>\n",
       "    </tr>\n",
       "    <tr>\n",
       "      <th>37</th>\n",
       "      <td>221</td>\n",
       "      <td>3856.113122</td>\n",
       "      <td>1692.597285</td>\n",
       "      <td>14.000977</td>\n",
       "      <td>15.000977</td>\n",
       "      <td>16.163158</td>\n",
       "      <td>15.506480</td>\n",
       "      <td>[3840, 1676, 3873, 1709]</td>\n",
       "      <td>439192</td>\n",
       "      <td>7011</td>\n",
       "      <td>31.643543</td>\n",
       "      <td>31.734554</td>\n",
       "    </tr>\n",
       "    <tr>\n",
       "      <th>38</th>\n",
       "      <td>218</td>\n",
       "      <td>3635.830275</td>\n",
       "      <td>1022.807339</td>\n",
       "      <td>16.000977</td>\n",
       "      <td>16.000977</td>\n",
       "      <td>16.735699</td>\n",
       "      <td>15.877098</td>\n",
       "      <td>[3619, 1006, 3652, 1039]</td>\n",
       "      <td>266125</td>\n",
       "      <td>4274</td>\n",
       "      <td>29.913210</td>\n",
       "      <td>29.510737</td>\n",
       "    </tr>\n",
       "    <tr>\n",
       "      <th>39</th>\n",
       "      <td>215</td>\n",
       "      <td>3271.511628</td>\n",
       "      <td>56.572093</td>\n",
       "      <td>15.000977</td>\n",
       "      <td>15.000977</td>\n",
       "      <td>15.846881</td>\n",
       "      <td>15.796427</td>\n",
       "      <td>[3255, 41, 3288, 72]</td>\n",
       "      <td>15322</td>\n",
       "      <td>362</td>\n",
       "      <td>20.476924</td>\n",
       "      <td>19.040310</td>\n",
       "    </tr>\n",
       "  </tbody>\n",
       "</table>\n",
       "</div>"
      ],
      "text/plain": [
       "    area   cluster_cx   cluster_cy     iwc_cx     iwc_cy  gaussian_cx   \n",
       "0    330   632.930303  2051.966667  22.000977  18.000977    19.445930  \\\n",
       "1    323  3669.024768  2181.693498  18.000977  18.000977    19.680262   \n",
       "2    313  3514.498403  2016.651757  17.000977  18.000977    19.475557   \n",
       "3    311  3660.774920   445.263666  19.000977  18.000977    18.534161   \n",
       "4    308  1898.061688  2160.506494  18.000977  19.000977    19.645572   \n",
       "5    305   814.413115   139.524590  17.000977  20.000977    20.760033   \n",
       "6    304  3332.641447   106.085526  19.000977  18.000977    18.314829   \n",
       "7    304  3820.562500  1139.243421  18.000977  18.000977    19.445197   \n",
       "8    302   625.692053   354.033113  18.000977  20.000977    20.443636   \n",
       "9    299  1726.210702  2067.173913  18.000977  18.000977    18.568716   \n",
       "10   298  3736.630872  1777.291946  17.000977  17.000977    18.286146   \n",
       "11   297  1570.498316  2161.121212  18.000977  18.000977    18.288809   \n",
       "12   293  2334.399317  2798.215017  18.000977  17.000977    17.711141   \n",
       "13   290  3270.093103  2469.662069  18.000977  16.000977    17.341472   \n",
       "14   284  3632.929577   644.235915  20.000977  16.000977    17.171214   \n",
       "15   284  3257.390845   770.651408  17.000977  18.000977    19.961908   \n",
       "16   281  1059.096085  2264.928826  17.000977  18.000977    18.652533   \n",
       "17   265  3008.966038  1824.324528  19.000977  15.000977    15.731615   \n",
       "18   263  1952.403042     6.684411  19.000977  10.000977     5.460859   \n",
       "19   262  3287.374046  1120.824427  19.000977  16.000977    17.151265   \n",
       "20   260  1923.946154   954.450000  17.000977  18.000977    19.432514   \n",
       "21   249  2128.285141   131.694779  16.000977  18.000977    20.181347   \n",
       "22   248  1146.169355  2129.290323  17.000977  16.000977    16.701321   \n",
       "23   247  3155.619433  1429.663968  18.000977  15.000977    16.644195   \n",
       "24   243  2851.148148  2254.275720  16.000977  15.000977    15.306839   \n",
       "25   242  1456.351240  2748.454545  15.000977  16.000977    16.299768   \n",
       "26   240  2895.112500  2060.183333  16.000977  15.000977    15.530566   \n",
       "27   239  3056.205021   733.853556  17.000977  15.000977    17.185935   \n",
       "28   239  3015.142259  2230.322176  17.000977  15.000977    15.440499   \n",
       "29   238  1473.663866   818.075630  16.000977  16.000977    17.899338   \n",
       "30   235  1120.536170  1727.404255  16.000977  15.000977    16.125938   \n",
       "31   234  2353.136752  2626.175214  16.000977  15.000977    14.861271   \n",
       "32   232  1498.267241  1653.625000  16.000977  15.000977    16.788737   \n",
       "33   231  4087.112554   926.952381  14.000977  16.000977    17.459436   \n",
       "34   226  2527.309735   889.663717  15.000977  15.000977    17.333236   \n",
       "35   224  2894.419643  2535.433036  16.000977  16.000977    15.350222   \n",
       "36   223  2766.654709  2495.143498  16.000977  15.000977    15.418124   \n",
       "37   221  3856.113122  1692.597285  14.000977  15.000977    16.163158   \n",
       "38   218  3635.830275  1022.807339  16.000977  16.000977    16.735699   \n",
       "39   215  3271.511628    56.572093  15.000977  15.000977    15.846881   \n",
       "\n",
       "    gaussian_cy                       box  tile_4  tile_32     fwhm_x   \n",
       "0     22.883351    [611, 2032, 654, 2071]  531626     8340   8.337355  \\\n",
       "1     18.854735  [3649, 2162, 3690, 2201]  565537     8955  10.661034   \n",
       "2     18.278973  [3495, 1997, 3534, 2036]  523023     8300  11.263100   \n",
       "3     19.843707    [3640, 427, 3681, 464]  115911     1934  11.503017   \n",
       "4     17.729837  [1880, 2140, 1917, 2181]  559915     8899   9.717917   \n",
       "5     17.477041      [797, 119, 832, 160]   36464      545  13.797493   \n",
       "6     20.185398     [3312, 88, 3353, 125]   28805      494  13.387562   \n",
       "7     18.350336  [3801, 1120, 3840, 1159]  296215     4799  11.044797   \n",
       "8     18.572477      [607, 334, 644, 375]   92360     1450   9.402102   \n",
       "9     18.106730  [1708, 2048, 1745, 2087]  536044     8504  11.669707   \n",
       "10    18.263620  [3717, 1759, 3756, 1796]  460918     7397   9.154693   \n",
       "11    18.718071  [1552, 2142, 1589, 2181]  559833     8889   8.515209   \n",
       "12    17.349780  [2316, 2779, 2353, 2818]  725784    11383   9.256887   \n",
       "13    18.301854  [3251, 2452, 3290, 2487]  640030    10112  13.602205   \n",
       "14    19.471178    [3612, 627, 3653, 662]  167704     2714   9.197308   \n",
       "15    16.652669    [3239, 752, 3276, 789]  200762     3222   9.663821   \n",
       "16    17.761164  [1042, 2245, 1077, 2284]  586641     9263   7.528624   \n",
       "17    17.952275  [2989, 1808, 3028, 1841]  473168     7504   9.678700   \n",
       "18    19.012105       [1933, 0, 1972, 23]    2560       61   9.817638   \n",
       "19    17.756798  [3268, 1104, 3307, 1137]  290902     4653  11.389003   \n",
       "20    17.476484    [1906, 936, 1941, 973]  248085     3960   7.926015   \n",
       "21    15.894070    [2112, 113, 2145, 150]   34720      587   8.392219   \n",
       "22    17.938148  [1129, 2112, 1164, 2147]  551439     8746   7.812905   \n",
       "23    16.844881  [3137, 1413, 3174, 1446]  370641     5949   9.963156   \n",
       "24    15.288714  [2834, 2238, 2869, 2271]  585017     9189   9.259394   \n",
       "25    16.078634  [1440, 2731, 1473, 2766]  712096    11226   7.479629   \n",
       "26    15.961081  [2878, 2044, 2913, 2077]  534264     8410  21.728462   \n",
       "27    16.194171    [3039, 717, 3074, 750]  190352     3086  24.810826   \n",
       "28    15.409488  [2998, 2214, 3033, 2247]  578842     9194  11.283041   \n",
       "29    16.998246    [1457, 801, 1490, 836]  212748     3426   7.048760   \n",
       "30    17.437369  [1104, 1711, 1137, 1744]  447832     7055   7.278461   \n",
       "31    15.771600  [2336, 2610, 2371, 2643]  681240    10734   8.824379   \n",
       "32    16.402984  [1482, 1637, 1515, 1670]  428243     6807   7.822119   \n",
       "33    15.502998    [4071, 909, 4104, 944]  241374     3898  34.000647   \n",
       "34    14.518491    [2511, 873, 2544, 906]  230624     3719   7.687586   \n",
       "35    14.750111  [2878, 2519, 2911, 2552]  657548    10360   9.644270   \n",
       "36    15.733676  [2750, 2479, 2783, 2512]  647156    10226  25.473174   \n",
       "37    15.506480  [3840, 1676, 3873, 1709]  439192     7011  31.643543   \n",
       "38    15.877098  [3619, 1006, 3652, 1039]  266125     4274  29.913210   \n",
       "39    15.796427      [3255, 41, 3288, 72]   15322      362  20.476924   \n",
       "\n",
       "       fwhm_y  \n",
       "0    9.019000  \n",
       "1   10.624041  \n",
       "2   10.704717  \n",
       "3   10.919182  \n",
       "4   10.065953  \n",
       "5   15.959861  \n",
       "6   11.769476  \n",
       "7   11.195841  \n",
       "8   10.900787  \n",
       "9   12.298536  \n",
       "10   9.408278  \n",
       "11   9.025345  \n",
       "12   8.892015  \n",
       "13  11.254165  \n",
       "14   8.734171  \n",
       "15   8.660048  \n",
       "16   8.234392  \n",
       "17   8.581111  \n",
       "18  11.954265  \n",
       "19   9.778763  \n",
       "20   8.301806  \n",
       "21   9.599409  \n",
       "22   8.375216  \n",
       "23   8.620724  \n",
       "24   8.376372  \n",
       "25   7.978203  \n",
       "26  20.126422  \n",
       "27  23.524112  \n",
       "28  10.172422  \n",
       "29   7.529877  \n",
       "30   7.615577  \n",
       "31   8.639924  \n",
       "32   7.985989  \n",
       "33  36.238150  \n",
       "34   7.470129  \n",
       "35   8.719532  \n",
       "36  25.229607  \n",
       "37  31.734554  \n",
       "38  29.510737  \n",
       "39  19.040310  "
      ]
     },
     "execution_count": 9,
     "metadata": {},
     "output_type": "execute_result"
    }
   ],
   "source": [
    "df_ref"
   ]
  },
  {
   "cell_type": "code",
   "execution_count": 10,
   "metadata": {},
   "outputs": [],
   "source": [
    "def ave_fwhm(fname):\n",
    "  starData = starfinder.getStarData(fname, topk=20)\n",
    "  df = starData[\"stars\"]\n",
    "  return pd.Series({\"myfwhm_x\": df.fwhm_x.mean(), \"myfwhm_y\":df.fwhm_y.mean(), \"myfwhm_ave\":((df.fwhm_x + df.fwhm_y)/2).mean()})"
   ]
  },
  {
   "cell_type": "code",
   "execution_count": 11,
   "metadata": {},
   "outputs": [
    {
     "name": "stdout",
     "output_type": "stream",
     "text": [
      "img16 shape: (2822, 4144), img8 shape: (2822, 4144)\n"
     ]
    },
    {
     "name": "stderr",
     "output_type": "stream",
     "text": [
      "Calculating FWHM:  73%|███████▎  | 301/410 [00:00<00:00, 311.83it/s]c:\\Users\\anand\\anaconda3\\envs\\astro\\lib\\site-packages\\scipy\\optimize\\_minpack_py.py:492: RuntimeWarning: Number of calls to function has reached maxfev = 1200.\n",
      "  warnings.warn(errors[info][0], RuntimeWarning)\n",
      "Calculating FWHM: 100%|██████████| 410/410 [00:01<00:00, 284.98it/s]\n"
     ]
    },
    {
     "name": "stdout",
     "output_type": "stream",
     "text": [
      "img16 shape: (2822, 4144), img8 shape: (2822, 4144)\n"
     ]
    },
    {
     "name": "stderr",
     "output_type": "stream",
     "text": [
      "Calculating FWHM: 100%|██████████| 399/399 [00:01<00:00, 311.65it/s]\n"
     ]
    },
    {
     "name": "stdout",
     "output_type": "stream",
     "text": [
      "img16 shape: (2822, 4144), img8 shape: (2822, 4144)\n"
     ]
    },
    {
     "name": "stderr",
     "output_type": "stream",
     "text": [
      "Calculating FWHM: 100%|██████████| 407/407 [00:01<00:00, 314.56it/s]\n"
     ]
    },
    {
     "name": "stdout",
     "output_type": "stream",
     "text": [
      "img16 shape: (2822, 4144), img8 shape: (2822, 4144)\n"
     ]
    },
    {
     "name": "stderr",
     "output_type": "stream",
     "text": [
      "Calculating FWHM: 100%|██████████| 412/412 [00:01<00:00, 307.82it/s]\n"
     ]
    },
    {
     "name": "stdout",
     "output_type": "stream",
     "text": [
      "img16 shape: (2822, 4144), img8 shape: (2822, 4144)\n"
     ]
    },
    {
     "name": "stderr",
     "output_type": "stream",
     "text": [
      "Calculating FWHM: 100%|██████████| 386/386 [00:01<00:00, 315.67it/s]\n"
     ]
    },
    {
     "name": "stdout",
     "output_type": "stream",
     "text": [
      "img16 shape: (2822, 4144), img8 shape: (2822, 4144)\n"
     ]
    },
    {
     "name": "stderr",
     "output_type": "stream",
     "text": [
      "Calculating FWHM: 100%|██████████| 425/425 [00:01<00:00, 307.58it/s]\n"
     ]
    },
    {
     "name": "stdout",
     "output_type": "stream",
     "text": [
      "img16 shape: (2822, 4144), img8 shape: (2822, 4144)\n"
     ]
    },
    {
     "name": "stderr",
     "output_type": "stream",
     "text": [
      "Calculating FWHM: 100%|██████████| 414/414 [00:01<00:00, 313.38it/s]\n"
     ]
    },
    {
     "name": "stdout",
     "output_type": "stream",
     "text": [
      "img16 shape: (2822, 4144), img8 shape: (2822, 4144)\n"
     ]
    },
    {
     "name": "stderr",
     "output_type": "stream",
     "text": [
      "Calculating FWHM: 100%|██████████| 427/427 [00:01<00:00, 308.43it/s]\n"
     ]
    },
    {
     "name": "stdout",
     "output_type": "stream",
     "text": [
      "img16 shape: (2822, 4144), img8 shape: (2822, 4144)\n"
     ]
    },
    {
     "name": "stderr",
     "output_type": "stream",
     "text": [
      "Calculating FWHM: 100%|██████████| 416/416 [00:01<00:00, 311.11it/s]\n"
     ]
    },
    {
     "name": "stdout",
     "output_type": "stream",
     "text": [
      "img16 shape: (2822, 4144), img8 shape: (2822, 4144)\n"
     ]
    },
    {
     "name": "stderr",
     "output_type": "stream",
     "text": [
      "Calculating FWHM: 100%|██████████| 422/422 [00:01<00:00, 303.21it/s]\n"
     ]
    },
    {
     "name": "stdout",
     "output_type": "stream",
     "text": [
      "img16 shape: (2822, 4144), img8 shape: (2822, 4144)\n"
     ]
    },
    {
     "name": "stderr",
     "output_type": "stream",
     "text": [
      "Calculating FWHM: 100%|██████████| 407/407 [00:01<00:00, 305.84it/s]\n"
     ]
    },
    {
     "name": "stdout",
     "output_type": "stream",
     "text": [
      "img16 shape: (2822, 4144), img8 shape: (2822, 4144)\n"
     ]
    },
    {
     "name": "stderr",
     "output_type": "stream",
     "text": [
      "Calculating FWHM: 100%|██████████| 419/419 [00:01<00:00, 296.81it/s]\n"
     ]
    },
    {
     "name": "stdout",
     "output_type": "stream",
     "text": [
      "img16 shape: (2822, 4144), img8 shape: (2822, 4144)\n"
     ]
    },
    {
     "name": "stderr",
     "output_type": "stream",
     "text": [
      "Calculating FWHM: 100%|██████████| 417/417 [00:01<00:00, 309.52it/s]\n"
     ]
    },
    {
     "name": "stdout",
     "output_type": "stream",
     "text": [
      "img16 shape: (2822, 4144), img8 shape: (2822, 4144)\n"
     ]
    },
    {
     "name": "stderr",
     "output_type": "stream",
     "text": [
      "Calculating FWHM: 100%|██████████| 426/426 [00:01<00:00, 319.79it/s]\n"
     ]
    },
    {
     "name": "stdout",
     "output_type": "stream",
     "text": [
      "img16 shape: (2822, 4144), img8 shape: (2822, 4144)\n"
     ]
    },
    {
     "name": "stderr",
     "output_type": "stream",
     "text": [
      "Calculating FWHM: 100%|██████████| 429/429 [00:01<00:00, 334.73it/s]\n"
     ]
    },
    {
     "name": "stdout",
     "output_type": "stream",
     "text": [
      "img16 shape: (2822, 4144), img8 shape: (2822, 4144)\n"
     ]
    },
    {
     "name": "stderr",
     "output_type": "stream",
     "text": [
      "Calculating FWHM: 100%|██████████| 420/420 [00:01<00:00, 327.09it/s]\n"
     ]
    },
    {
     "name": "stdout",
     "output_type": "stream",
     "text": [
      "img16 shape: (2822, 4144), img8 shape: (2822, 4144)\n"
     ]
    },
    {
     "name": "stderr",
     "output_type": "stream",
     "text": [
      "Calculating FWHM: 100%|██████████| 430/430 [00:01<00:00, 324.69it/s]\n"
     ]
    },
    {
     "name": "stdout",
     "output_type": "stream",
     "text": [
      "img16 shape: (2822, 4144), img8 shape: (2822, 4144)\n"
     ]
    },
    {
     "name": "stderr",
     "output_type": "stream",
     "text": [
      "Calculating FWHM: 100%|██████████| 435/435 [00:01<00:00, 312.54it/s]\n"
     ]
    },
    {
     "name": "stdout",
     "output_type": "stream",
     "text": [
      "img16 shape: (2822, 4144), img8 shape: (2822, 4144)\n"
     ]
    },
    {
     "name": "stderr",
     "output_type": "stream",
     "text": [
      "Calculating FWHM: 100%|██████████| 442/442 [00:01<00:00, 335.36it/s]\n"
     ]
    },
    {
     "name": "stdout",
     "output_type": "stream",
     "text": [
      "img16 shape: (2822, 4144), img8 shape: (2822, 4144)\n"
     ]
    },
    {
     "name": "stderr",
     "output_type": "stream",
     "text": [
      "Calculating FWHM: 100%|██████████| 425/425 [00:01<00:00, 332.72it/s]\n"
     ]
    },
    {
     "name": "stdout",
     "output_type": "stream",
     "text": [
      "img16 shape: (2822, 4144), img8 shape: (2822, 4144)\n"
     ]
    },
    {
     "name": "stderr",
     "output_type": "stream",
     "text": [
      "Calculating FWHM: 100%|██████████| 431/431 [00:01<00:00, 327.96it/s]\n"
     ]
    },
    {
     "name": "stdout",
     "output_type": "stream",
     "text": [
      "img16 shape: (2822, 4144), img8 shape: (2822, 4144)\n"
     ]
    },
    {
     "name": "stderr",
     "output_type": "stream",
     "text": [
      "Calculating FWHM: 100%|██████████| 449/449 [00:01<00:00, 334.74it/s]\n"
     ]
    },
    {
     "name": "stdout",
     "output_type": "stream",
     "text": [
      "img16 shape: (2822, 4144), img8 shape: (2822, 4144)\n"
     ]
    },
    {
     "name": "stderr",
     "output_type": "stream",
     "text": [
      "Calculating FWHM: 100%|██████████| 391/391 [00:01<00:00, 294.21it/s]\n"
     ]
    },
    {
     "name": "stdout",
     "output_type": "stream",
     "text": [
      "img16 shape: (2822, 4144), img8 shape: (2822, 4144)\n"
     ]
    },
    {
     "name": "stderr",
     "output_type": "stream",
     "text": [
      "Calculating FWHM: 100%|██████████| 441/441 [00:01<00:00, 322.31it/s]\n"
     ]
    },
    {
     "name": "stdout",
     "output_type": "stream",
     "text": [
      "img16 shape: (2822, 4144), img8 shape: (2822, 4144)\n"
     ]
    },
    {
     "name": "stderr",
     "output_type": "stream",
     "text": [
      "Calculating FWHM: 100%|██████████| 417/417 [00:01<00:00, 315.15it/s]\n"
     ]
    },
    {
     "name": "stdout",
     "output_type": "stream",
     "text": [
      "img16 shape: (2822, 4144), img8 shape: (2822, 4144)\n"
     ]
    },
    {
     "name": "stderr",
     "output_type": "stream",
     "text": [
      "Calculating FWHM: 100%|██████████| 444/444 [00:01<00:00, 319.69it/s]\n"
     ]
    },
    {
     "name": "stdout",
     "output_type": "stream",
     "text": [
      "img16 shape: (2822, 4144), img8 shape: (2822, 4144)\n"
     ]
    },
    {
     "name": "stderr",
     "output_type": "stream",
     "text": [
      "Calculating FWHM: 100%|██████████| 405/405 [00:01<00:00, 325.18it/s]\n"
     ]
    },
    {
     "name": "stdout",
     "output_type": "stream",
     "text": [
      "img16 shape: (2822, 4144), img8 shape: (2822, 4144)\n"
     ]
    },
    {
     "name": "stderr",
     "output_type": "stream",
     "text": [
      "Calculating FWHM: 100%|██████████| 434/434 [00:01<00:00, 323.01it/s]\n"
     ]
    },
    {
     "name": "stdout",
     "output_type": "stream",
     "text": [
      "img16 shape: (2822, 4144), img8 shape: (2822, 4144)\n"
     ]
    },
    {
     "name": "stderr",
     "output_type": "stream",
     "text": [
      "Calculating FWHM: 100%|██████████| 411/411 [00:01<00:00, 320.28it/s]\n"
     ]
    },
    {
     "name": "stdout",
     "output_type": "stream",
     "text": [
      "img16 shape: (2822, 4144), img8 shape: (2822, 4144)\n"
     ]
    },
    {
     "name": "stderr",
     "output_type": "stream",
     "text": [
      "Calculating FWHM: 100%|██████████| 448/448 [00:01<00:00, 324.21it/s]\n"
     ]
    },
    {
     "name": "stdout",
     "output_type": "stream",
     "text": [
      "img16 shape: (2822, 4144), img8 shape: (2822, 4144)\n"
     ]
    },
    {
     "name": "stderr",
     "output_type": "stream",
     "text": [
      "Calculating FWHM: 100%|██████████| 453/453 [00:01<00:00, 325.12it/s]\n"
     ]
    },
    {
     "name": "stdout",
     "output_type": "stream",
     "text": [
      "img16 shape: (2822, 4144), img8 shape: (2822, 4144)\n"
     ]
    },
    {
     "name": "stderr",
     "output_type": "stream",
     "text": [
      "Calculating FWHM: 100%|██████████| 430/430 [00:01<00:00, 312.24it/s]\n"
     ]
    },
    {
     "name": "stdout",
     "output_type": "stream",
     "text": [
      "img16 shape: (2822, 4144), img8 shape: (2822, 4144)\n"
     ]
    },
    {
     "name": "stderr",
     "output_type": "stream",
     "text": [
      "Calculating FWHM: 100%|██████████| 419/419 [00:01<00:00, 333.78it/s]\n"
     ]
    },
    {
     "name": "stdout",
     "output_type": "stream",
     "text": [
      "img16 shape: (2822, 4144), img8 shape: (2822, 4144)\n"
     ]
    },
    {
     "name": "stderr",
     "output_type": "stream",
     "text": [
      "Calculating FWHM: 100%|██████████| 377/377 [00:01<00:00, 333.58it/s]\n"
     ]
    },
    {
     "name": "stdout",
     "output_type": "stream",
     "text": [
      "img16 shape: (2822, 4144), img8 shape: (2822, 4144)\n"
     ]
    },
    {
     "name": "stderr",
     "output_type": "stream",
     "text": [
      "Calculating FWHM: 100%|██████████| 425/425 [00:01<00:00, 333.00it/s]\n"
     ]
    },
    {
     "name": "stdout",
     "output_type": "stream",
     "text": [
      "img16 shape: (2822, 4144), img8 shape: (2822, 4144)\n"
     ]
    },
    {
     "name": "stderr",
     "output_type": "stream",
     "text": [
      "Calculating FWHM: 100%|██████████| 443/443 [00:01<00:00, 308.24it/s]\n"
     ]
    },
    {
     "name": "stdout",
     "output_type": "stream",
     "text": [
      "img16 shape: (2822, 4144), img8 shape: (2822, 4144)\n"
     ]
    },
    {
     "name": "stderr",
     "output_type": "stream",
     "text": [
      "Calculating FWHM: 100%|██████████| 401/401 [00:01<00:00, 316.09it/s]\n"
     ]
    },
    {
     "name": "stdout",
     "output_type": "stream",
     "text": [
      "img16 shape: (2822, 4144), img8 shape: (2822, 4144)\n"
     ]
    },
    {
     "name": "stderr",
     "output_type": "stream",
     "text": [
      "Calculating FWHM: 100%|██████████| 426/426 [00:01<00:00, 323.42it/s]\n"
     ]
    },
    {
     "name": "stdout",
     "output_type": "stream",
     "text": [
      "img16 shape: (2822, 4144), img8 shape: (2822, 4144)\n"
     ]
    },
    {
     "name": "stderr",
     "output_type": "stream",
     "text": [
      "Calculating FWHM: 100%|██████████| 432/432 [00:01<00:00, 337.62it/s]\n"
     ]
    },
    {
     "name": "stdout",
     "output_type": "stream",
     "text": [
      "img16 shape: (2822, 4144), img8 shape: (2822, 4144)\n"
     ]
    },
    {
     "name": "stderr",
     "output_type": "stream",
     "text": [
      "Calculating FWHM: 100%|██████████| 428/428 [00:01<00:00, 315.05it/s]\n"
     ]
    },
    {
     "name": "stdout",
     "output_type": "stream",
     "text": [
      "img16 shape: (2822, 4144), img8 shape: (2822, 4144)\n"
     ]
    },
    {
     "name": "stderr",
     "output_type": "stream",
     "text": [
      "Calculating FWHM: 100%|██████████| 416/416 [00:01<00:00, 317.56it/s]\n"
     ]
    },
    {
     "name": "stdout",
     "output_type": "stream",
     "text": [
      "img16 shape: (2822, 4144), img8 shape: (2822, 4144)\n"
     ]
    },
    {
     "name": "stderr",
     "output_type": "stream",
     "text": [
      "Calculating FWHM: 100%|██████████| 439/439 [00:01<00:00, 336.05it/s]\n"
     ]
    },
    {
     "name": "stdout",
     "output_type": "stream",
     "text": [
      "img16 shape: (2822, 4144), img8 shape: (2822, 4144)\n"
     ]
    },
    {
     "name": "stderr",
     "output_type": "stream",
     "text": [
      "Calculating FWHM: 100%|██████████| 423/423 [00:01<00:00, 319.07it/s]\n"
     ]
    },
    {
     "name": "stdout",
     "output_type": "stream",
     "text": [
      "img16 shape: (2822, 4144), img8 shape: (2822, 4144)\n"
     ]
    },
    {
     "name": "stderr",
     "output_type": "stream",
     "text": [
      "Calculating FWHM: 100%|██████████| 409/409 [00:01<00:00, 311.66it/s]\n"
     ]
    },
    {
     "name": "stdout",
     "output_type": "stream",
     "text": [
      "img16 shape: (2822, 4144), img8 shape: (2822, 4144)\n"
     ]
    },
    {
     "name": "stderr",
     "output_type": "stream",
     "text": [
      "Calculating FWHM: 100%|██████████| 418/418 [00:01<00:00, 334.36it/s]\n"
     ]
    },
    {
     "name": "stdout",
     "output_type": "stream",
     "text": [
      "img16 shape: (2822, 4144), img8 shape: (2822, 4144)\n"
     ]
    },
    {
     "name": "stderr",
     "output_type": "stream",
     "text": [
      "Calculating FWHM: 100%|██████████| 390/390 [00:01<00:00, 316.38it/s]\n"
     ]
    },
    {
     "name": "stdout",
     "output_type": "stream",
     "text": [
      "img16 shape: (2822, 4144), img8 shape: (2822, 4144)\n"
     ]
    },
    {
     "name": "stderr",
     "output_type": "stream",
     "text": [
      "Calculating FWHM: 100%|██████████| 406/406 [00:01<00:00, 310.19it/s]\n"
     ]
    },
    {
     "name": "stdout",
     "output_type": "stream",
     "text": [
      "img16 shape: (2822, 4144), img8 shape: (2822, 4144)\n"
     ]
    },
    {
     "name": "stderr",
     "output_type": "stream",
     "text": [
      "Calculating FWHM: 100%|██████████| 406/406 [00:01<00:00, 320.02it/s]\n"
     ]
    },
    {
     "name": "stdout",
     "output_type": "stream",
     "text": [
      "img16 shape: (2822, 4144), img8 shape: (2822, 4144)\n"
     ]
    },
    {
     "name": "stderr",
     "output_type": "stream",
     "text": [
      "Calculating FWHM: 100%|██████████| 413/413 [00:01<00:00, 332.51it/s]\n"
     ]
    },
    {
     "name": "stdout",
     "output_type": "stream",
     "text": [
      "img16 shape: (2822, 4144), img8 shape: (2822, 4144)\n"
     ]
    },
    {
     "name": "stderr",
     "output_type": "stream",
     "text": [
      "Calculating FWHM: 100%|██████████| 425/425 [00:01<00:00, 337.11it/s]\n"
     ]
    },
    {
     "name": "stdout",
     "output_type": "stream",
     "text": [
      "img16 shape: (2822, 4144), img8 shape: (2822, 4144)\n"
     ]
    },
    {
     "name": "stderr",
     "output_type": "stream",
     "text": [
      "Calculating FWHM: 100%|██████████| 441/441 [00:01<00:00, 337.27it/s]\n"
     ]
    },
    {
     "name": "stdout",
     "output_type": "stream",
     "text": [
      "img16 shape: (2822, 4144), img8 shape: (2822, 4144)\n"
     ]
    },
    {
     "name": "stderr",
     "output_type": "stream",
     "text": [
      "Calculating FWHM: 100%|██████████| 408/408 [00:01<00:00, 324.03it/s]\n"
     ]
    },
    {
     "name": "stdout",
     "output_type": "stream",
     "text": [
      "img16 shape: (2822, 4144), img8 shape: (2822, 4144)\n"
     ]
    },
    {
     "name": "stderr",
     "output_type": "stream",
     "text": [
      "Calculating FWHM: 100%|██████████| 436/436 [00:01<00:00, 337.87it/s]\n"
     ]
    },
    {
     "name": "stdout",
     "output_type": "stream",
     "text": [
      "img16 shape: (2822, 4144), img8 shape: (2822, 4144)\n"
     ]
    },
    {
     "name": "stderr",
     "output_type": "stream",
     "text": [
      "Calculating FWHM: 100%|██████████| 421/421 [00:01<00:00, 299.91it/s]\n"
     ]
    },
    {
     "name": "stdout",
     "output_type": "stream",
     "text": [
      "img16 shape: (2822, 4144), img8 shape: (2822, 4144)\n"
     ]
    },
    {
     "name": "stderr",
     "output_type": "stream",
     "text": [
      "Calculating FWHM: 100%|██████████| 421/421 [00:01<00:00, 314.45it/s]\n"
     ]
    },
    {
     "name": "stdout",
     "output_type": "stream",
     "text": [
      "img16 shape: (2822, 4144), img8 shape: (2822, 4144)\n"
     ]
    },
    {
     "name": "stderr",
     "output_type": "stream",
     "text": [
      "Calculating FWHM: 100%|██████████| 434/434 [00:01<00:00, 313.99it/s]\n"
     ]
    },
    {
     "name": "stdout",
     "output_type": "stream",
     "text": [
      "img16 shape: (2822, 4144), img8 shape: (2822, 4144)\n"
     ]
    },
    {
     "name": "stderr",
     "output_type": "stream",
     "text": [
      "Calculating FWHM: 100%|██████████| 415/415 [00:01<00:00, 318.39it/s]\n"
     ]
    },
    {
     "name": "stdout",
     "output_type": "stream",
     "text": [
      "img16 shape: (2822, 4144), img8 shape: (2822, 4144)\n"
     ]
    },
    {
     "name": "stderr",
     "output_type": "stream",
     "text": [
      "Calculating FWHM: 100%|██████████| 431/431 [00:01<00:00, 325.42it/s]\n"
     ]
    },
    {
     "name": "stdout",
     "output_type": "stream",
     "text": [
      "img16 shape: (2822, 4144), img8 shape: (2822, 4144)\n"
     ]
    },
    {
     "name": "stderr",
     "output_type": "stream",
     "text": [
      "Calculating FWHM: 100%|██████████| 475/475 [00:01<00:00, 330.47it/s]\n"
     ]
    },
    {
     "name": "stdout",
     "output_type": "stream",
     "text": [
      "img16 shape: (2822, 4144), img8 shape: (2822, 4144)\n"
     ]
    },
    {
     "name": "stderr",
     "output_type": "stream",
     "text": [
      "Calculating FWHM: 100%|██████████| 411/411 [00:01<00:00, 322.30it/s]\n"
     ]
    },
    {
     "name": "stdout",
     "output_type": "stream",
     "text": [
      "img16 shape: (2822, 4144), img8 shape: (2822, 4144)\n"
     ]
    },
    {
     "name": "stderr",
     "output_type": "stream",
     "text": [
      "Calculating FWHM: 100%|██████████| 417/417 [00:01<00:00, 305.90it/s]\n"
     ]
    },
    {
     "name": "stdout",
     "output_type": "stream",
     "text": [
      "img16 shape: (2822, 4144), img8 shape: (2822, 4144)\n"
     ]
    },
    {
     "name": "stderr",
     "output_type": "stream",
     "text": [
      "Calculating FWHM: 100%|██████████| 448/448 [00:01<00:00, 341.18it/s]\n"
     ]
    },
    {
     "name": "stdout",
     "output_type": "stream",
     "text": [
      "img16 shape: (2822, 4144), img8 shape: (2822, 4144)\n"
     ]
    },
    {
     "name": "stderr",
     "output_type": "stream",
     "text": [
      "Calculating FWHM: 100%|██████████| 431/431 [00:01<00:00, 329.23it/s]\n"
     ]
    },
    {
     "name": "stdout",
     "output_type": "stream",
     "text": [
      "img16 shape: (2822, 4144), img8 shape: (2822, 4144)\n"
     ]
    },
    {
     "name": "stderr",
     "output_type": "stream",
     "text": [
      "Calculating FWHM: 100%|██████████| 407/407 [00:01<00:00, 318.12it/s]\n"
     ]
    },
    {
     "name": "stdout",
     "output_type": "stream",
     "text": [
      "img16 shape: (2822, 4144), img8 shape: (2822, 4144)\n"
     ]
    },
    {
     "name": "stderr",
     "output_type": "stream",
     "text": [
      "Calculating FWHM: 100%|██████████| 433/433 [00:01<00:00, 342.66it/s]\n"
     ]
    },
    {
     "name": "stdout",
     "output_type": "stream",
     "text": [
      "img16 shape: (2822, 4144), img8 shape: (2822, 4144)\n"
     ]
    },
    {
     "name": "stderr",
     "output_type": "stream",
     "text": [
      "Calculating FWHM: 100%|██████████| 403/403 [00:01<00:00, 318.58it/s]\n"
     ]
    },
    {
     "name": "stdout",
     "output_type": "stream",
     "text": [
      "img16 shape: (2822, 4144), img8 shape: (2822, 4144)\n"
     ]
    },
    {
     "name": "stderr",
     "output_type": "stream",
     "text": [
      "Calculating FWHM: 100%|██████████| 426/426 [00:01<00:00, 323.36it/s]\n"
     ]
    },
    {
     "name": "stdout",
     "output_type": "stream",
     "text": [
      "img16 shape: (2822, 4144), img8 shape: (2822, 4144)\n"
     ]
    },
    {
     "name": "stderr",
     "output_type": "stream",
     "text": [
      "Calculating FWHM: 100%|██████████| 411/411 [00:01<00:00, 316.92it/s]\n"
     ]
    },
    {
     "name": "stdout",
     "output_type": "stream",
     "text": [
      "img16 shape: (2822, 4144), img8 shape: (2822, 4144)\n"
     ]
    },
    {
     "name": "stderr",
     "output_type": "stream",
     "text": [
      "Calculating FWHM: 100%|██████████| 437/437 [00:01<00:00, 329.59it/s]\n"
     ]
    },
    {
     "name": "stdout",
     "output_type": "stream",
     "text": [
      "img16 shape: (2822, 4144), img8 shape: (2822, 4144)\n"
     ]
    },
    {
     "name": "stderr",
     "output_type": "stream",
     "text": [
      "Calculating FWHM: 100%|██████████| 449/449 [00:01<00:00, 328.25it/s]\n"
     ]
    },
    {
     "name": "stdout",
     "output_type": "stream",
     "text": [
      "img16 shape: (2822, 4144), img8 shape: (2822, 4144)\n"
     ]
    },
    {
     "name": "stderr",
     "output_type": "stream",
     "text": [
      "Calculating FWHM: 100%|██████████| 420/420 [00:01<00:00, 325.57it/s]\n"
     ]
    },
    {
     "name": "stdout",
     "output_type": "stream",
     "text": [
      "img16 shape: (2822, 4144), img8 shape: (2822, 4144)\n"
     ]
    },
    {
     "name": "stderr",
     "output_type": "stream",
     "text": [
      "Calculating FWHM: 100%|██████████| 427/427 [00:01<00:00, 310.85it/s]\n"
     ]
    },
    {
     "name": "stdout",
     "output_type": "stream",
     "text": [
      "img16 shape: (2822, 4144), img8 shape: (2822, 4144)\n"
     ]
    },
    {
     "name": "stderr",
     "output_type": "stream",
     "text": [
      "Calculating FWHM: 100%|██████████| 438/438 [00:01<00:00, 324.15it/s]\n"
     ]
    },
    {
     "name": "stdout",
     "output_type": "stream",
     "text": [
      "img16 shape: (2822, 4144), img8 shape: (2822, 4144)\n"
     ]
    },
    {
     "name": "stderr",
     "output_type": "stream",
     "text": [
      "Calculating FWHM: 100%|██████████| 407/407 [00:01<00:00, 321.57it/s]\n"
     ]
    },
    {
     "data": {
      "text/html": [
       "<div>\n",
       "<style scoped>\n",
       "    .dataframe tbody tr th:only-of-type {\n",
       "        vertical-align: middle;\n",
       "    }\n",
       "\n",
       "    .dataframe tbody tr th {\n",
       "        vertical-align: top;\n",
       "    }\n",
       "\n",
       "    .dataframe thead th {\n",
       "        text-align: right;\n",
       "    }\n",
       "</style>\n",
       "<table border=\"1\" class=\"dataframe\">\n",
       "  <thead>\n",
       "    <tr style=\"text-align: right;\">\n",
       "      <th></th>\n",
       "      <th>myfwhm_x</th>\n",
       "      <th>myfwhm_y</th>\n",
       "      <th>myfwhm_ave</th>\n",
       "    </tr>\n",
       "  </thead>\n",
       "  <tbody>\n",
       "    <tr>\n",
       "      <th>0</th>\n",
       "      <td>10.429409</td>\n",
       "      <td>10.398997</td>\n",
       "      <td>10.414203</td>\n",
       "    </tr>\n",
       "    <tr>\n",
       "      <th>1</th>\n",
       "      <td>11.286856</td>\n",
       "      <td>11.289979</td>\n",
       "      <td>11.288418</td>\n",
       "    </tr>\n",
       "    <tr>\n",
       "      <th>2</th>\n",
       "      <td>10.451462</td>\n",
       "      <td>10.377361</td>\n",
       "      <td>10.414412</td>\n",
       "    </tr>\n",
       "    <tr>\n",
       "      <th>3</th>\n",
       "      <td>13.281536</td>\n",
       "      <td>12.747972</td>\n",
       "      <td>13.014754</td>\n",
       "    </tr>\n",
       "    <tr>\n",
       "      <th>4</th>\n",
       "      <td>12.391010</td>\n",
       "      <td>10.100472</td>\n",
       "      <td>11.245741</td>\n",
       "    </tr>\n",
       "    <tr>\n",
       "      <th>...</th>\n",
       "      <td>...</td>\n",
       "      <td>...</td>\n",
       "      <td>...</td>\n",
       "    </tr>\n",
       "    <tr>\n",
       "      <th>69</th>\n",
       "      <td>12.280621</td>\n",
       "      <td>12.079622</td>\n",
       "      <td>12.180121</td>\n",
       "    </tr>\n",
       "    <tr>\n",
       "      <th>70</th>\n",
       "      <td>12.520822</td>\n",
       "      <td>12.528309</td>\n",
       "      <td>12.524566</td>\n",
       "    </tr>\n",
       "    <tr>\n",
       "      <th>71</th>\n",
       "      <td>11.514945</td>\n",
       "      <td>11.574933</td>\n",
       "      <td>11.544939</td>\n",
       "    </tr>\n",
       "    <tr>\n",
       "      <th>72</th>\n",
       "      <td>12.929937</td>\n",
       "      <td>13.144883</td>\n",
       "      <td>13.037410</td>\n",
       "    </tr>\n",
       "    <tr>\n",
       "      <th>73</th>\n",
       "      <td>12.769525</td>\n",
       "      <td>12.543601</td>\n",
       "      <td>12.656563</td>\n",
       "    </tr>\n",
       "  </tbody>\n",
       "</table>\n",
       "<p>74 rows × 3 columns</p>\n",
       "</div>"
      ],
      "text/plain": [
       "     myfwhm_x   myfwhm_y  myfwhm_ave\n",
       "0   10.429409  10.398997   10.414203\n",
       "1   11.286856  11.289979   11.288418\n",
       "2   10.451462  10.377361   10.414412\n",
       "3   13.281536  12.747972   13.014754\n",
       "4   12.391010  10.100472   11.245741\n",
       "..        ...        ...         ...\n",
       "69  12.280621  12.079622   12.180121\n",
       "70  12.520822  12.528309   12.524566\n",
       "71  11.514945  11.574933   11.544939\n",
       "72  12.929937  13.144883   13.037410\n",
       "73  12.769525  12.543601   12.656563\n",
       "\n",
       "[74 rows x 3 columns]"
      ]
     },
     "execution_count": 11,
     "metadata": {},
     "output_type": "execute_result"
    }
   ],
   "source": [
    "cols = df.fit_file.apply(lambda x: ave_fwhm(x))\n",
    "cols"
   ]
  },
  {
   "cell_type": "code",
   "execution_count": 12,
   "metadata": {},
   "outputs": [],
   "source": [
    "df[['my_fwhm_x', 'my_fwhm_y', 'my_fwhm']] = cols"
   ]
  },
  {
   "cell_type": "code",
   "execution_count": 13,
   "metadata": {},
   "outputs": [
    {
     "data": {
      "text/html": [
       "<div>\n",
       "<style scoped>\n",
       "    .dataframe tbody tr th:only-of-type {\n",
       "        vertical-align: middle;\n",
       "    }\n",
       "\n",
       "    .dataframe tbody tr th {\n",
       "        vertical-align: top;\n",
       "    }\n",
       "\n",
       "    .dataframe thead th {\n",
       "        text-align: right;\n",
       "    }\n",
       "</style>\n",
       "<table border=\"1\" class=\"dataframe\">\n",
       "  <thead>\n",
       "    <tr style=\"text-align: right;\">\n",
       "      <th></th>\n",
       "      <th>Index</th>\n",
       "      <th>Approved</th>\n",
       "      <th>Locked</th>\n",
       "      <th>File</th>\n",
       "      <th>Weight</th>\n",
       "      <th>PSF Signal Weight</th>\n",
       "      <th>PSF Power Weight</th>\n",
       "      <th>SNR Weight</th>\n",
       "      <th>FWHM</th>\n",
       "      <th>Eccentricity</th>\n",
       "      <th>...</th>\n",
       "      <th>Noise Ratio</th>\n",
       "      <th>Stars</th>\n",
       "      <th>Star Residual</th>\n",
       "      <th>FWHM Mean Deviation</th>\n",
       "      <th>Eccentricity Mean Deviation</th>\n",
       "      <th>Star Residual Mean Deviation</th>\n",
       "      <th>fit_file</th>\n",
       "      <th>my_fwhm_x</th>\n",
       "      <th>my_fwhm_y</th>\n",
       "      <th>my_fwhm</th>\n",
       "    </tr>\n",
       "  </thead>\n",
       "  <tbody>\n",
       "    <tr>\n",
       "      <th>0</th>\n",
       "      <td>14</td>\n",
       "      <td>True</td>\n",
       "      <td>False</td>\n",
       "      <td>D:/Astro/Objects/C30-NGC7331/subs/Light_00948_...</td>\n",
       "      <td>0.0</td>\n",
       "      <td>776.0</td>\n",
       "      <td>2810000.0</td>\n",
       "      <td>1.80</td>\n",
       "      <td>3.0627</td>\n",
       "      <td>0.4692</td>\n",
       "      <td>...</td>\n",
       "      <td>0.715</td>\n",
       "      <td>458</td>\n",
       "      <td>0.0193</td>\n",
       "      <td>1.1625</td>\n",
       "      <td>0.1532</td>\n",
       "      <td>0.0104</td>\n",
       "      <td>D:\\Astro\\20220922\\C30\\Light\\Light_00948_180.0s...</td>\n",
       "      <td>10.429409</td>\n",
       "      <td>10.398997</td>\n",
       "      <td>10.414203</td>\n",
       "    </tr>\n",
       "    <tr>\n",
       "      <th>1</th>\n",
       "      <td>27</td>\n",
       "      <td>True</td>\n",
       "      <td>False</td>\n",
       "      <td>D:/Astro/Objects/C30-NGC7331/subs/Light_00961_...</td>\n",
       "      <td>0.0</td>\n",
       "      <td>726.0</td>\n",
       "      <td>2490000.0</td>\n",
       "      <td>1.78</td>\n",
       "      <td>3.1120</td>\n",
       "      <td>0.4887</td>\n",
       "      <td>...</td>\n",
       "      <td>0.720</td>\n",
       "      <td>428</td>\n",
       "      <td>0.0198</td>\n",
       "      <td>1.0250</td>\n",
       "      <td>0.1450</td>\n",
       "      <td>0.0109</td>\n",
       "      <td>D:\\Astro\\20220922\\C30\\Light\\Light_00961_180.0s...</td>\n",
       "      <td>11.286856</td>\n",
       "      <td>11.289979</td>\n",
       "      <td>11.288418</td>\n",
       "    </tr>\n",
       "    <tr>\n",
       "      <th>2</th>\n",
       "      <td>21</td>\n",
       "      <td>True</td>\n",
       "      <td>False</td>\n",
       "      <td>D:/Astro/Objects/C30-NGC7331/subs/Light_00955_...</td>\n",
       "      <td>0.0</td>\n",
       "      <td>741.0</td>\n",
       "      <td>2610000.0</td>\n",
       "      <td>1.80</td>\n",
       "      <td>3.1677</td>\n",
       "      <td>0.4720</td>\n",
       "      <td>...</td>\n",
       "      <td>0.718</td>\n",
       "      <td>453</td>\n",
       "      <td>0.0208</td>\n",
       "      <td>1.0185</td>\n",
       "      <td>0.1411</td>\n",
       "      <td>0.0103</td>\n",
       "      <td>D:\\Astro\\20220922\\C30\\Light\\Light_00955_180.0s...</td>\n",
       "      <td>10.451462</td>\n",
       "      <td>10.377361</td>\n",
       "      <td>10.414412</td>\n",
       "    </tr>\n",
       "    <tr>\n",
       "      <th>3</th>\n",
       "      <td>18</td>\n",
       "      <td>True</td>\n",
       "      <td>False</td>\n",
       "      <td>D:/Astro/Objects/C30-NGC7331/subs/Light_00952_...</td>\n",
       "      <td>0.0</td>\n",
       "      <td>759.0</td>\n",
       "      <td>2700000.0</td>\n",
       "      <td>1.81</td>\n",
       "      <td>3.1840</td>\n",
       "      <td>0.4619</td>\n",
       "      <td>...</td>\n",
       "      <td>0.717</td>\n",
       "      <td>447</td>\n",
       "      <td>0.0211</td>\n",
       "      <td>1.0659</td>\n",
       "      <td>0.1480</td>\n",
       "      <td>0.0103</td>\n",
       "      <td>D:\\Astro\\20220922\\C30\\Light\\Light_00952_180.0s...</td>\n",
       "      <td>13.281536</td>\n",
       "      <td>12.747972</td>\n",
       "      <td>13.014754</td>\n",
       "    </tr>\n",
       "    <tr>\n",
       "      <th>4</th>\n",
       "      <td>19</td>\n",
       "      <td>True</td>\n",
       "      <td>False</td>\n",
       "      <td>D:/Astro/Objects/C30-NGC7331/subs/Light_00953_...</td>\n",
       "      <td>0.0</td>\n",
       "      <td>722.0</td>\n",
       "      <td>2460000.0</td>\n",
       "      <td>1.85</td>\n",
       "      <td>3.1876</td>\n",
       "      <td>0.5180</td>\n",
       "      <td>...</td>\n",
       "      <td>0.718</td>\n",
       "      <td>383</td>\n",
       "      <td>0.0226</td>\n",
       "      <td>1.0306</td>\n",
       "      <td>0.1198</td>\n",
       "      <td>0.0103</td>\n",
       "      <td>D:\\Astro\\20220922\\C30\\Light\\Light_00953_180.0s...</td>\n",
       "      <td>12.391010</td>\n",
       "      <td>10.100472</td>\n",
       "      <td>11.245741</td>\n",
       "    </tr>\n",
       "    <tr>\n",
       "      <th>...</th>\n",
       "      <td>...</td>\n",
       "      <td>...</td>\n",
       "      <td>...</td>\n",
       "      <td>...</td>\n",
       "      <td>...</td>\n",
       "      <td>...</td>\n",
       "      <td>...</td>\n",
       "      <td>...</td>\n",
       "      <td>...</td>\n",
       "      <td>...</td>\n",
       "      <td>...</td>\n",
       "      <td>...</td>\n",
       "      <td>...</td>\n",
       "      <td>...</td>\n",
       "      <td>...</td>\n",
       "      <td>...</td>\n",
       "      <td>...</td>\n",
       "      <td>...</td>\n",
       "      <td>...</td>\n",
       "      <td>...</td>\n",
       "      <td>...</td>\n",
       "    </tr>\n",
       "    <tr>\n",
       "      <th>69</th>\n",
       "      <td>54</td>\n",
       "      <td>True</td>\n",
       "      <td>False</td>\n",
       "      <td>D:/Astro/Objects/C30-NGC7331/subs/Light_01310_...</td>\n",
       "      <td>0.0</td>\n",
       "      <td>680.0</td>\n",
       "      <td>2240000.0</td>\n",
       "      <td>1.88</td>\n",
       "      <td>3.9763</td>\n",
       "      <td>0.4168</td>\n",
       "      <td>...</td>\n",
       "      <td>0.726</td>\n",
       "      <td>361</td>\n",
       "      <td>0.0228</td>\n",
       "      <td>1.0214</td>\n",
       "      <td>0.1422</td>\n",
       "      <td>0.0112</td>\n",
       "      <td>D:\\Astro\\20220927\\C30\\Light\\Light_01310_180.0s...</td>\n",
       "      <td>12.280621</td>\n",
       "      <td>12.079622</td>\n",
       "      <td>12.180121</td>\n",
       "    </tr>\n",
       "    <tr>\n",
       "      <th>70</th>\n",
       "      <td>57</td>\n",
       "      <td>True</td>\n",
       "      <td>False</td>\n",
       "      <td>D:/Astro/Objects/C30-NGC7331/subs/Light_01317_...</td>\n",
       "      <td>0.0</td>\n",
       "      <td>657.0</td>\n",
       "      <td>2070000.0</td>\n",
       "      <td>1.88</td>\n",
       "      <td>3.9848</td>\n",
       "      <td>0.4075</td>\n",
       "      <td>...</td>\n",
       "      <td>0.731</td>\n",
       "      <td>351</td>\n",
       "      <td>0.0258</td>\n",
       "      <td>0.9513</td>\n",
       "      <td>0.1372</td>\n",
       "      <td>0.0122</td>\n",
       "      <td>D:\\Astro\\20220927\\C30\\Light\\Light_01317_180.0s...</td>\n",
       "      <td>12.520822</td>\n",
       "      <td>12.528309</td>\n",
       "      <td>12.524566</td>\n",
       "    </tr>\n",
       "    <tr>\n",
       "      <th>71</th>\n",
       "      <td>52</td>\n",
       "      <td>True</td>\n",
       "      <td>False</td>\n",
       "      <td>D:/Astro/Objects/C30-NGC7331/subs/Light_01308_...</td>\n",
       "      <td>0.0</td>\n",
       "      <td>689.0</td>\n",
       "      <td>2300000.0</td>\n",
       "      <td>1.89</td>\n",
       "      <td>3.9939</td>\n",
       "      <td>0.4116</td>\n",
       "      <td>...</td>\n",
       "      <td>0.727</td>\n",
       "      <td>366</td>\n",
       "      <td>0.0225</td>\n",
       "      <td>1.0908</td>\n",
       "      <td>0.1505</td>\n",
       "      <td>0.0109</td>\n",
       "      <td>D:\\Astro\\20220927\\C30\\Light\\Light_01308_180.0s...</td>\n",
       "      <td>11.514945</td>\n",
       "      <td>11.574933</td>\n",
       "      <td>11.544939</td>\n",
       "    </tr>\n",
       "    <tr>\n",
       "      <th>72</th>\n",
       "      <td>56</td>\n",
       "      <td>True</td>\n",
       "      <td>False</td>\n",
       "      <td>D:/Astro/Objects/C30-NGC7331/subs/Light_01312_...</td>\n",
       "      <td>0.0</td>\n",
       "      <td>681.0</td>\n",
       "      <td>2230000.0</td>\n",
       "      <td>1.88</td>\n",
       "      <td>4.0048</td>\n",
       "      <td>0.4207</td>\n",
       "      <td>...</td>\n",
       "      <td>0.728</td>\n",
       "      <td>361</td>\n",
       "      <td>0.0249</td>\n",
       "      <td>0.9815</td>\n",
       "      <td>0.1423</td>\n",
       "      <td>0.0112</td>\n",
       "      <td>D:\\Astro\\20220927\\C30\\Light\\Light_01312_180.0s...</td>\n",
       "      <td>12.929937</td>\n",
       "      <td>13.144883</td>\n",
       "      <td>13.037410</td>\n",
       "    </tr>\n",
       "    <tr>\n",
       "      <th>73</th>\n",
       "      <td>74</td>\n",
       "      <td>True</td>\n",
       "      <td>False</td>\n",
       "      <td>D:/Astro/Objects/C30-NGC7331/subs/Light_01346_...</td>\n",
       "      <td>0.0</td>\n",
       "      <td>540.0</td>\n",
       "      <td>1300000.0</td>\n",
       "      <td>1.78</td>\n",
       "      <td>4.0086</td>\n",
       "      <td>0.3924</td>\n",
       "      <td>...</td>\n",
       "      <td>0.751</td>\n",
       "      <td>330</td>\n",
       "      <td>0.0327</td>\n",
       "      <td>0.7644</td>\n",
       "      <td>0.1213</td>\n",
       "      <td>0.0144</td>\n",
       "      <td>D:\\Astro\\20220927\\C30\\Light\\Light_01346_180.0s...</td>\n",
       "      <td>12.769525</td>\n",
       "      <td>12.543601</td>\n",
       "      <td>12.656563</td>\n",
       "    </tr>\n",
       "  </tbody>\n",
       "</table>\n",
       "<p>74 rows × 25 columns</p>\n",
       "</div>"
      ],
      "text/plain": [
       "    Index  Approved  Locked   \n",
       "0      14      True   False  \\\n",
       "1      27      True   False   \n",
       "2      21      True   False   \n",
       "3      18      True   False   \n",
       "4      19      True   False   \n",
       "..    ...       ...     ...   \n",
       "69     54      True   False   \n",
       "70     57      True   False   \n",
       "71     52      True   False   \n",
       "72     56      True   False   \n",
       "73     74      True   False   \n",
       "\n",
       "                                                 File  Weight   \n",
       "0   D:/Astro/Objects/C30-NGC7331/subs/Light_00948_...     0.0  \\\n",
       "1   D:/Astro/Objects/C30-NGC7331/subs/Light_00961_...     0.0   \n",
       "2   D:/Astro/Objects/C30-NGC7331/subs/Light_00955_...     0.0   \n",
       "3   D:/Astro/Objects/C30-NGC7331/subs/Light_00952_...     0.0   \n",
       "4   D:/Astro/Objects/C30-NGC7331/subs/Light_00953_...     0.0   \n",
       "..                                                ...     ...   \n",
       "69  D:/Astro/Objects/C30-NGC7331/subs/Light_01310_...     0.0   \n",
       "70  D:/Astro/Objects/C30-NGC7331/subs/Light_01317_...     0.0   \n",
       "71  D:/Astro/Objects/C30-NGC7331/subs/Light_01308_...     0.0   \n",
       "72  D:/Astro/Objects/C30-NGC7331/subs/Light_01312_...     0.0   \n",
       "73  D:/Astro/Objects/C30-NGC7331/subs/Light_01346_...     0.0   \n",
       "\n",
       "    PSF Signal Weight  PSF Power Weight  SNR Weight    FWHM  Eccentricity   \n",
       "0               776.0         2810000.0        1.80  3.0627        0.4692  \\\n",
       "1               726.0         2490000.0        1.78  3.1120        0.4887   \n",
       "2               741.0         2610000.0        1.80  3.1677        0.4720   \n",
       "3               759.0         2700000.0        1.81  3.1840        0.4619   \n",
       "4               722.0         2460000.0        1.85  3.1876        0.5180   \n",
       "..                ...               ...         ...     ...           ...   \n",
       "69              680.0         2240000.0        1.88  3.9763        0.4168   \n",
       "70              657.0         2070000.0        1.88  3.9848        0.4075   \n",
       "71              689.0         2300000.0        1.89  3.9939        0.4116   \n",
       "72              681.0         2230000.0        1.88  4.0048        0.4207   \n",
       "73              540.0         1300000.0        1.78  4.0086        0.3924   \n",
       "\n",
       "    ...  Noise Ratio  Stars  Star Residual  FWHM Mean Deviation   \n",
       "0   ...        0.715    458         0.0193               1.1625  \\\n",
       "1   ...        0.720    428         0.0198               1.0250   \n",
       "2   ...        0.718    453         0.0208               1.0185   \n",
       "3   ...        0.717    447         0.0211               1.0659   \n",
       "4   ...        0.718    383         0.0226               1.0306   \n",
       "..  ...          ...    ...            ...                  ...   \n",
       "69  ...        0.726    361         0.0228               1.0214   \n",
       "70  ...        0.731    351         0.0258               0.9513   \n",
       "71  ...        0.727    366         0.0225               1.0908   \n",
       "72  ...        0.728    361         0.0249               0.9815   \n",
       "73  ...        0.751    330         0.0327               0.7644   \n",
       "\n",
       "    Eccentricity Mean Deviation  Star Residual Mean Deviation   \n",
       "0                        0.1532                        0.0104  \\\n",
       "1                        0.1450                        0.0109   \n",
       "2                        0.1411                        0.0103   \n",
       "3                        0.1480                        0.0103   \n",
       "4                        0.1198                        0.0103   \n",
       "..                          ...                           ...   \n",
       "69                       0.1422                        0.0112   \n",
       "70                       0.1372                        0.0122   \n",
       "71                       0.1505                        0.0109   \n",
       "72                       0.1423                        0.0112   \n",
       "73                       0.1213                        0.0144   \n",
       "\n",
       "                                             fit_file  my_fwhm_x  my_fwhm_y   \n",
       "0   D:\\Astro\\20220922\\C30\\Light\\Light_00948_180.0s...  10.429409  10.398997  \\\n",
       "1   D:\\Astro\\20220922\\C30\\Light\\Light_00961_180.0s...  11.286856  11.289979   \n",
       "2   D:\\Astro\\20220922\\C30\\Light\\Light_00955_180.0s...  10.451462  10.377361   \n",
       "3   D:\\Astro\\20220922\\C30\\Light\\Light_00952_180.0s...  13.281536  12.747972   \n",
       "4   D:\\Astro\\20220922\\C30\\Light\\Light_00953_180.0s...  12.391010  10.100472   \n",
       "..                                                ...        ...        ...   \n",
       "69  D:\\Astro\\20220927\\C30\\Light\\Light_01310_180.0s...  12.280621  12.079622   \n",
       "70  D:\\Astro\\20220927\\C30\\Light\\Light_01317_180.0s...  12.520822  12.528309   \n",
       "71  D:\\Astro\\20220927\\C30\\Light\\Light_01308_180.0s...  11.514945  11.574933   \n",
       "72  D:\\Astro\\20220927\\C30\\Light\\Light_01312_180.0s...  12.929937  13.144883   \n",
       "73  D:\\Astro\\20220927\\C30\\Light\\Light_01346_180.0s...  12.769525  12.543601   \n",
       "\n",
       "      my_fwhm  \n",
       "0   10.414203  \n",
       "1   11.288418  \n",
       "2   10.414412  \n",
       "3   13.014754  \n",
       "4   11.245741  \n",
       "..        ...  \n",
       "69  12.180121  \n",
       "70  12.524566  \n",
       "71  11.544939  \n",
       "72  13.037410  \n",
       "73  12.656563  \n",
       "\n",
       "[74 rows x 25 columns]"
      ]
     },
     "execution_count": 13,
     "metadata": {},
     "output_type": "execute_result"
    }
   ],
   "source": [
    "df"
   ]
  },
  {
   "cell_type": "code",
   "execution_count": 14,
   "metadata": {},
   "outputs": [
    {
     "name": "stdout",
     "output_type": "stream",
     "text": [
      "[ 0.02198651 11.25474828]\n",
      "[0.01150596 3.2193    ]\n"
     ]
    },
    {
     "data": {
      "image/png": "[encoded data removed]",
      "text/plain": [
       "<Figure size 640x480 with 1 Axes>"
      ]
     },
     "metadata": {},
     "output_type": "display_data"
    }
   ],
   "source": [
    "import numpy as np\n",
    "plt.plot(df.FWHM)\n",
    "plt.plot(df.my_fwhm)\n",
    "# plt.plot(df.my_fwhm_y-6.5)\n",
    "# plt.plot(df.my_fwhm-6.5)\n",
    "\n",
    "z = np.polyfit(df.index, df.my_fwhm, 1)\n",
    "print(z)\n",
    "p = np.poly1d(z)\n",
    "# add trendline to plot\n",
    "plt.plot(df.index, p(df.index))\n",
    "\n",
    "z = np.polyfit(df.index, df.FWHM, 1)\n",
    "print(z)\n",
    "p = np.poly1d(z)\n",
    "# add trendline to plot\n",
    "plt.plot(df.index, p(df.index))\n",
    "\n",
    "plt.show()"
   ]
  },
  {
   "cell_type": "code",
   "execution_count": 15,
   "metadata": {},
   "outputs": [
    {
     "data": {
      "text/html": [
       "<div>\n",
       "<style scoped>\n",
       "    .dataframe tbody tr th:only-of-type {\n",
       "        vertical-align: middle;\n",
       "    }\n",
       "\n",
       "    .dataframe tbody tr th {\n",
       "        vertical-align: top;\n",
       "    }\n",
       "\n",
       "    .dataframe thead th {\n",
       "        text-align: right;\n",
       "    }\n",
       "</style>\n",
       "<table border=\"1\" class=\"dataframe\">\n",
       "  <thead>\n",
       "    <tr style=\"text-align: right;\">\n",
       "      <th></th>\n",
       "      <th>area</th>\n",
       "      <th>cluster_cx</th>\n",
       "      <th>cluster_cy</th>\n",
       "      <th>iwc_cx</th>\n",
       "      <th>iwc_cy</th>\n",
       "      <th>gaussian_cx</th>\n",
       "      <th>gaussian_cy</th>\n",
       "      <th>box</th>\n",
       "      <th>tile_4</th>\n",
       "      <th>tile_32</th>\n",
       "      <th>fwhm_x</th>\n",
       "      <th>fwhm_y</th>\n",
       "    </tr>\n",
       "  </thead>\n",
       "  <tbody>\n",
       "    <tr>\n",
       "      <th>0</th>\n",
       "      <td>330</td>\n",
       "      <td>632.930303</td>\n",
       "      <td>2051.966667</td>\n",
       "      <td>22.000977</td>\n",
       "      <td>18.000977</td>\n",
       "      <td>19.445930</td>\n",
       "      <td>22.883351</td>\n",
       "      <td>[611, 2032, 654, 2071]</td>\n",
       "      <td>531626</td>\n",
       "      <td>8340</td>\n",
       "      <td>8.337355</td>\n",
       "      <td>9.019000</td>\n",
       "    </tr>\n",
       "    <tr>\n",
       "      <th>1</th>\n",
       "      <td>323</td>\n",
       "      <td>3669.024768</td>\n",
       "      <td>2181.693498</td>\n",
       "      <td>18.000977</td>\n",
       "      <td>18.000977</td>\n",
       "      <td>19.680262</td>\n",
       "      <td>18.854735</td>\n",
       "      <td>[3649, 2162, 3690, 2201]</td>\n",
       "      <td>565537</td>\n",
       "      <td>8955</td>\n",
       "      <td>10.661034</td>\n",
       "      <td>10.624041</td>\n",
       "    </tr>\n",
       "    <tr>\n",
       "      <th>2</th>\n",
       "      <td>313</td>\n",
       "      <td>3514.498403</td>\n",
       "      <td>2016.651757</td>\n",
       "      <td>17.000977</td>\n",
       "      <td>18.000977</td>\n",
       "      <td>19.475557</td>\n",
       "      <td>18.278973</td>\n",
       "      <td>[3495, 1997, 3534, 2036]</td>\n",
       "      <td>523023</td>\n",
       "      <td>8300</td>\n",
       "      <td>11.263100</td>\n",
       "      <td>10.704717</td>\n",
       "    </tr>\n",
       "    <tr>\n",
       "      <th>3</th>\n",
       "      <td>311</td>\n",
       "      <td>3660.774920</td>\n",
       "      <td>445.263666</td>\n",
       "      <td>19.000977</td>\n",
       "      <td>18.000977</td>\n",
       "      <td>18.534161</td>\n",
       "      <td>19.843707</td>\n",
       "      <td>[3640, 427, 3681, 464]</td>\n",
       "      <td>115911</td>\n",
       "      <td>1934</td>\n",
       "      <td>11.503017</td>\n",
       "      <td>10.919182</td>\n",
       "    </tr>\n",
       "    <tr>\n",
       "      <th>4</th>\n",
       "      <td>308</td>\n",
       "      <td>1898.061688</td>\n",
       "      <td>2160.506494</td>\n",
       "      <td>18.000977</td>\n",
       "      <td>19.000977</td>\n",
       "      <td>19.645572</td>\n",
       "      <td>17.729837</td>\n",
       "      <td>[1880, 2140, 1917, 2181]</td>\n",
       "      <td>559915</td>\n",
       "      <td>8899</td>\n",
       "      <td>9.717917</td>\n",
       "      <td>10.065953</td>\n",
       "    </tr>\n",
       "    <tr>\n",
       "      <th>5</th>\n",
       "      <td>305</td>\n",
       "      <td>814.413115</td>\n",
       "      <td>139.524590</td>\n",
       "      <td>17.000977</td>\n",
       "      <td>20.000977</td>\n",
       "      <td>20.760033</td>\n",
       "      <td>17.477041</td>\n",
       "      <td>[797, 119, 832, 160]</td>\n",
       "      <td>36464</td>\n",
       "      <td>545</td>\n",
       "      <td>13.797493</td>\n",
       "      <td>15.959861</td>\n",
       "    </tr>\n",
       "    <tr>\n",
       "      <th>6</th>\n",
       "      <td>304</td>\n",
       "      <td>3332.641447</td>\n",
       "      <td>106.085526</td>\n",
       "      <td>19.000977</td>\n",
       "      <td>18.000977</td>\n",
       "      <td>18.314829</td>\n",
       "      <td>20.185398</td>\n",
       "      <td>[3312, 88, 3353, 125]</td>\n",
       "      <td>28805</td>\n",
       "      <td>494</td>\n",
       "      <td>13.387562</td>\n",
       "      <td>11.769476</td>\n",
       "    </tr>\n",
       "    <tr>\n",
       "      <th>7</th>\n",
       "      <td>304</td>\n",
       "      <td>3820.562500</td>\n",
       "      <td>1139.243421</td>\n",
       "      <td>18.000977</td>\n",
       "      <td>18.000977</td>\n",
       "      <td>19.445197</td>\n",
       "      <td>18.350336</td>\n",
       "      <td>[3801, 1120, 3840, 1159]</td>\n",
       "      <td>296215</td>\n",
       "      <td>4799</td>\n",
       "      <td>11.044797</td>\n",
       "      <td>11.195841</td>\n",
       "    </tr>\n",
       "    <tr>\n",
       "      <th>8</th>\n",
       "      <td>302</td>\n",
       "      <td>625.692053</td>\n",
       "      <td>354.033113</td>\n",
       "      <td>18.000977</td>\n",
       "      <td>20.000977</td>\n",
       "      <td>20.443636</td>\n",
       "      <td>18.572477</td>\n",
       "      <td>[607, 334, 644, 375]</td>\n",
       "      <td>92360</td>\n",
       "      <td>1450</td>\n",
       "      <td>9.402102</td>\n",
       "      <td>10.900787</td>\n",
       "    </tr>\n",
       "    <tr>\n",
       "      <th>9</th>\n",
       "      <td>299</td>\n",
       "      <td>1726.210702</td>\n",
       "      <td>2067.173913</td>\n",
       "      <td>18.000977</td>\n",
       "      <td>18.000977</td>\n",
       "      <td>18.568716</td>\n",
       "      <td>18.106730</td>\n",
       "      <td>[1708, 2048, 1745, 2087]</td>\n",
       "      <td>536044</td>\n",
       "      <td>8504</td>\n",
       "      <td>11.669707</td>\n",
       "      <td>12.298536</td>\n",
       "    </tr>\n",
       "    <tr>\n",
       "      <th>10</th>\n",
       "      <td>298</td>\n",
       "      <td>3736.630872</td>\n",
       "      <td>1777.291946</td>\n",
       "      <td>17.000977</td>\n",
       "      <td>17.000977</td>\n",
       "      <td>18.286146</td>\n",
       "      <td>18.263620</td>\n",
       "      <td>[3717, 1759, 3756, 1796]</td>\n",
       "      <td>460918</td>\n",
       "      <td>7397</td>\n",
       "      <td>9.154693</td>\n",
       "      <td>9.408278</td>\n",
       "    </tr>\n",
       "    <tr>\n",
       "      <th>11</th>\n",
       "      <td>297</td>\n",
       "      <td>1570.498316</td>\n",
       "      <td>2161.121212</td>\n",
       "      <td>18.000977</td>\n",
       "      <td>18.000977</td>\n",
       "      <td>18.288809</td>\n",
       "      <td>18.718071</td>\n",
       "      <td>[1552, 2142, 1589, 2181]</td>\n",
       "      <td>559833</td>\n",
       "      <td>8889</td>\n",
       "      <td>8.515209</td>\n",
       "      <td>9.025345</td>\n",
       "    </tr>\n",
       "    <tr>\n",
       "      <th>12</th>\n",
       "      <td>293</td>\n",
       "      <td>2334.399317</td>\n",
       "      <td>2798.215017</td>\n",
       "      <td>18.000977</td>\n",
       "      <td>17.000977</td>\n",
       "      <td>17.711141</td>\n",
       "      <td>17.349780</td>\n",
       "      <td>[2316, 2779, 2353, 2818]</td>\n",
       "      <td>725784</td>\n",
       "      <td>11383</td>\n",
       "      <td>9.256887</td>\n",
       "      <td>8.892015</td>\n",
       "    </tr>\n",
       "    <tr>\n",
       "      <th>13</th>\n",
       "      <td>290</td>\n",
       "      <td>3270.093103</td>\n",
       "      <td>2469.662069</td>\n",
       "      <td>18.000977</td>\n",
       "      <td>16.000977</td>\n",
       "      <td>17.341472</td>\n",
       "      <td>18.301854</td>\n",
       "      <td>[3251, 2452, 3290, 2487]</td>\n",
       "      <td>640030</td>\n",
       "      <td>10112</td>\n",
       "      <td>13.602205</td>\n",
       "      <td>11.254165</td>\n",
       "    </tr>\n",
       "    <tr>\n",
       "      <th>14</th>\n",
       "      <td>284</td>\n",
       "      <td>3632.929577</td>\n",
       "      <td>644.235915</td>\n",
       "      <td>20.000977</td>\n",
       "      <td>16.000977</td>\n",
       "      <td>17.171214</td>\n",
       "      <td>19.471178</td>\n",
       "      <td>[3612, 627, 3653, 662]</td>\n",
       "      <td>167704</td>\n",
       "      <td>2714</td>\n",
       "      <td>9.197308</td>\n",
       "      <td>8.734171</td>\n",
       "    </tr>\n",
       "    <tr>\n",
       "      <th>15</th>\n",
       "      <td>284</td>\n",
       "      <td>3257.390845</td>\n",
       "      <td>770.651408</td>\n",
       "      <td>17.000977</td>\n",
       "      <td>18.000977</td>\n",
       "      <td>19.961908</td>\n",
       "      <td>16.652669</td>\n",
       "      <td>[3239, 752, 3276, 789]</td>\n",
       "      <td>200762</td>\n",
       "      <td>3222</td>\n",
       "      <td>9.663821</td>\n",
       "      <td>8.660048</td>\n",
       "    </tr>\n",
       "    <tr>\n",
       "      <th>16</th>\n",
       "      <td>281</td>\n",
       "      <td>1059.096085</td>\n",
       "      <td>2264.928826</td>\n",
       "      <td>17.000977</td>\n",
       "      <td>18.000977</td>\n",
       "      <td>18.652533</td>\n",
       "      <td>17.761164</td>\n",
       "      <td>[1042, 2245, 1077, 2284]</td>\n",
       "      <td>586641</td>\n",
       "      <td>9263</td>\n",
       "      <td>7.528624</td>\n",
       "      <td>8.234392</td>\n",
       "    </tr>\n",
       "    <tr>\n",
       "      <th>17</th>\n",
       "      <td>265</td>\n",
       "      <td>3008.966038</td>\n",
       "      <td>1824.324528</td>\n",
       "      <td>19.000977</td>\n",
       "      <td>15.000977</td>\n",
       "      <td>15.731615</td>\n",
       "      <td>17.952275</td>\n",
       "      <td>[2989, 1808, 3028, 1841]</td>\n",
       "      <td>473168</td>\n",
       "      <td>7504</td>\n",
       "      <td>9.678700</td>\n",
       "      <td>8.581111</td>\n",
       "    </tr>\n",
       "    <tr>\n",
       "      <th>18</th>\n",
       "      <td>263</td>\n",
       "      <td>1952.403042</td>\n",
       "      <td>6.684411</td>\n",
       "      <td>19.000977</td>\n",
       "      <td>10.000977</td>\n",
       "      <td>5.460859</td>\n",
       "      <td>19.012105</td>\n",
       "      <td>[1933, 0, 1972, 23]</td>\n",
       "      <td>2560</td>\n",
       "      <td>61</td>\n",
       "      <td>9.817638</td>\n",
       "      <td>11.954265</td>\n",
       "    </tr>\n",
       "    <tr>\n",
       "      <th>19</th>\n",
       "      <td>262</td>\n",
       "      <td>3287.374046</td>\n",
       "      <td>1120.824427</td>\n",
       "      <td>19.000977</td>\n",
       "      <td>16.000977</td>\n",
       "      <td>17.151265</td>\n",
       "      <td>17.756798</td>\n",
       "      <td>[3268, 1104, 3307, 1137]</td>\n",
       "      <td>290902</td>\n",
       "      <td>4653</td>\n",
       "      <td>11.389003</td>\n",
       "      <td>9.778763</td>\n",
       "    </tr>\n",
       "    <tr>\n",
       "      <th>20</th>\n",
       "      <td>260</td>\n",
       "      <td>1923.946154</td>\n",
       "      <td>954.450000</td>\n",
       "      <td>17.000977</td>\n",
       "      <td>18.000977</td>\n",
       "      <td>19.432514</td>\n",
       "      <td>17.476484</td>\n",
       "      <td>[1906, 936, 1941, 973]</td>\n",
       "      <td>248085</td>\n",
       "      <td>3960</td>\n",
       "      <td>7.926015</td>\n",
       "      <td>8.301806</td>\n",
       "    </tr>\n",
       "    <tr>\n",
       "      <th>21</th>\n",
       "      <td>249</td>\n",
       "      <td>2128.285141</td>\n",
       "      <td>131.694779</td>\n",
       "      <td>16.000977</td>\n",
       "      <td>18.000977</td>\n",
       "      <td>20.181347</td>\n",
       "      <td>15.894070</td>\n",
       "      <td>[2112, 113, 2145, 150]</td>\n",
       "      <td>34720</td>\n",
       "      <td>587</td>\n",
       "      <td>8.392219</td>\n",
       "      <td>9.599409</td>\n",
       "    </tr>\n",
       "    <tr>\n",
       "      <th>22</th>\n",
       "      <td>248</td>\n",
       "      <td>1146.169355</td>\n",
       "      <td>2129.290323</td>\n",
       "      <td>17.000977</td>\n",
       "      <td>16.000977</td>\n",
       "      <td>16.701321</td>\n",
       "      <td>17.938148</td>\n",
       "      <td>[1129, 2112, 1164, 2147]</td>\n",
       "      <td>551439</td>\n",
       "      <td>8746</td>\n",
       "      <td>7.812905</td>\n",
       "      <td>8.375216</td>\n",
       "    </tr>\n",
       "    <tr>\n",
       "      <th>23</th>\n",
       "      <td>247</td>\n",
       "      <td>3155.619433</td>\n",
       "      <td>1429.663968</td>\n",
       "      <td>18.000977</td>\n",
       "      <td>15.000977</td>\n",
       "      <td>16.644195</td>\n",
       "      <td>16.844881</td>\n",
       "      <td>[3137, 1413, 3174, 1446]</td>\n",
       "      <td>370641</td>\n",
       "      <td>5949</td>\n",
       "      <td>9.963156</td>\n",
       "      <td>8.620724</td>\n",
       "    </tr>\n",
       "    <tr>\n",
       "      <th>24</th>\n",
       "      <td>243</td>\n",
       "      <td>2851.148148</td>\n",
       "      <td>2254.275720</td>\n",
       "      <td>16.000977</td>\n",
       "      <td>15.000977</td>\n",
       "      <td>15.306839</td>\n",
       "      <td>15.288714</td>\n",
       "      <td>[2834, 2238, 2869, 2271]</td>\n",
       "      <td>585017</td>\n",
       "      <td>9189</td>\n",
       "      <td>9.259394</td>\n",
       "      <td>8.376372</td>\n",
       "    </tr>\n",
       "    <tr>\n",
       "      <th>25</th>\n",
       "      <td>242</td>\n",
       "      <td>1456.351240</td>\n",
       "      <td>2748.454545</td>\n",
       "      <td>15.000977</td>\n",
       "      <td>16.000977</td>\n",
       "      <td>16.299768</td>\n",
       "      <td>16.078634</td>\n",
       "      <td>[1440, 2731, 1473, 2766]</td>\n",
       "      <td>712096</td>\n",
       "      <td>11226</td>\n",
       "      <td>7.479629</td>\n",
       "      <td>7.978203</td>\n",
       "    </tr>\n",
       "    <tr>\n",
       "      <th>26</th>\n",
       "      <td>240</td>\n",
       "      <td>2895.112500</td>\n",
       "      <td>2060.183333</td>\n",
       "      <td>16.000977</td>\n",
       "      <td>15.000977</td>\n",
       "      <td>15.530566</td>\n",
       "      <td>15.961081</td>\n",
       "      <td>[2878, 2044, 2913, 2077]</td>\n",
       "      <td>534264</td>\n",
       "      <td>8410</td>\n",
       "      <td>21.728462</td>\n",
       "      <td>20.126422</td>\n",
       "    </tr>\n",
       "    <tr>\n",
       "      <th>27</th>\n",
       "      <td>239</td>\n",
       "      <td>3056.205021</td>\n",
       "      <td>733.853556</td>\n",
       "      <td>17.000977</td>\n",
       "      <td>15.000977</td>\n",
       "      <td>17.185935</td>\n",
       "      <td>16.194171</td>\n",
       "      <td>[3039, 717, 3074, 750]</td>\n",
       "      <td>190352</td>\n",
       "      <td>3086</td>\n",
       "      <td>24.810826</td>\n",
       "      <td>23.524112</td>\n",
       "    </tr>\n",
       "    <tr>\n",
       "      <th>28</th>\n",
       "      <td>239</td>\n",
       "      <td>3015.142259</td>\n",
       "      <td>2230.322176</td>\n",
       "      <td>17.000977</td>\n",
       "      <td>15.000977</td>\n",
       "      <td>15.440499</td>\n",
       "      <td>15.409488</td>\n",
       "      <td>[2998, 2214, 3033, 2247]</td>\n",
       "      <td>578842</td>\n",
       "      <td>9194</td>\n",
       "      <td>11.283041</td>\n",
       "      <td>10.172422</td>\n",
       "    </tr>\n",
       "    <tr>\n",
       "      <th>29</th>\n",
       "      <td>238</td>\n",
       "      <td>1473.663866</td>\n",
       "      <td>818.075630</td>\n",
       "      <td>16.000977</td>\n",
       "      <td>16.000977</td>\n",
       "      <td>17.899338</td>\n",
       "      <td>16.998246</td>\n",
       "      <td>[1457, 801, 1490, 836]</td>\n",
       "      <td>212748</td>\n",
       "      <td>3426</td>\n",
       "      <td>7.048760</td>\n",
       "      <td>7.529877</td>\n",
       "    </tr>\n",
       "    <tr>\n",
       "      <th>30</th>\n",
       "      <td>235</td>\n",
       "      <td>1120.536170</td>\n",
       "      <td>1727.404255</td>\n",
       "      <td>16.000977</td>\n",
       "      <td>15.000977</td>\n",
       "      <td>16.125938</td>\n",
       "      <td>17.437369</td>\n",
       "      <td>[1104, 1711, 1137, 1744]</td>\n",
       "      <td>447832</td>\n",
       "      <td>7055</td>\n",
       "      <td>7.278461</td>\n",
       "      <td>7.615577</td>\n",
       "    </tr>\n",
       "    <tr>\n",
       "      <th>31</th>\n",
       "      <td>234</td>\n",
       "      <td>2353.136752</td>\n",
       "      <td>2626.175214</td>\n",
       "      <td>16.000977</td>\n",
       "      <td>15.000977</td>\n",
       "      <td>14.861271</td>\n",
       "      <td>15.771600</td>\n",
       "      <td>[2336, 2610, 2371, 2643]</td>\n",
       "      <td>681240</td>\n",
       "      <td>10734</td>\n",
       "      <td>8.824379</td>\n",
       "      <td>8.639924</td>\n",
       "    </tr>\n",
       "    <tr>\n",
       "      <th>32</th>\n",
       "      <td>232</td>\n",
       "      <td>1498.267241</td>\n",
       "      <td>1653.625000</td>\n",
       "      <td>16.000977</td>\n",
       "      <td>15.000977</td>\n",
       "      <td>16.788737</td>\n",
       "      <td>16.402984</td>\n",
       "      <td>[1482, 1637, 1515, 1670]</td>\n",
       "      <td>428243</td>\n",
       "      <td>6807</td>\n",
       "      <td>7.822119</td>\n",
       "      <td>7.985989</td>\n",
       "    </tr>\n",
       "    <tr>\n",
       "      <th>33</th>\n",
       "      <td>231</td>\n",
       "      <td>4087.112554</td>\n",
       "      <td>926.952381</td>\n",
       "      <td>14.000977</td>\n",
       "      <td>16.000977</td>\n",
       "      <td>17.459436</td>\n",
       "      <td>15.502998</td>\n",
       "      <td>[4071, 909, 4104, 944]</td>\n",
       "      <td>241374</td>\n",
       "      <td>3898</td>\n",
       "      <td>34.000647</td>\n",
       "      <td>36.238150</td>\n",
       "    </tr>\n",
       "    <tr>\n",
       "      <th>34</th>\n",
       "      <td>226</td>\n",
       "      <td>2527.309735</td>\n",
       "      <td>889.663717</td>\n",
       "      <td>15.000977</td>\n",
       "      <td>15.000977</td>\n",
       "      <td>17.333236</td>\n",
       "      <td>14.518491</td>\n",
       "      <td>[2511, 873, 2544, 906]</td>\n",
       "      <td>230624</td>\n",
       "      <td>3719</td>\n",
       "      <td>7.687586</td>\n",
       "      <td>7.470129</td>\n",
       "    </tr>\n",
       "    <tr>\n",
       "      <th>35</th>\n",
       "      <td>224</td>\n",
       "      <td>2894.419643</td>\n",
       "      <td>2535.433036</td>\n",
       "      <td>16.000977</td>\n",
       "      <td>16.000977</td>\n",
       "      <td>15.350222</td>\n",
       "      <td>14.750111</td>\n",
       "      <td>[2878, 2519, 2911, 2552]</td>\n",
       "      <td>657548</td>\n",
       "      <td>10360</td>\n",
       "      <td>9.644270</td>\n",
       "      <td>8.719532</td>\n",
       "    </tr>\n",
       "    <tr>\n",
       "      <th>36</th>\n",
       "      <td>223</td>\n",
       "      <td>2766.654709</td>\n",
       "      <td>2495.143498</td>\n",
       "      <td>16.000977</td>\n",
       "      <td>15.000977</td>\n",
       "      <td>15.418124</td>\n",
       "      <td>15.733676</td>\n",
       "      <td>[2750, 2479, 2783, 2512]</td>\n",
       "      <td>647156</td>\n",
       "      <td>10226</td>\n",
       "      <td>25.473174</td>\n",
       "      <td>25.229607</td>\n",
       "    </tr>\n",
       "    <tr>\n",
       "      <th>37</th>\n",
       "      <td>221</td>\n",
       "      <td>3856.113122</td>\n",
       "      <td>1692.597285</td>\n",
       "      <td>14.000977</td>\n",
       "      <td>15.000977</td>\n",
       "      <td>16.163158</td>\n",
       "      <td>15.506480</td>\n",
       "      <td>[3840, 1676, 3873, 1709]</td>\n",
       "      <td>439192</td>\n",
       "      <td>7011</td>\n",
       "      <td>31.643543</td>\n",
       "      <td>31.734554</td>\n",
       "    </tr>\n",
       "    <tr>\n",
       "      <th>38</th>\n",
       "      <td>218</td>\n",
       "      <td>3635.830275</td>\n",
       "      <td>1022.807339</td>\n",
       "      <td>16.000977</td>\n",
       "      <td>16.000977</td>\n",
       "      <td>16.735699</td>\n",
       "      <td>15.877098</td>\n",
       "      <td>[3619, 1006, 3652, 1039]</td>\n",
       "      <td>266125</td>\n",
       "      <td>4274</td>\n",
       "      <td>29.913210</td>\n",
       "      <td>29.510737</td>\n",
       "    </tr>\n",
       "    <tr>\n",
       "      <th>39</th>\n",
       "      <td>215</td>\n",
       "      <td>3271.511628</td>\n",
       "      <td>56.572093</td>\n",
       "      <td>15.000977</td>\n",
       "      <td>15.000977</td>\n",
       "      <td>15.846881</td>\n",
       "      <td>15.796427</td>\n",
       "      <td>[3255, 41, 3288, 72]</td>\n",
       "      <td>15322</td>\n",
       "      <td>362</td>\n",
       "      <td>20.476924</td>\n",
       "      <td>19.040310</td>\n",
       "    </tr>\n",
       "  </tbody>\n",
       "</table>\n",
       "</div>"
      ],
      "text/plain": [
       "    area   cluster_cx   cluster_cy     iwc_cx     iwc_cy  gaussian_cx   \n",
       "0    330   632.930303  2051.966667  22.000977  18.000977    19.445930  \\\n",
       "1    323  3669.024768  2181.693498  18.000977  18.000977    19.680262   \n",
       "2    313  3514.498403  2016.651757  17.000977  18.000977    19.475557   \n",
       "3    311  3660.774920   445.263666  19.000977  18.000977    18.534161   \n",
       "4    308  1898.061688  2160.506494  18.000977  19.000977    19.645572   \n",
       "5    305   814.413115   139.524590  17.000977  20.000977    20.760033   \n",
       "6    304  3332.641447   106.085526  19.000977  18.000977    18.314829   \n",
       "7    304  3820.562500  1139.243421  18.000977  18.000977    19.445197   \n",
       "8    302   625.692053   354.033113  18.000977  20.000977    20.443636   \n",
       "9    299  1726.210702  2067.173913  18.000977  18.000977    18.568716   \n",
       "10   298  3736.630872  1777.291946  17.000977  17.000977    18.286146   \n",
       "11   297  1570.498316  2161.121212  18.000977  18.000977    18.288809   \n",
       "12   293  2334.399317  2798.215017  18.000977  17.000977    17.711141   \n",
       "13   290  3270.093103  2469.662069  18.000977  16.000977    17.341472   \n",
       "14   284  3632.929577   644.235915  20.000977  16.000977    17.171214   \n",
       "15   284  3257.390845   770.651408  17.000977  18.000977    19.961908   \n",
       "16   281  1059.096085  2264.928826  17.000977  18.000977    18.652533   \n",
       "17   265  3008.966038  1824.324528  19.000977  15.000977    15.731615   \n",
       "18   263  1952.403042     6.684411  19.000977  10.000977     5.460859   \n",
       "19   262  3287.374046  1120.824427  19.000977  16.000977    17.151265   \n",
       "20   260  1923.946154   954.450000  17.000977  18.000977    19.432514   \n",
       "21   249  2128.285141   131.694779  16.000977  18.000977    20.181347   \n",
       "22   248  1146.169355  2129.290323  17.000977  16.000977    16.701321   \n",
       "23   247  3155.619433  1429.663968  18.000977  15.000977    16.644195   \n",
       "24   243  2851.148148  2254.275720  16.000977  15.000977    15.306839   \n",
       "25   242  1456.351240  2748.454545  15.000977  16.000977    16.299768   \n",
       "26   240  2895.112500  2060.183333  16.000977  15.000977    15.530566   \n",
       "27   239  3056.205021   733.853556  17.000977  15.000977    17.185935   \n",
       "28   239  3015.142259  2230.322176  17.000977  15.000977    15.440499   \n",
       "29   238  1473.663866   818.075630  16.000977  16.000977    17.899338   \n",
       "30   235  1120.536170  1727.404255  16.000977  15.000977    16.125938   \n",
       "31   234  2353.136752  2626.175214  16.000977  15.000977    14.861271   \n",
       "32   232  1498.267241  1653.625000  16.000977  15.000977    16.788737   \n",
       "33   231  4087.112554   926.952381  14.000977  16.000977    17.459436   \n",
       "34   226  2527.309735   889.663717  15.000977  15.000977    17.333236   \n",
       "35   224  2894.419643  2535.433036  16.000977  16.000977    15.350222   \n",
       "36   223  2766.654709  2495.143498  16.000977  15.000977    15.418124   \n",
       "37   221  3856.113122  1692.597285  14.000977  15.000977    16.163158   \n",
       "38   218  3635.830275  1022.807339  16.000977  16.000977    16.735699   \n",
       "39   215  3271.511628    56.572093  15.000977  15.000977    15.846881   \n",
       "\n",
       "    gaussian_cy                       box  tile_4  tile_32     fwhm_x   \n",
       "0     22.883351    [611, 2032, 654, 2071]  531626     8340   8.337355  \\\n",
       "1     18.854735  [3649, 2162, 3690, 2201]  565537     8955  10.661034   \n",
       "2     18.278973  [3495, 1997, 3534, 2036]  523023     8300  11.263100   \n",
       "3     19.843707    [3640, 427, 3681, 464]  115911     1934  11.503017   \n",
       "4     17.729837  [1880, 2140, 1917, 2181]  559915     8899   9.717917   \n",
       "5     17.477041      [797, 119, 832, 160]   36464      545  13.797493   \n",
       "6     20.185398     [3312, 88, 3353, 125]   28805      494  13.387562   \n",
       "7     18.350336  [3801, 1120, 3840, 1159]  296215     4799  11.044797   \n",
       "8     18.572477      [607, 334, 644, 375]   92360     1450   9.402102   \n",
       "9     18.106730  [1708, 2048, 1745, 2087]  536044     8504  11.669707   \n",
       "10    18.263620  [3717, 1759, 3756, 1796]  460918     7397   9.154693   \n",
       "11    18.718071  [1552, 2142, 1589, 2181]  559833     8889   8.515209   \n",
       "12    17.349780  [2316, 2779, 2353, 2818]  725784    11383   9.256887   \n",
       "13    18.301854  [3251, 2452, 3290, 2487]  640030    10112  13.602205   \n",
       "14    19.471178    [3612, 627, 3653, 662]  167704     2714   9.197308   \n",
       "15    16.652669    [3239, 752, 3276, 789]  200762     3222   9.663821   \n",
       "16    17.761164  [1042, 2245, 1077, 2284]  586641     9263   7.528624   \n",
       "17    17.952275  [2989, 1808, 3028, 1841]  473168     7504   9.678700   \n",
       "18    19.012105       [1933, 0, 1972, 23]    2560       61   9.817638   \n",
       "19    17.756798  [3268, 1104, 3307, 1137]  290902     4653  11.389003   \n",
       "20    17.476484    [1906, 936, 1941, 973]  248085     3960   7.926015   \n",
       "21    15.894070    [2112, 113, 2145, 150]   34720      587   8.392219   \n",
       "22    17.938148  [1129, 2112, 1164, 2147]  551439     8746   7.812905   \n",
       "23    16.844881  [3137, 1413, 3174, 1446]  370641     5949   9.963156   \n",
       "24    15.288714  [2834, 2238, 2869, 2271]  585017     9189   9.259394   \n",
       "25    16.078634  [1440, 2731, 1473, 2766]  712096    11226   7.479629   \n",
       "26    15.961081  [2878, 2044, 2913, 2077]  534264     8410  21.728462   \n",
       "27    16.194171    [3039, 717, 3074, 750]  190352     3086  24.810826   \n",
       "28    15.409488  [2998, 2214, 3033, 2247]  578842     9194  11.283041   \n",
       "29    16.998246    [1457, 801, 1490, 836]  212748     3426   7.048760   \n",
       "30    17.437369  [1104, 1711, 1137, 1744]  447832     7055   7.278461   \n",
       "31    15.771600  [2336, 2610, 2371, 2643]  681240    10734   8.824379   \n",
       "32    16.402984  [1482, 1637, 1515, 1670]  428243     6807   7.822119   \n",
       "33    15.502998    [4071, 909, 4104, 944]  241374     3898  34.000647   \n",
       "34    14.518491    [2511, 873, 2544, 906]  230624     3719   7.687586   \n",
       "35    14.750111  [2878, 2519, 2911, 2552]  657548    10360   9.644270   \n",
       "36    15.733676  [2750, 2479, 2783, 2512]  647156    10226  25.473174   \n",
       "37    15.506480  [3840, 1676, 3873, 1709]  439192     7011  31.643543   \n",
       "38    15.877098  [3619, 1006, 3652, 1039]  266125     4274  29.913210   \n",
       "39    15.796427      [3255, 41, 3288, 72]   15322      362  20.476924   \n",
       "\n",
       "       fwhm_y  \n",
       "0    9.019000  \n",
       "1   10.624041  \n",
       "2   10.704717  \n",
       "3   10.919182  \n",
       "4   10.065953  \n",
       "5   15.959861  \n",
       "6   11.769476  \n",
       "7   11.195841  \n",
       "8   10.900787  \n",
       "9   12.298536  \n",
       "10   9.408278  \n",
       "11   9.025345  \n",
       "12   8.892015  \n",
       "13  11.254165  \n",
       "14   8.734171  \n",
       "15   8.660048  \n",
       "16   8.234392  \n",
       "17   8.581111  \n",
       "18  11.954265  \n",
       "19   9.778763  \n",
       "20   8.301806  \n",
       "21   9.599409  \n",
       "22   8.375216  \n",
       "23   8.620724  \n",
       "24   8.376372  \n",
       "25   7.978203  \n",
       "26  20.126422  \n",
       "27  23.524112  \n",
       "28  10.172422  \n",
       "29   7.529877  \n",
       "30   7.615577  \n",
       "31   8.639924  \n",
       "32   7.985989  \n",
       "33  36.238150  \n",
       "34   7.470129  \n",
       "35   8.719532  \n",
       "36  25.229607  \n",
       "37  31.734554  \n",
       "38  29.510737  \n",
       "39  19.040310  "
      ]
     },
     "execution_count": 15,
     "metadata": {},
     "output_type": "execute_result"
    }
   ],
   "source": [
    "df_ref"
   ]
  },
  {
   "cell_type": "code",
   "execution_count": 16,
   "metadata": {},
   "outputs": [
    {
     "name": "stdout",
     "output_type": "stream",
     "text": [
      "Processing D:\\Astro\\20220922\\C30\\Light\\Light_00948_180.0sec_200gain_-0.3C.fit...\n",
      "img16 shape: (2822, 4144), img8 shape: (2822, 4144)\n"
     ]
    },
    {
     "name": "stderr",
     "output_type": "stream",
     "text": [
      "Calculating FWHM:  77%|███████▋  | 317/410 [00:01<00:00, 317.04it/s]c:\\Users\\anand\\anaconda3\\envs\\astro\\lib\\site-packages\\scipy\\optimize\\_minpack_py.py:492: RuntimeWarning: Number of calls to function has reached maxfev = 1200.\n",
      "  warnings.warn(errors[info][0], RuntimeWarning)\n",
      "Calculating FWHM: 100%|██████████| 410/410 [00:01<00:00, 288.19it/s]\n",
      "Matching triangles: 100%|██████████| 76/76 [00:00<00:00, 650.72it/s]\n"
     ]
    },
    {
     "name": "stdout",
     "output_type": "stream",
     "text": [
      "Processing D:\\Astro\\20220922\\C30\\Light\\Light_00961_180.0sec_200gain_-0.3C.fit...\n",
      "img16 shape: (2822, 4144), img8 shape: (2822, 4144)\n"
     ]
    },
    {
     "name": "stderr",
     "output_type": "stream",
     "text": [
      "Calculating FWHM: 100%|██████████| 399/399 [00:01<00:00, 302.06it/s]\n",
      "Matching triangles: 100%|██████████| 78/78 [00:00<00:00, 702.88it/s]\n"
     ]
    },
    {
     "name": "stdout",
     "output_type": "stream",
     "text": [
      "Processing D:\\Astro\\20220922\\C30\\Light\\Light_00955_180.0sec_200gain_-0.3C.fit...\n",
      "img16 shape: (2822, 4144), img8 shape: (2822, 4144)\n"
     ]
    },
    {
     "name": "stderr",
     "output_type": "stream",
     "text": [
      "Calculating FWHM:  98%|█████████▊| 399/407 [00:01<00:00, 315.83it/s]c:\\Users\\anand\\anaconda3\\envs\\astro\\lib\\site-packages\\scipy\\optimize\\_minpack_py.py:492: RuntimeWarning: Number of calls to function has reached maxfev = 1200.\n",
      "  warnings.warn(errors[info][0], RuntimeWarning)\n",
      "Calculating FWHM: 100%|██████████| 407/407 [00:01<00:00, 316.79it/s]\n",
      "Matching triangles: 100%|██████████| 78/78 [00:00<00:00, 696.17it/s]\n"
     ]
    },
    {
     "name": "stdout",
     "output_type": "stream",
     "text": [
      "Processing D:\\Astro\\20220922\\C30\\Light\\Light_00952_180.0sec_200gain_-0.3C.fit...\n",
      "img16 shape: (2822, 4144), img8 shape: (2822, 4144)\n"
     ]
    },
    {
     "name": "stderr",
     "output_type": "stream",
     "text": [
      "Calculating FWHM:  92%|█████████▏| 380/412 [00:01<00:00, 322.65it/s]c:\\Users\\anand\\anaconda3\\envs\\astro\\lib\\site-packages\\scipy\\optimize\\_minpack_py.py:492: RuntimeWarning: Number of calls to function has reached maxfev = 1200.\n",
      "  warnings.warn(errors[info][0], RuntimeWarning)\n",
      "Calculating FWHM: 100%|██████████| 412/412 [00:01<00:00, 306.50it/s]\n",
      "Matching triangles: 100%|██████████| 80/80 [00:00<00:00, 665.48it/s]\n"
     ]
    },
    {
     "name": "stdout",
     "output_type": "stream",
     "text": [
      "Processing D:\\Astro\\20220922\\C30\\Light\\Light_00953_180.0sec_200gain_-0.3C.fit...\n",
      "img16 shape: (2822, 4144), img8 shape: (2822, 4144)\n"
     ]
    },
    {
     "name": "stderr",
     "output_type": "stream",
     "text": [
      "Calculating FWHM:  96%|█████████▌| 369/386 [00:01<00:00, 320.75it/s]c:\\Users\\anand\\anaconda3\\envs\\astro\\lib\\site-packages\\scipy\\optimize\\_minpack_py.py:492: RuntimeWarning: Number of calls to function has reached maxfev = 1200.\n",
      "  warnings.warn(errors[info][0], RuntimeWarning)\n",
      "Calculating FWHM: 100%|██████████| 386/386 [00:01<00:00, 316.56it/s]\n",
      "Matching triangles: 100%|██████████| 81/81 [00:00<00:00, 640.59it/s]\n"
     ]
    },
    {
     "name": "stdout",
     "output_type": "stream",
     "text": [
      "Processing D:\\Astro\\20220922\\C30\\Light\\Light_00956_180.0sec_200gain_-0.3C.fit...\n",
      "img16 shape: (2822, 4144), img8 shape: (2822, 4144)\n"
     ]
    },
    {
     "name": "stderr",
     "output_type": "stream",
     "text": [
      "Calculating FWHM:   0%|          | 0/425 [00:00<?, ?it/s]c:\\Users\\anand\\anaconda3\\envs\\astro\\lib\\site-packages\\scipy\\optimize\\_minpack_py.py:492: RuntimeWarning: Number of calls to function has reached maxfev = 1200.\n",
      "  warnings.warn(errors[info][0], RuntimeWarning)\n",
      "Calculating FWHM: 100%|██████████| 425/425 [00:01<00:00, 309.16it/s]\n",
      "Matching triangles: 100%|██████████| 85/85 [00:00<00:00, 763.07it/s]\n"
     ]
    },
    {
     "name": "stdout",
     "output_type": "stream",
     "text": [
      "Processing D:\\Astro\\20220922\\C30\\Light\\Light_00962_180.0sec_200gain_-0.3C.fit...\n",
      "img16 shape: (2822, 4144), img8 shape: (2822, 4144)\n"
     ]
    },
    {
     "name": "stderr",
     "output_type": "stream",
     "text": [
      "Calculating FWHM: 100%|██████████| 414/414 [00:01<00:00, 326.85it/s]\n",
      "Matching triangles: 100%|██████████| 73/73 [00:00<00:00, 718.34it/s]\n"
     ]
    },
    {
     "name": "stdout",
     "output_type": "stream",
     "text": [
      "Processing D:\\Astro\\20220922\\C30\\Light\\Light_00950_180.0sec_200gain_-0.3C.fit...\n",
      "img16 shape: (2822, 4144), img8 shape: (2822, 4144)\n"
     ]
    },
    {
     "name": "stderr",
     "output_type": "stream",
     "text": [
      "Calculating FWHM:   0%|          | 0/427 [00:00<?, ?it/s]c:\\Users\\anand\\anaconda3\\envs\\astro\\lib\\site-packages\\scipy\\optimize\\_minpack_py.py:492: RuntimeWarning: Number of calls to function has reached maxfev = 1200.\n",
      "  warnings.warn(errors[info][0], RuntimeWarning)\n",
      "Calculating FWHM: 100%|██████████| 427/427 [00:01<00:00, 313.85it/s]\n",
      "Matching triangles: 100%|██████████| 88/88 [00:00<00:00, 697.28it/s]\n"
     ]
    },
    {
     "name": "stdout",
     "output_type": "stream",
     "text": [
      "Processing D:\\Astro\\20220922\\C30\\Light\\Light_00940_180.0sec_200gain_-0.3C.fit...\n",
      "img16 shape: (2822, 4144), img8 shape: (2822, 4144)\n"
     ]
    },
    {
     "name": "stderr",
     "output_type": "stream",
     "text": [
      "Calculating FWHM:  93%|█████████▎| 388/416 [00:01<00:00, 324.32it/s]c:\\Users\\anand\\anaconda3\\envs\\astro\\lib\\site-packages\\scipy\\optimize\\_minpack_py.py:492: RuntimeWarning: Number of calls to function has reached maxfev = 1200.\n",
      "  warnings.warn(errors[info][0], RuntimeWarning)\n",
      "Calculating FWHM: 100%|██████████| 416/416 [00:01<00:00, 297.44it/s]\n",
      "Matching triangles: 100%|██████████| 84/84 [00:00<00:00, 801.67it/s]\n"
     ]
    },
    {
     "name": "stdout",
     "output_type": "stream",
     "text": [
      "Processing D:\\Astro\\20220922\\C30\\Light\\Light_00935_180.0sec_200gain_-0.3C.fit...\n",
      "img16 shape: (2822, 4144), img8 shape: (2822, 4144)\n"
     ]
    },
    {
     "name": "stderr",
     "output_type": "stream",
     "text": [
      "Calculating FWHM:  93%|█████████▎| 393/422 [00:01<00:00, 326.66it/s]c:\\Users\\anand\\anaconda3\\envs\\astro\\lib\\site-packages\\scipy\\optimize\\_minpack_py.py:492: RuntimeWarning: Number of calls to function has reached maxfev = 1200.\n",
      "  warnings.warn(errors[info][0], RuntimeWarning)\n",
      "Calculating FWHM: 100%|██████████| 422/422 [00:01<00:00, 302.82it/s]\n",
      "Matching triangles: 100%|██████████| 78/78 [00:00<00:00, 633.72it/s]\n"
     ]
    },
    {
     "name": "stdout",
     "output_type": "stream",
     "text": [
      "Processing D:\\Astro\\20220922\\C30\\Light\\Light_00964_180.0sec_200gain_-0.3C.fit...\n",
      "img16 shape: (2822, 4144), img8 shape: (2822, 4144)\n"
     ]
    },
    {
     "name": "stderr",
     "output_type": "stream",
     "text": [
      "Calculating FWHM:  94%|█████████▎| 381/407 [00:01<00:00, 290.94it/s]c:\\Users\\anand\\anaconda3\\envs\\astro\\lib\\site-packages\\scipy\\optimize\\_minpack_py.py:492: RuntimeWarning: Number of calls to function has reached maxfev = 1200.\n",
      "  warnings.warn(errors[info][0], RuntimeWarning)\n",
      "Calculating FWHM: 100%|██████████| 407/407 [00:01<00:00, 305.35it/s]\n",
      "Matching triangles: 100%|██████████| 80/80 [00:00<00:00, 667.26it/s]\n"
     ]
    },
    {
     "name": "stdout",
     "output_type": "stream",
     "text": [
      "Processing D:\\Astro\\20220922\\C30\\Light\\Light_00949_180.0sec_200gain_-0.3C.fit...\n",
      "img16 shape: (2822, 4144), img8 shape: (2822, 4144)\n"
     ]
    },
    {
     "name": "stderr",
     "output_type": "stream",
     "text": [
      "Calculating FWHM:   0%|          | 0/419 [00:00<?, ?it/s]c:\\Users\\anand\\anaconda3\\envs\\astro\\lib\\site-packages\\scipy\\optimize\\_minpack_py.py:492: RuntimeWarning: Number of calls to function has reached maxfev = 1200.\n",
      "  warnings.warn(errors[info][0], RuntimeWarning)\n",
      "Calculating FWHM: 100%|██████████| 419/419 [00:01<00:00, 303.66it/s]\n",
      "Matching triangles: 100%|██████████| 94/94 [00:00<00:00, 648.99it/s]\n"
     ]
    },
    {
     "name": "stdout",
     "output_type": "stream",
     "text": [
      "Processing D:\\Astro\\20220922\\C30\\Light\\Light_00934_180.0sec_200gain_-0.3C.fit...\n",
      "img16 shape: (2822, 4144), img8 shape: (2822, 4144)\n"
     ]
    },
    {
     "name": "stderr",
     "output_type": "stream",
     "text": [
      "Calculating FWHM:  94%|█████████▍| 392/417 [00:01<00:00, 314.07it/s]c:\\Users\\anand\\anaconda3\\envs\\astro\\lib\\site-packages\\scipy\\optimize\\_minpack_py.py:492: RuntimeWarning: Number of calls to function has reached maxfev = 1200.\n",
      "  warnings.warn(errors[info][0], RuntimeWarning)\n",
      "Calculating FWHM: 100%|██████████| 417/417 [00:01<00:00, 303.12it/s]\n",
      "Matching triangles: 100%|██████████| 83/83 [00:00<00:00, 688.60it/s]\n"
     ]
    },
    {
     "name": "stdout",
     "output_type": "stream",
     "text": [
      "Processing D:\\Astro\\20220922\\C30\\Light\\Light_00945_180.0sec_200gain_0.0C.fit...\n",
      "img16 shape: (2822, 4144), img8 shape: (2822, 4144)\n"
     ]
    },
    {
     "name": "stderr",
     "output_type": "stream",
     "text": [
      "Calculating FWHM:  94%|█████████▍| 400/426 [00:01<00:00, 318.37it/s]c:\\Users\\anand\\anaconda3\\envs\\astro\\lib\\site-packages\\scipy\\optimize\\_minpack_py.py:492: RuntimeWarning: Number of calls to function has reached maxfev = 1200.\n",
      "  warnings.warn(errors[info][0], RuntimeWarning)\n",
      "Calculating FWHM: 100%|██████████| 426/426 [00:01<00:00, 318.94it/s]\n",
      "Matching triangles: 100%|██████████| 78/78 [00:00<00:00, 731.04it/s]\n"
     ]
    },
    {
     "name": "stdout",
     "output_type": "stream",
     "text": [
      "Processing D:\\Astro\\20220922\\C30\\Light\\Light_00939_180.0sec_200gain_-0.3C.fit...\n",
      "img16 shape: (2822, 4144), img8 shape: (2822, 4144)\n"
     ]
    },
    {
     "name": "stderr",
     "output_type": "stream",
     "text": [
      "Calculating FWHM: 100%|██████████| 429/429 [00:01<00:00, 329.95it/s]\n",
      "Matching triangles: 100%|██████████| 86/86 [00:00<00:00, 685.02it/s]\n"
     ]
    },
    {
     "name": "stdout",
     "output_type": "stream",
     "text": [
      "Processing D:\\Astro\\20220922\\C30\\Light\\Light_00967_180.0sec_200gain_-0.3C.fit...\n",
      "img16 shape: (2822, 4144), img8 shape: (2822, 4144)\n"
     ]
    },
    {
     "name": "stderr",
     "output_type": "stream",
     "text": [
      "Calculating FWHM: 100%|██████████| 420/420 [00:01<00:00, 323.65it/s]\n",
      "Matching triangles: 100%|██████████| 78/78 [00:00<00:00, 661.34it/s]\n"
     ]
    },
    {
     "name": "stdout",
     "output_type": "stream",
     "text": [
      "Processing D:\\Astro\\20220922\\C30\\Light\\Light_00959_180.0sec_200gain_-0.3C.fit...\n",
      "img16 shape: (2822, 4144), img8 shape: (2822, 4144)\n"
     ]
    },
    {
     "name": "stderr",
     "output_type": "stream",
     "text": [
      "Calculating FWHM: 100%|██████████| 430/430 [00:01<00:00, 327.13it/s]\n",
      "Matching triangles: 100%|██████████| 78/78 [00:00<00:00, 726.87it/s]\n"
     ]
    },
    {
     "name": "stdout",
     "output_type": "stream",
     "text": [
      "Processing D:\\Astro\\20220922\\C30\\Light\\Light_00954_180.0sec_200gain_-0.3C.fit...\n",
      "img16 shape: (2822, 4144), img8 shape: (2822, 4144)\n"
     ]
    },
    {
     "name": "stderr",
     "output_type": "stream",
     "text": [
      "Calculating FWHM:   0%|          | 0/435 [00:00<?, ?it/s]c:\\Users\\anand\\anaconda3\\envs\\astro\\lib\\site-packages\\scipy\\optimize\\_minpack_py.py:492: RuntimeWarning: Number of calls to function has reached maxfev = 1200.\n",
      "  warnings.warn(errors[info][0], RuntimeWarning)\n",
      "Calculating FWHM: 100%|██████████| 435/435 [00:01<00:00, 315.11it/s]\n",
      "Matching triangles: 100%|██████████| 78/78 [00:00<00:00, 634.46it/s]\n"
     ]
    },
    {
     "name": "stdout",
     "output_type": "stream",
     "text": [
      "Processing D:\\Astro\\20220922\\C30\\Light\\Light_00941_180.0sec_200gain_-0.3C.fit...\n",
      "img16 shape: (2822, 4144), img8 shape: (2822, 4144)\n"
     ]
    },
    {
     "name": "stderr",
     "output_type": "stream",
     "text": [
      "Calculating FWHM: 100%|██████████| 442/442 [00:01<00:00, 334.41it/s]\n",
      "Matching triangles: 100%|██████████| 78/78 [00:00<00:00, 599.93it/s]\n"
     ]
    },
    {
     "name": "stdout",
     "output_type": "stream",
     "text": [
      "Processing D:\\Astro\\20220922\\C30\\Light\\Light_00965_180.0sec_200gain_-0.3C.fit...\n",
      "img16 shape: (2822, 4144), img8 shape: (2822, 4144)\n"
     ]
    },
    {
     "name": "stderr",
     "output_type": "stream",
     "text": [
      "Calculating FWHM:  95%|█████████▌| 405/425 [00:01<00:00, 325.40it/s]c:\\Users\\anand\\anaconda3\\envs\\astro\\lib\\site-packages\\scipy\\optimize\\_minpack_py.py:492: RuntimeWarning: Number of calls to function has reached maxfev = 1200.\n",
      "  warnings.warn(errors[info][0], RuntimeWarning)\n",
      "Calculating FWHM: 100%|██████████| 425/425 [00:01<00:00, 327.82it/s]\n",
      "Matching triangles: 100%|██████████| 74/74 [00:00<00:00, 678.13it/s]\n"
     ]
    },
    {
     "name": "stdout",
     "output_type": "stream",
     "text": [
      "Processing D:\\Astro\\20220922\\C30\\Light\\Light_00957_180.0sec_200gain_-0.3C.fit...\n",
      "img16 shape: (2822, 4144), img8 shape: (2822, 4144)\n"
     ]
    },
    {
     "name": "stderr",
     "output_type": "stream",
     "text": [
      "Calculating FWHM: 100%|█████████▉| 429/431 [00:01<00:00, 326.17it/s]c:\\Users\\anand\\anaconda3\\envs\\astro\\lib\\site-packages\\scipy\\optimize\\_minpack_py.py:492: RuntimeWarning: Number of calls to function has reached maxfev = 1200.\n",
      "  warnings.warn(errors[info][0], RuntimeWarning)\n",
      "Calculating FWHM: 100%|██████████| 431/431 [00:01<00:00, 319.48it/s]\n",
      "Matching triangles: 100%|██████████| 75/75 [00:00<00:00, 703.58it/s]\n"
     ]
    },
    {
     "name": "stdout",
     "output_type": "stream",
     "text": [
      "Processing D:\\Astro\\20220922\\C30\\Light\\Light_00946_180.0sec_200gain_-0.3C.fit...\n",
      "img16 shape: (2822, 4144), img8 shape: (2822, 4144)\n"
     ]
    },
    {
     "name": "stderr",
     "output_type": "stream",
     "text": [
      "Calculating FWHM:  96%|█████████▌| 430/449 [00:01<00:00, 326.85it/s]c:\\Users\\anand\\anaconda3\\envs\\astro\\lib\\site-packages\\scipy\\optimize\\_minpack_py.py:492: RuntimeWarning: Number of calls to function has reached maxfev = 1200.\n",
      "  warnings.warn(errors[info][0], RuntimeWarning)\n",
      "Calculating FWHM: 100%|██████████| 449/449 [00:01<00:00, 326.51it/s]\n",
      "Matching triangles: 100%|██████████| 81/81 [00:00<00:00, 633.84it/s]\n"
     ]
    },
    {
     "name": "stdout",
     "output_type": "stream",
     "text": [
      "Processing D:\\Astro\\20220927\\C30\\Light\\Light_01326_180.0sec_200gain_-0.3C.fit...\n",
      "img16 shape: (2822, 4144), img8 shape: (2822, 4144)\n"
     ]
    },
    {
     "name": "stderr",
     "output_type": "stream",
     "text": [
      "Calculating FWHM:  96%|█████████▌| 376/391 [00:01<00:00, 326.07it/s]c:\\Users\\anand\\anaconda3\\envs\\astro\\lib\\site-packages\\scipy\\optimize\\_minpack_py.py:492: RuntimeWarning: Number of calls to function has reached maxfev = 1200.\n",
      "  warnings.warn(errors[info][0], RuntimeWarning)\n",
      "Calculating FWHM: 100%|██████████| 391/391 [00:01<00:00, 292.66it/s]\n",
      "Matching triangles: 100%|██████████| 86/86 [00:00<00:00, 702.84it/s]\n"
     ]
    },
    {
     "name": "stdout",
     "output_type": "stream",
     "text": [
      "Processing D:\\Astro\\20220922\\C30\\Light\\Light_00942_180.0sec_200gain_-0.3C.fit...\n",
      "img16 shape: (2822, 4144), img8 shape: (2822, 4144)\n"
     ]
    },
    {
     "name": "stderr",
     "output_type": "stream",
     "text": [
      "Calculating FWHM:   0%|          | 0/441 [00:00<?, ?it/s]c:\\Users\\anand\\anaconda3\\envs\\astro\\lib\\site-packages\\scipy\\optimize\\_minpack_py.py:492: RuntimeWarning: Number of calls to function has reached maxfev = 1200.\n",
      "  warnings.warn(errors[info][0], RuntimeWarning)\n",
      "Calculating FWHM: 100%|██████████| 441/441 [00:01<00:00, 313.86it/s]\n",
      "Matching triangles: 100%|██████████| 85/85 [00:00<00:00, 650.58it/s]\n"
     ]
    },
    {
     "name": "stdout",
     "output_type": "stream",
     "text": [
      "Processing D:\\Astro\\20220927\\C30\\Light\\Light_01325_180.0sec_200gain_-0.3C.fit...\n",
      "img16 shape: (2822, 4144), img8 shape: (2822, 4144)\n"
     ]
    },
    {
     "name": "stderr",
     "output_type": "stream",
     "text": [
      "Calculating FWHM:   0%|          | 0/417 [00:00<?, ?it/s]c:\\Users\\anand\\anaconda3\\envs\\astro\\lib\\site-packages\\scipy\\optimize\\_minpack_py.py:492: RuntimeWarning: Number of calls to function has reached maxfev = 1200.\n",
      "  warnings.warn(errors[info][0], RuntimeWarning)\n",
      "Calculating FWHM: 100%|██████████| 417/417 [00:01<00:00, 312.50it/s]\n",
      "Matching triangles: 100%|██████████| 90/90 [00:00<00:00, 633.65it/s]\n"
     ]
    },
    {
     "name": "stdout",
     "output_type": "stream",
     "text": [
      "Processing D:\\Astro\\20220922\\C30\\Light\\Light_00944_180.0sec_200gain_-0.3C.fit...\n",
      "img16 shape: (2822, 4144), img8 shape: (2822, 4144)\n"
     ]
    },
    {
     "name": "stderr",
     "output_type": "stream",
     "text": [
      "Calculating FWHM:  98%|█████████▊| 437/444 [00:01<00:00, 319.66it/s]c:\\Users\\anand\\anaconda3\\envs\\astro\\lib\\site-packages\\scipy\\optimize\\_minpack_py.py:492: RuntimeWarning: Number of calls to function has reached maxfev = 1200.\n",
      "  warnings.warn(errors[info][0], RuntimeWarning)\n",
      "Calculating FWHM: 100%|██████████| 444/444 [00:01<00:00, 318.73it/s]\n",
      "Matching triangles: 100%|██████████| 87/87 [00:00<00:00, 620.23it/s]\n"
     ]
    },
    {
     "name": "stdout",
     "output_type": "stream",
     "text": [
      "Processing D:\\Astro\\20220922\\C30\\Light\\Light_00960_180.0sec_200gain_-0.3C.fit...\n",
      "img16 shape: (2822, 4144), img8 shape: (2822, 4144)\n"
     ]
    },
    {
     "name": "stderr",
     "output_type": "stream",
     "text": [
      "Calculating FWHM:  98%|█████████▊| 397/405 [00:01<00:00, 320.41it/s]c:\\Users\\anand\\anaconda3\\envs\\astro\\lib\\site-packages\\scipy\\optimize\\_minpack_py.py:492: RuntimeWarning: Number of calls to function has reached maxfev = 1200.\n",
      "  warnings.warn(errors[info][0], RuntimeWarning)\n",
      "Calculating FWHM: 100%|██████████| 405/405 [00:01<00:00, 313.38it/s]\n",
      "Matching triangles: 100%|██████████| 74/74 [00:00<00:00, 751.16it/s]\n"
     ]
    },
    {
     "name": "stdout",
     "output_type": "stream",
     "text": [
      "Processing D:\\Astro\\20220922\\C30\\Light\\Light_00970_180.0sec_200gain_-0.3C.fit...\n",
      "img16 shape: (2822, 4144), img8 shape: (2822, 4144)\n"
     ]
    },
    {
     "name": "stderr",
     "output_type": "stream",
     "text": [
      "Calculating FWHM:   0%|          | 0/434 [00:00<?, ?it/s]c:\\Users\\anand\\anaconda3\\envs\\astro\\lib\\site-packages\\scipy\\optimize\\_minpack_py.py:492: RuntimeWarning: Number of calls to function has reached maxfev = 1200.\n",
      "  warnings.warn(errors[info][0], RuntimeWarning)\n",
      "Calculating FWHM: 100%|██████████| 434/434 [00:01<00:00, 316.19it/s]\n",
      "Matching triangles: 100%|██████████| 79/79 [00:00<00:00, 747.30it/s]\n"
     ]
    },
    {
     "name": "stdout",
     "output_type": "stream",
     "text": [
      "Processing D:\\Astro\\20220922\\C30\\Light\\Light_00958_180.0sec_200gain_-0.3C.fit...\n",
      "img16 shape: (2822, 4144), img8 shape: (2822, 4144)\n"
     ]
    },
    {
     "name": "stderr",
     "output_type": "stream",
     "text": [
      "Calculating FWHM:  98%|█████████▊| 404/411 [00:01<00:00, 314.65it/s]c:\\Users\\anand\\anaconda3\\envs\\astro\\lib\\site-packages\\scipy\\optimize\\_minpack_py.py:492: RuntimeWarning: Number of calls to function has reached maxfev = 1200.\n",
      "  warnings.warn(errors[info][0], RuntimeWarning)\n",
      "Calculating FWHM: 100%|██████████| 411/411 [00:01<00:00, 315.96it/s]\n",
      "Matching triangles: 100%|██████████| 71/71 [00:00<00:00, 651.88it/s]\n"
     ]
    },
    {
     "name": "stdout",
     "output_type": "stream",
     "text": [
      "Processing D:\\Astro\\20220922\\C30\\Light\\Light_00936_180.0sec_200gain_-0.3C.fit...\n",
      "img16 shape: (2822, 4144), img8 shape: (2822, 4144)\n"
     ]
    },
    {
     "name": "stderr",
     "output_type": "stream",
     "text": [
      "Calculating FWHM:  99%|█████████▊| 442/448 [00:01<00:00, 314.98it/s]c:\\Users\\anand\\anaconda3\\envs\\astro\\lib\\site-packages\\scipy\\optimize\\_minpack_py.py:492: RuntimeWarning: Number of calls to function has reached maxfev = 1200.\n",
      "  warnings.warn(errors[info][0], RuntimeWarning)\n",
      "Calculating FWHM: 100%|██████████| 448/448 [00:01<00:00, 324.25it/s]\n",
      "Matching triangles: 100%|██████████| 94/94 [00:00<00:00, 658.30it/s]\n"
     ]
    },
    {
     "name": "stdout",
     "output_type": "stream",
     "text": [
      "Processing D:\\Astro\\20220922\\C30\\Light\\Light_00943_180.0sec_200gain_-0.3C.fit...\n",
      "img16 shape: (2822, 4144), img8 shape: (2822, 4144)\n"
     ]
    },
    {
     "name": "stderr",
     "output_type": "stream",
     "text": [
      "Calculating FWHM:   0%|          | 0/453 [00:00<?, ?it/s]c:\\Users\\anand\\anaconda3\\envs\\astro\\lib\\site-packages\\scipy\\optimize\\_minpack_py.py:492: RuntimeWarning: Number of calls to function has reached maxfev = 1200.\n",
      "  warnings.warn(errors[info][0], RuntimeWarning)\n",
      "Calculating FWHM: 100%|██████████| 453/453 [00:01<00:00, 307.07it/s]\n",
      "Matching triangles: 100%|██████████| 84/84 [00:00<00:00, 664.14it/s]\n"
     ]
    },
    {
     "name": "stdout",
     "output_type": "stream",
     "text": [
      "Processing D:\\Astro\\20220922\\C30\\Light\\Light_00972_180.0sec_200gain_-0.3C.fit...\n",
      "img16 shape: (2822, 4144), img8 shape: (2822, 4144)\n"
     ]
    },
    {
     "name": "stderr",
     "output_type": "stream",
     "text": [
      "Calculating FWHM:  94%|█████████▍| 406/430 [00:01<00:00, 322.08it/s]c:\\Users\\anand\\anaconda3\\envs\\astro\\lib\\site-packages\\scipy\\optimize\\_minpack_py.py:492: RuntimeWarning: Number of calls to function has reached maxfev = 1200.\n",
      "  warnings.warn(errors[info][0], RuntimeWarning)\n",
      "Calculating FWHM: 100%|██████████| 430/430 [00:01<00:00, 318.23it/s]\n",
      "Matching triangles: 100%|██████████| 77/77 [00:00<00:00, 624.83it/s]\n"
     ]
    },
    {
     "name": "stdout",
     "output_type": "stream",
     "text": [
      "Processing D:\\Astro\\20220922\\C30\\Light\\Light_00982_180.0sec_200gain_-0.3C.fit...\n",
      "img16 shape: (2822, 4144), img8 shape: (2822, 4144)\n"
     ]
    },
    {
     "name": "stderr",
     "output_type": "stream",
     "text": [
      "Calculating FWHM: 100%|██████████| 419/419 [00:01<00:00, 325.18it/s]\n",
      "Matching triangles: 100%|██████████| 78/78 [00:00<00:00, 773.82it/s]\n"
     ]
    },
    {
     "name": "stdout",
     "output_type": "stream",
     "text": [
      "Processing D:\\Astro\\20220922\\C30\\Light\\Light_00992_180.0sec_200gain_-0.3C.fit...\n",
      "img16 shape: (2822, 4144), img8 shape: (2822, 4144)\n"
     ]
    },
    {
     "name": "stderr",
     "output_type": "stream",
     "text": [
      "Calculating FWHM: 100%|██████████| 377/377 [00:01<00:00, 332.80it/s]\n",
      "Matching triangles: 100%|██████████| 87/87 [00:00<00:00, 657.20it/s]\n"
     ]
    },
    {
     "name": "stdout",
     "output_type": "stream",
     "text": [
      "Processing D:\\Astro\\20220922\\C30\\Light\\Light_00979_180.0sec_200gain_-0.3C.fit...\n",
      "img16 shape: (2822, 4144), img8 shape: (2822, 4144)\n"
     ]
    },
    {
     "name": "stderr",
     "output_type": "stream",
     "text": [
      "Calculating FWHM: 100%|██████████| 425/425 [00:01<00:00, 340.34it/s]\n",
      "Matching triangles: 100%|██████████| 76/76 [00:00<00:00, 830.53it/s]\n"
     ]
    },
    {
     "name": "stdout",
     "output_type": "stream",
     "text": [
      "Processing D:\\Astro\\20220922\\C30\\Light\\Light_00951_180.0sec_200gain_-0.3C.fit...\n",
      "img16 shape: (2822, 4144), img8 shape: (2822, 4144)\n"
     ]
    },
    {
     "name": "stderr",
     "output_type": "stream",
     "text": [
      "Calculating FWHM:   0%|          | 0/443 [00:00<?, ?it/s]c:\\Users\\anand\\anaconda3\\envs\\astro\\lib\\site-packages\\scipy\\optimize\\_minpack_py.py:492: RuntimeWarning: Number of calls to function has reached maxfev = 1200.\n",
      "  warnings.warn(errors[info][0], RuntimeWarning)\n",
      "Calculating FWHM: 100%|██████████| 443/443 [00:01<00:00, 299.80it/s]\n",
      "Matching triangles: 100%|██████████| 70/70 [00:00<00:00, 648.24it/s]\n"
     ]
    },
    {
     "name": "stdout",
     "output_type": "stream",
     "text": [
      "Processing D:\\Astro\\20220927\\C30\\Light\\Light_01327_180.0sec_200gain_-0.3C.fit...\n",
      "img16 shape: (2822, 4144), img8 shape: (2822, 4144)\n"
     ]
    },
    {
     "name": "stderr",
     "output_type": "stream",
     "text": [
      "Calculating FWHM:   0%|          | 0/401 [00:00<?, ?it/s]c:\\Users\\anand\\anaconda3\\envs\\astro\\lib\\site-packages\\scipy\\optimize\\_minpack_py.py:492: RuntimeWarning: Number of calls to function has reached maxfev = 1200.\n",
      "  warnings.warn(errors[info][0], RuntimeWarning)\n",
      "Calculating FWHM: 100%|██████████| 401/401 [00:01<00:00, 312.93it/s]\n",
      "Matching triangles: 100%|██████████| 98/98 [00:00<00:00, 696.40it/s]\n"
     ]
    },
    {
     "name": "stdout",
     "output_type": "stream",
     "text": [
      "Processing D:\\Astro\\20220922\\C30\\Light\\Light_00974_180.0sec_200gain_-0.3C.fit...\n",
      "img16 shape: (2822, 4144), img8 shape: (2822, 4144)\n"
     ]
    },
    {
     "name": "stderr",
     "output_type": "stream",
     "text": [
      "Calculating FWHM:   0%|          | 0/426 [00:00<?, ?it/s]c:\\Users\\anand\\anaconda3\\envs\\astro\\lib\\site-packages\\scipy\\optimize\\_minpack_py.py:492: RuntimeWarning: Number of calls to function has reached maxfev = 1200.\n",
      "  warnings.warn(errors[info][0], RuntimeWarning)\n",
      "Calculating FWHM: 100%|██████████| 426/426 [00:01<00:00, 312.59it/s]\n",
      "Matching triangles: 100%|██████████| 81/81 [00:00<00:00, 702.39it/s]\n"
     ]
    },
    {
     "name": "stdout",
     "output_type": "stream",
     "text": [
      "Processing D:\\Astro\\20220922\\C30\\Light\\Light_00978_180.0sec_200gain_-0.3C.fit...\n",
      "img16 shape: (2822, 4144), img8 shape: (2822, 4144)\n"
     ]
    },
    {
     "name": "stderr",
     "output_type": "stream",
     "text": [
      "Calculating FWHM: 100%|██████████| 432/432 [00:01<00:00, 335.31it/s]\n",
      "Matching triangles: 100%|██████████| 90/90 [00:00<00:00, 600.47it/s]\n"
     ]
    },
    {
     "name": "stdout",
     "output_type": "stream",
     "text": [
      "Processing D:\\Astro\\20220922\\C30\\Light\\Light_00981_180.0sec_200gain_-0.3C.fit...\n",
      "img16 shape: (2822, 4144), img8 shape: (2822, 4144)\n"
     ]
    },
    {
     "name": "stderr",
     "output_type": "stream",
     "text": [
      "Calculating FWHM:   0%|          | 0/428 [00:00<?, ?it/s]c:\\Users\\anand\\anaconda3\\envs\\astro\\lib\\site-packages\\scipy\\optimize\\_minpack_py.py:492: RuntimeWarning: Number of calls to function has reached maxfev = 1200.\n",
      "  warnings.warn(errors[info][0], RuntimeWarning)\n",
      "Calculating FWHM: 100%|██████████| 428/428 [00:01<00:00, 320.70it/s]\n",
      "Matching triangles: 100%|██████████| 74/74 [00:00<00:00, 651.59it/s]\n"
     ]
    },
    {
     "name": "stdout",
     "output_type": "stream",
     "text": [
      "Processing D:\\Astro\\20220922\\C30\\Light\\Light_00977_180.0sec_200gain_-0.3C.fit...\n",
      "img16 shape: (2822, 4144), img8 shape: (2822, 4144)\n"
     ]
    },
    {
     "name": "stderr",
     "output_type": "stream",
     "text": [
      "Calculating FWHM: 100%|██████████| 416/416 [00:01<00:00, 330.21it/s]\n",
      "Matching triangles: 100%|██████████| 76/76 [00:00<00:00, 683.55it/s]\n"
     ]
    },
    {
     "name": "stdout",
     "output_type": "stream",
     "text": [
      "Processing D:\\Astro\\20220922\\C30\\Light\\Light_00966_180.0sec_200gain_-0.3C.fit...\n",
      "img16 shape: (2822, 4144), img8 shape: (2822, 4144)\n"
     ]
    },
    {
     "name": "stderr",
     "output_type": "stream",
     "text": [
      "Calculating FWHM: 100%|██████████| 439/439 [00:01<00:00, 338.67it/s]\n",
      "Matching triangles: 100%|██████████| 84/84 [00:00<00:00, 692.77it/s]\n"
     ]
    },
    {
     "name": "stdout",
     "output_type": "stream",
     "text": [
      "Processing D:\\Astro\\20220927\\C30\\Light\\Light_01324_180.0sec_200gain_-0.3C.fit...\n",
      "img16 shape: (2822, 4144), img8 shape: (2822, 4144)\n"
     ]
    },
    {
     "name": "stderr",
     "output_type": "stream",
     "text": [
      "Calculating FWHM:   0%|          | 0/423 [00:00<?, ?it/s]c:\\Users\\anand\\anaconda3\\envs\\astro\\lib\\site-packages\\scipy\\optimize\\_minpack_py.py:492: RuntimeWarning: Number of calls to function has reached maxfev = 1200.\n",
      "  warnings.warn(errors[info][0], RuntimeWarning)\n",
      "Calculating FWHM: 100%|██████████| 423/423 [00:01<00:00, 313.83it/s]\n",
      "Matching triangles: 100%|██████████| 92/92 [00:00<00:00, 747.45it/s]\n"
     ]
    },
    {
     "name": "stdout",
     "output_type": "stream",
     "text": [
      "Processing D:\\Astro\\20220927\\C30\\Light\\Light_01323_180.0sec_200gain_-0.3C.fit...\n",
      "img16 shape: (2822, 4144), img8 shape: (2822, 4144)\n"
     ]
    },
    {
     "name": "stderr",
     "output_type": "stream",
     "text": [
      "Calculating FWHM:  88%|████████▊ | 358/409 [00:01<00:00, 344.43it/s]c:\\Users\\anand\\anaconda3\\envs\\astro\\lib\\site-packages\\scipy\\optimize\\_minpack_py.py:492: RuntimeWarning: Number of calls to function has reached maxfev = 1200.\n",
      "  warnings.warn(errors[info][0], RuntimeWarning)\n",
      "Calculating FWHM: 100%|██████████| 409/409 [00:01<00:00, 318.24it/s]\n",
      "Matching triangles: 100%|██████████| 96/96 [00:00<00:00, 693.99it/s]\n"
     ]
    },
    {
     "name": "stdout",
     "output_type": "stream",
     "text": [
      "Processing D:\\Astro\\20220922\\C30\\Light\\Light_00976_180.0sec_200gain_-0.3C.fit...\n",
      "img16 shape: (2822, 4144), img8 shape: (2822, 4144)\n"
     ]
    },
    {
     "name": "stderr",
     "output_type": "stream",
     "text": [
      "Calculating FWHM: 100%|██████████| 418/418 [00:01<00:00, 344.18it/s]\n",
      "Matching triangles: 100%|██████████| 76/76 [00:00<00:00, 686.80it/s]\n"
     ]
    },
    {
     "name": "stdout",
     "output_type": "stream",
     "text": [
      "Processing D:\\Astro\\20220922\\C30\\Light\\Light_00985_180.0sec_200gain_-0.3C.fit...\n",
      "img16 shape: (2822, 4144), img8 shape: (2822, 4144)\n"
     ]
    },
    {
     "name": "stderr",
     "output_type": "stream",
     "text": [
      "Calculating FWHM:   0%|          | 0/390 [00:00<?, ?it/s]c:\\Users\\anand\\anaconda3\\envs\\astro\\lib\\site-packages\\scipy\\optimize\\_minpack_py.py:492: RuntimeWarning: Number of calls to function has reached maxfev = 1200.\n",
      "  warnings.warn(errors[info][0], RuntimeWarning)\n",
      "Calculating FWHM: 100%|██████████| 390/390 [00:01<00:00, 320.94it/s]\n",
      "Matching triangles: 100%|██████████| 83/83 [00:00<00:00, 793.51it/s]\n"
     ]
    },
    {
     "name": "stdout",
     "output_type": "stream",
     "text": [
      "Processing D:\\Astro\\20220927\\C30\\Light\\Light_01328_180.0sec_200gain_-0.3C.fit...\n",
      "img16 shape: (2822, 4144), img8 shape: (2822, 4144)\n"
     ]
    },
    {
     "name": "stderr",
     "output_type": "stream",
     "text": [
      "Calculating FWHM:   0%|          | 0/406 [00:00<?, ?it/s]c:\\Users\\anand\\anaconda3\\envs\\astro\\lib\\site-packages\\scipy\\optimize\\_minpack_py.py:492: RuntimeWarning: Number of calls to function has reached maxfev = 1200.\n",
      "  warnings.warn(errors[info][0], RuntimeWarning)\n",
      "Calculating FWHM: 100%|██████████| 406/406 [00:01<00:00, 311.88it/s]\n",
      "Matching triangles: 100%|██████████| 73/73 [00:00<00:00, 625.30it/s]\n"
     ]
    },
    {
     "name": "stdout",
     "output_type": "stream",
     "text": [
      "Processing D:\\Astro\\20220927\\C30\\Light\\Light_01329_180.0sec_200gain_-0.3C.fit...\n",
      "img16 shape: (2822, 4144), img8 shape: (2822, 4144)\n"
     ]
    },
    {
     "name": "stderr",
     "output_type": "stream",
     "text": [
      "Calculating FWHM:  88%|████████▊ | 359/406 [00:01<00:00, 338.82it/s]c:\\Users\\anand\\anaconda3\\envs\\astro\\lib\\site-packages\\scipy\\optimize\\_minpack_py.py:492: RuntimeWarning: Number of calls to function has reached maxfev = 1200.\n",
      "  warnings.warn(errors[info][0], RuntimeWarning)\n",
      "Calculating FWHM: 100%|██████████| 406/406 [00:01<00:00, 318.32it/s]\n",
      "Matching triangles: 100%|██████████| 93/93 [00:00<00:00, 702.84it/s]\n"
     ]
    },
    {
     "name": "stdout",
     "output_type": "stream",
     "text": [
      "Processing D:\\Astro\\20220922\\C30\\Light\\Light_00975_180.0sec_200gain_-0.3C.fit...\n",
      "img16 shape: (2822, 4144), img8 shape: (2822, 4144)\n"
     ]
    },
    {
     "name": "stderr",
     "output_type": "stream",
     "text": [
      "Calculating FWHM: 100%|██████████| 413/413 [00:01<00:00, 334.21it/s]\n",
      "Matching triangles: 100%|██████████| 89/89 [00:00<00:00, 641.13it/s]\n"
     ]
    },
    {
     "name": "stdout",
     "output_type": "stream",
     "text": [
      "Processing D:\\Astro\\20220922\\C30\\Light\\Light_00963_180.0sec_200gain_-0.3C.fit...\n",
      "img16 shape: (2822, 4144), img8 shape: (2822, 4144)\n"
     ]
    },
    {
     "name": "stderr",
     "output_type": "stream",
     "text": [
      "Calculating FWHM:  92%|█████████▏| 391/425 [00:01<00:00, 348.57it/s]c:\\Users\\anand\\anaconda3\\envs\\astro\\lib\\site-packages\\scipy\\optimize\\_minpack_py.py:492: RuntimeWarning: Number of calls to function has reached maxfev = 1200.\n",
      "  warnings.warn(errors[info][0], RuntimeWarning)\n",
      "Calculating FWHM: 100%|██████████| 425/425 [00:01<00:00, 337.88it/s]\n",
      "Matching triangles: 100%|██████████| 79/79 [00:00<00:00, 665.49it/s]\n"
     ]
    },
    {
     "name": "stdout",
     "output_type": "stream",
     "text": [
      "Processing D:\\Astro\\20220922\\C30\\Light\\Light_00969_180.0sec_200gain_-0.3C.fit...\n",
      "img16 shape: (2822, 4144), img8 shape: (2822, 4144)\n"
     ]
    },
    {
     "name": "stderr",
     "output_type": "stream",
     "text": [
      "Calculating FWHM:   0%|          | 0/441 [00:00<?, ?it/s]c:\\Users\\anand\\anaconda3\\envs\\astro\\lib\\site-packages\\scipy\\optimize\\_minpack_py.py:492: RuntimeWarning: Number of calls to function has reached maxfev = 1200.\n",
      "  warnings.warn(errors[info][0], RuntimeWarning)\n",
      "Calculating FWHM: 100%|██████████| 441/441 [00:01<00:00, 320.37it/s]\n",
      "Matching triangles: 100%|██████████| 86/86 [00:00<00:00, 687.43it/s]\n"
     ]
    },
    {
     "name": "stdout",
     "output_type": "stream",
     "text": [
      "Processing D:\\Astro\\20220922\\C30\\Light\\Light_00983_180.0sec_200gain_-0.3C.fit...\n",
      "img16 shape: (2822, 4144), img8 shape: (2822, 4144)\n"
     ]
    },
    {
     "name": "stderr",
     "output_type": "stream",
     "text": [
      "Calculating FWHM:  94%|█████████▍| 384/408 [00:01<00:00, 342.55it/s]c:\\Users\\anand\\anaconda3\\envs\\astro\\lib\\site-packages\\scipy\\optimize\\_minpack_py.py:492: RuntimeWarning: Number of calls to function has reached maxfev = 1200.\n",
      "  warnings.warn(errors[info][0], RuntimeWarning)\n",
      "Calculating FWHM: 100%|██████████| 408/408 [00:01<00:00, 326.51it/s]\n",
      "Matching triangles: 100%|██████████| 86/86 [00:00<00:00, 650.61it/s]\n"
     ]
    },
    {
     "name": "stdout",
     "output_type": "stream",
     "text": [
      "Processing D:\\Astro\\20220922\\C30\\Light\\Light_00968_180.0sec_200gain_-0.3C.fit...\n",
      "img16 shape: (2822, 4144), img8 shape: (2822, 4144)\n"
     ]
    },
    {
     "name": "stderr",
     "output_type": "stream",
     "text": [
      "Calculating FWHM:  96%|█████████▋| 420/436 [00:01<00:00, 338.83it/s]c:\\Users\\anand\\anaconda3\\envs\\astro\\lib\\site-packages\\scipy\\optimize\\_minpack_py.py:492: RuntimeWarning: Number of calls to function has reached maxfev = 1200.\n",
      "  warnings.warn(errors[info][0], RuntimeWarning)\n",
      "Calculating FWHM: 100%|██████████| 436/436 [00:01<00:00, 330.04it/s]\n",
      "Matching triangles: 100%|██████████| 72/72 [00:00<00:00, 669.48it/s]\n"
     ]
    },
    {
     "name": "stdout",
     "output_type": "stream",
     "text": [
      "Processing D:\\Astro\\20220927\\C30\\Light\\Light_01330_180.0sec_200gain_-0.3C.fit...\n",
      "img16 shape: (2822, 4144), img8 shape: (2822, 4144)\n"
     ]
    },
    {
     "name": "stderr",
     "output_type": "stream",
     "text": [
      "Calculating FWHM:   0%|          | 0/421 [00:00<?, ?it/s]c:\\Users\\anand\\anaconda3\\envs\\astro\\lib\\site-packages\\scipy\\optimize\\_minpack_py.py:492: RuntimeWarning: Number of calls to function has reached maxfev = 1200.\n",
      "  warnings.warn(errors[info][0], RuntimeWarning)\n",
      "Calculating FWHM: 100%|██████████| 421/421 [00:01<00:00, 310.36it/s]\n",
      "Matching triangles: 100%|██████████| 85/85 [00:00<00:00, 701.08it/s]\n"
     ]
    },
    {
     "name": "stdout",
     "output_type": "stream",
     "text": [
      "Processing D:\\Astro\\20220927\\C30\\Light\\Light_01322_180.0sec_200gain_-0.3C.fit...\n",
      "img16 shape: (2822, 4144), img8 shape: (2822, 4144)\n"
     ]
    },
    {
     "name": "stderr",
     "output_type": "stream",
     "text": [
      "Calculating FWHM:  89%|████████▊ | 373/421 [00:01<00:00, 348.31it/s]c:\\Users\\anand\\anaconda3\\envs\\astro\\lib\\site-packages\\scipy\\optimize\\_minpack_py.py:492: RuntimeWarning: Number of calls to function has reached maxfev = 1200.\n",
      "  warnings.warn(errors[info][0], RuntimeWarning)\n",
      "Calculating FWHM: 100%|██████████| 421/421 [00:01<00:00, 318.92it/s]\n",
      "Matching triangles: 100%|██████████| 87/87 [00:00<00:00, 754.27it/s]\n"
     ]
    },
    {
     "name": "stdout",
     "output_type": "stream",
     "text": [
      "Processing D:\\Astro\\20220922\\C30\\Light\\Light_00971_180.0sec_200gain_-0.3C.fit...\n",
      "img16 shape: (2822, 4144), img8 shape: (2822, 4144)\n"
     ]
    },
    {
     "name": "stderr",
     "output_type": "stream",
     "text": [
      "Calculating FWHM:   0%|          | 0/434 [00:00<?, ?it/s]c:\\Users\\anand\\anaconda3\\envs\\astro\\lib\\site-packages\\scipy\\optimize\\_minpack_py.py:492: RuntimeWarning: Number of calls to function has reached maxfev = 1200.\n",
      "  warnings.warn(errors[info][0], RuntimeWarning)\n",
      "Calculating FWHM: 100%|██████████| 434/434 [00:01<00:00, 318.09it/s]\n",
      "Matching triangles: 100%|██████████| 82/82 [00:00<00:00, 644.63it/s]\n"
     ]
    },
    {
     "name": "stdout",
     "output_type": "stream",
     "text": [
      "Processing D:\\Astro\\20220927\\C30\\Light\\Light_01320_180.0sec_200gain_-0.3C.fit...\n",
      "img16 shape: (2822, 4144), img8 shape: (2822, 4144)\n"
     ]
    },
    {
     "name": "stderr",
     "output_type": "stream",
     "text": [
      "Calculating FWHM:   0%|          | 0/415 [00:00<?, ?it/s]c:\\Users\\anand\\anaconda3\\envs\\astro\\lib\\site-packages\\scipy\\optimize\\_minpack_py.py:492: RuntimeWarning: Number of calls to function has reached maxfev = 1200.\n",
      "  warnings.warn(errors[info][0], RuntimeWarning)\n",
      "Calculating FWHM: 100%|██████████| 415/415 [00:01<00:00, 317.94it/s]\n",
      "Matching triangles: 100%|██████████| 93/93 [00:00<00:00, 689.89it/s]\n"
     ]
    },
    {
     "name": "stdout",
     "output_type": "stream",
     "text": [
      "Processing D:\\Astro\\20220927\\C30\\Light\\Light_01321_180.0sec_200gain_-0.3C.fit...\n",
      "img16 shape: (2822, 4144), img8 shape: (2822, 4144)\n"
     ]
    },
    {
     "name": "stderr",
     "output_type": "stream",
     "text": [
      "Calculating FWHM:  96%|█████████▌| 414/431 [00:01<00:00, 321.52it/s]c:\\Users\\anand\\anaconda3\\envs\\astro\\lib\\site-packages\\scipy\\optimize\\_minpack_py.py:492: RuntimeWarning: Number of calls to function has reached maxfev = 1200.\n",
      "  warnings.warn(errors[info][0], RuntimeWarning)\n",
      "Calculating FWHM: 100%|██████████| 431/431 [00:01<00:00, 325.20it/s]\n",
      "Matching triangles: 100%|██████████| 86/86 [00:00<00:00, 694.11it/s]\n"
     ]
    },
    {
     "name": "stdout",
     "output_type": "stream",
     "text": [
      "Processing D:\\Astro\\20220922\\C30\\Light\\Light_00937_180.0sec_200gain_-0.3C.fit...\n",
      "img16 shape: (2822, 4144), img8 shape: (2822, 4144)\n"
     ]
    },
    {
     "name": "stderr",
     "output_type": "stream",
     "text": [
      "Calculating FWHM:   0%|          | 0/475 [00:00<?, ?it/s]c:\\Users\\anand\\anaconda3\\envs\\astro\\lib\\site-packages\\scipy\\optimize\\_minpack_py.py:492: RuntimeWarning: Number of calls to function has reached maxfev = 1200.\n",
      "  warnings.warn(errors[info][0], RuntimeWarning)\n",
      "Calculating FWHM: 100%|██████████| 475/475 [00:01<00:00, 329.85it/s]\n",
      "Matching triangles: 100%|██████████| 71/71 [00:00<00:00, 713.32it/s]\n"
     ]
    },
    {
     "name": "stdout",
     "output_type": "stream",
     "text": [
      "Processing D:\\Astro\\20220927\\C30\\Light\\Light_01340_180.0sec_200gain_-0.3C.fit...\n",
      "img16 shape: (2822, 4144), img8 shape: (2822, 4144)\n"
     ]
    },
    {
     "name": "stderr",
     "output_type": "stream",
     "text": [
      "Calculating FWHM:  88%|████████▊ | 363/411 [00:01<00:00, 347.55it/s]c:\\Users\\anand\\anaconda3\\envs\\astro\\lib\\site-packages\\scipy\\optimize\\_minpack_py.py:492: RuntimeWarning: Number of calls to function has reached maxfev = 1200.\n",
      "  warnings.warn(errors[info][0], RuntimeWarning)\n",
      "Calculating FWHM: 100%|██████████| 411/411 [00:01<00:00, 323.72it/s]\n",
      "Matching triangles: 100%|██████████| 91/91 [00:00<00:00, 685.47it/s]\n"
     ]
    },
    {
     "name": "stdout",
     "output_type": "stream",
     "text": [
      "Processing D:\\Astro\\20220927\\C30\\Light\\Light_01319_180.0sec_200gain_-0.3C.fit...\n",
      "img16 shape: (2822, 4144), img8 shape: (2822, 4144)\n"
     ]
    },
    {
     "name": "stderr",
     "output_type": "stream",
     "text": [
      "Calculating FWHM:   0%|          | 0/417 [00:00<?, ?it/s]c:\\Users\\anand\\anaconda3\\envs\\astro\\lib\\site-packages\\scipy\\optimize\\_minpack_py.py:492: RuntimeWarning: Number of calls to function has reached maxfev = 1200.\n",
      "  warnings.warn(errors[info][0], RuntimeWarning)\n",
      "Calculating FWHM: 100%|██████████| 417/417 [00:01<00:00, 313.45it/s]\n",
      "Matching triangles: 100%|██████████| 90/90 [00:00<00:00, 627.89it/s]\n"
     ]
    },
    {
     "name": "stdout",
     "output_type": "stream",
     "text": [
      "Processing D:\\Astro\\20220922\\C30\\Light\\Light_00973_180.0sec_200gain_-0.3C.fit...\n",
      "img16 shape: (2822, 4144), img8 shape: (2822, 4144)\n"
     ]
    },
    {
     "name": "stderr",
     "output_type": "stream",
     "text": [
      "Calculating FWHM:   0%|          | 0/448 [00:00<?, ?it/s]c:\\Users\\anand\\anaconda3\\envs\\astro\\lib\\site-packages\\scipy\\optimize\\_minpack_py.py:492: RuntimeWarning: Number of calls to function has reached maxfev = 1200.\n",
      "  warnings.warn(errors[info][0], RuntimeWarning)\n",
      "Calculating FWHM: 100%|██████████| 448/448 [00:01<00:00, 345.11it/s]\n",
      "Matching triangles: 100%|██████████| 86/86 [00:00<00:00, 686.58it/s]\n"
     ]
    },
    {
     "name": "stdout",
     "output_type": "stream",
     "text": [
      "Processing D:\\Astro\\20220927\\C30\\Light\\Light_01311_180.0sec_200gain_-0.3C.fit...\n",
      "img16 shape: (2822, 4144), img8 shape: (2822, 4144)\n"
     ]
    },
    {
     "name": "stderr",
     "output_type": "stream",
     "text": [
      "Calculating FWHM:   0%|          | 0/431 [00:00<?, ?it/s]c:\\Users\\anand\\anaconda3\\envs\\astro\\lib\\site-packages\\scipy\\optimize\\_minpack_py.py:492: RuntimeWarning: Number of calls to function has reached maxfev = 1200.\n",
      "  warnings.warn(errors[info][0], RuntimeWarning)\n",
      "Calculating FWHM: 100%|██████████| 431/431 [00:01<00:00, 320.68it/s]\n",
      "Matching triangles: 100%|██████████| 85/85 [00:00<00:00, 678.41it/s]\n"
     ]
    },
    {
     "name": "stdout",
     "output_type": "stream",
     "text": [
      "Processing D:\\Astro\\20220927\\C30\\Light\\Light_01336_180.0sec_200gain_-0.3C.fit...\n",
      "img16 shape: (2822, 4144), img8 shape: (2822, 4144)\n"
     ]
    },
    {
     "name": "stderr",
     "output_type": "stream",
     "text": [
      "Calculating FWHM:   0%|          | 0/407 [00:00<?, ?it/s]c:\\Users\\anand\\anaconda3\\envs\\astro\\lib\\site-packages\\scipy\\optimize\\_minpack_py.py:492: RuntimeWarning: Number of calls to function has reached maxfev = 1200.\n",
      "  warnings.warn(errors[info][0], RuntimeWarning)\n",
      "Calculating FWHM: 100%|██████████| 407/407 [00:01<00:00, 311.61it/s]\n",
      "Matching triangles: 100%|██████████| 88/88 [00:00<00:00, 756.05it/s]\n"
     ]
    },
    {
     "name": "stdout",
     "output_type": "stream",
     "text": [
      "Processing D:\\Astro\\20220922\\C30\\Light\\Light_00947_180.0sec_200gain_-0.3C.fit...\n",
      "img16 shape: (2822, 4144), img8 shape: (2822, 4144)\n"
     ]
    },
    {
     "name": "stderr",
     "output_type": "stream",
     "text": [
      "Calculating FWHM:  95%|█████████▌| 413/433 [00:01<00:00, 333.81it/s]c:\\Users\\anand\\anaconda3\\envs\\astro\\lib\\site-packages\\scipy\\optimize\\_minpack_py.py:492: RuntimeWarning: Number of calls to function has reached maxfev = 1200.\n",
      "  warnings.warn(errors[info][0], RuntimeWarning)\n",
      "Calculating FWHM: 100%|██████████| 433/433 [00:01<00:00, 333.29it/s]\n",
      "Matching triangles: 100%|██████████| 74/74 [00:00<00:00, 704.77it/s]\n"
     ]
    },
    {
     "name": "stdout",
     "output_type": "stream",
     "text": [
      "Processing D:\\Astro\\20220927\\C30\\Light\\Light_01345_180.0sec_200gain_-0.3C.fit...\n",
      "img16 shape: (2822, 4144), img8 shape: (2822, 4144)\n"
     ]
    },
    {
     "name": "stderr",
     "output_type": "stream",
     "text": [
      "Calculating FWHM:   0%|          | 0/403 [00:00<?, ?it/s]c:\\Users\\anand\\anaconda3\\envs\\astro\\lib\\site-packages\\scipy\\optimize\\_minpack_py.py:492: RuntimeWarning: Number of calls to function has reached maxfev = 1200.\n",
      "  warnings.warn(errors[info][0], RuntimeWarning)\n",
      "Calculating FWHM: 100%|██████████| 403/403 [00:01<00:00, 320.53it/s]\n",
      "Matching triangles: 100%|██████████| 90/90 [00:00<00:00, 701.48it/s]\n"
     ]
    },
    {
     "name": "stdout",
     "output_type": "stream",
     "text": [
      "Processing D:\\Astro\\20220927\\C30\\Light\\Light_01303_180.0sec_200gain_-0.3C.fit...\n",
      "img16 shape: (2822, 4144), img8 shape: (2822, 4144)\n"
     ]
    },
    {
     "name": "stderr",
     "output_type": "stream",
     "text": [
      "Calculating FWHM:   0%|          | 0/426 [00:00<?, ?it/s]c:\\Users\\anand\\anaconda3\\envs\\astro\\lib\\site-packages\\scipy\\optimize\\_minpack_py.py:492: RuntimeWarning: Number of calls to function has reached maxfev = 1200.\n",
      "  warnings.warn(errors[info][0], RuntimeWarning)\n",
      "Calculating FWHM: 100%|██████████| 426/426 [00:01<00:00, 315.72it/s]\n",
      "Matching triangles: 100%|██████████| 92/92 [00:00<00:00, 707.24it/s]\n"
     ]
    },
    {
     "name": "stdout",
     "output_type": "stream",
     "text": [
      "Processing D:\\Astro\\20220927\\C30\\Light\\Light_01341_180.0sec_200gain_-0.3C.fit...\n",
      "img16 shape: (2822, 4144), img8 shape: (2822, 4144)\n"
     ]
    },
    {
     "name": "stderr",
     "output_type": "stream",
     "text": [
      "Calculating FWHM:   0%|          | 0/411 [00:00<?, ?it/s]c:\\Users\\anand\\anaconda3\\envs\\astro\\lib\\site-packages\\scipy\\optimize\\_minpack_py.py:492: RuntimeWarning: Number of calls to function has reached maxfev = 1200.\n",
      "  warnings.warn(errors[info][0], RuntimeWarning)\n",
      "Calculating FWHM: 100%|██████████| 411/411 [00:01<00:00, 316.09it/s]\n",
      "Matching triangles: 100%|██████████| 82/82 [00:00<00:00, 624.77it/s]\n"
     ]
    },
    {
     "name": "stdout",
     "output_type": "stream",
     "text": [
      "Processing D:\\Astro\\20220927\\C30\\Light\\Light_01309_180.0sec_200gain_-0.3C.fit...\n",
      "img16 shape: (2822, 4144), img8 shape: (2822, 4144)\n"
     ]
    },
    {
     "name": "stderr",
     "output_type": "stream",
     "text": [
      "Calculating FWHM:   0%|          | 0/437 [00:00<?, ?it/s]c:\\Users\\anand\\anaconda3\\envs\\astro\\lib\\site-packages\\scipy\\optimize\\_minpack_py.py:492: RuntimeWarning: Number of calls to function has reached maxfev = 1200.\n",
      "  warnings.warn(errors[info][0], RuntimeWarning)\n",
      "Calculating FWHM: 100%|██████████| 437/437 [00:01<00:00, 321.46it/s]\n",
      "Matching triangles: 100%|██████████| 88/88 [00:00<00:00, 665.81it/s]\n"
     ]
    },
    {
     "name": "stdout",
     "output_type": "stream",
     "text": [
      "Processing D:\\Astro\\20220927\\C30\\Light\\Light_01310_180.0sec_200gain_-0.3C.fit...\n",
      "img16 shape: (2822, 4144), img8 shape: (2822, 4144)\n"
     ]
    },
    {
     "name": "stderr",
     "output_type": "stream",
     "text": [
      "Calculating FWHM:   0%|          | 0/449 [00:00<?, ?it/s]c:\\Users\\anand\\anaconda3\\envs\\astro\\lib\\site-packages\\scipy\\optimize\\_minpack_py.py:492: RuntimeWarning: Number of calls to function has reached maxfev = 1200.\n",
      "  warnings.warn(errors[info][0], RuntimeWarning)\n",
      "Calculating FWHM: 100%|██████████| 449/449 [00:01<00:00, 322.37it/s]\n",
      "Matching triangles: 100%|██████████| 96/96 [00:00<00:00, 691.39it/s]\n"
     ]
    },
    {
     "name": "stdout",
     "output_type": "stream",
     "text": [
      "Processing D:\\Astro\\20220927\\C30\\Light\\Light_01317_180.0sec_200gain_-0.3C.fit...\n",
      "img16 shape: (2822, 4144), img8 shape: (2822, 4144)\n"
     ]
    },
    {
     "name": "stderr",
     "output_type": "stream",
     "text": [
      "Calculating FWHM:  90%|█████████ | 380/420 [00:01<00:00, 347.90it/s]c:\\Users\\anand\\anaconda3\\envs\\astro\\lib\\site-packages\\scipy\\optimize\\_minpack_py.py:492: RuntimeWarning: Number of calls to function has reached maxfev = 1200.\n",
      "  warnings.warn(errors[info][0], RuntimeWarning)\n",
      "Calculating FWHM: 100%|██████████| 420/420 [00:01<00:00, 312.49it/s]\n",
      "Matching triangles: 100%|██████████| 82/82 [00:00<00:00, 774.75it/s]\n"
     ]
    },
    {
     "name": "stdout",
     "output_type": "stream",
     "text": [
      "Processing D:\\Astro\\20220927\\C30\\Light\\Light_01308_180.0sec_200gain_-0.3C.fit...\n",
      "img16 shape: (2822, 4144), img8 shape: (2822, 4144)\n"
     ]
    },
    {
     "name": "stderr",
     "output_type": "stream",
     "text": [
      "Calculating FWHM:   0%|          | 0/427 [00:00<?, ?it/s]c:\\Users\\anand\\anaconda3\\envs\\astro\\lib\\site-packages\\scipy\\optimize\\_minpack_py.py:492: RuntimeWarning: Number of calls to function has reached maxfev = 1200.\n",
      "  warnings.warn(errors[info][0], RuntimeWarning)\n",
      "Calculating FWHM: 100%|██████████| 427/427 [00:01<00:00, 303.57it/s]\n",
      "Matching triangles: 100%|██████████| 83/83 [00:00<00:00, 706.83it/s]\n"
     ]
    },
    {
     "name": "stdout",
     "output_type": "stream",
     "text": [
      "Processing D:\\Astro\\20220927\\C30\\Light\\Light_01312_180.0sec_200gain_-0.3C.fit...\n",
      "img16 shape: (2822, 4144), img8 shape: (2822, 4144)\n"
     ]
    },
    {
     "name": "stderr",
     "output_type": "stream",
     "text": [
      "Calculating FWHM:   0%|          | 0/438 [00:00<?, ?it/s]c:\\Users\\anand\\anaconda3\\envs\\astro\\lib\\site-packages\\scipy\\optimize\\_minpack_py.py:492: RuntimeWarning: Number of calls to function has reached maxfev = 1200.\n",
      "  warnings.warn(errors[info][0], RuntimeWarning)\n",
      "Calculating FWHM: 100%|██████████| 438/438 [00:01<00:00, 320.47it/s]\n",
      "Matching triangles: 100%|██████████| 74/74 [00:00<00:00, 691.69it/s]\n"
     ]
    },
    {
     "name": "stdout",
     "output_type": "stream",
     "text": [
      "Processing D:\\Astro\\20220927\\C30\\Light\\Light_01346_180.0sec_200gain_-0.3C.fit...\n",
      "img16 shape: (2822, 4144), img8 shape: (2822, 4144)\n"
     ]
    },
    {
     "name": "stderr",
     "output_type": "stream",
     "text": [
      "Calculating FWHM:  90%|████████▉ | 365/407 [00:01<00:00, 335.93it/s]c:\\Users\\anand\\anaconda3\\envs\\astro\\lib\\site-packages\\scipy\\optimize\\_minpack_py.py:492: RuntimeWarning: Number of calls to function has reached maxfev = 1200.\n",
      "  warnings.warn(errors[info][0], RuntimeWarning)\n",
      "Calculating FWHM: 100%|██████████| 407/407 [00:01<00:00, 319.66it/s]\n",
      "Matching triangles: 100%|██████████| 90/90 [00:00<00:00, 727.87it/s]\n"
     ]
    }
   ],
   "source": [
    "df_fwhm = None\n",
    "\n",
    "for i, tgt_file in enumerate(df.fit_file):\n",
    "    print(f\"Processing {tgt_file}...\")\n",
    "    df_tgt = starfinder.getStarData(tgt_file, topk=10)['stars']\n",
    "\n",
    "    df_matched = starmatcher.matchStars(df_ref, df_tgt)\n",
    "     \n",
    "    if df_fwhm is None:\n",
    "        df_fwhm = df_matched[['index_ref', 'fwhm_x_ref', 'fwhm_y_ref', 'fwhm_x_tgt', 'fwhm_y_tgt']]\n",
    "    else:\n",
    "        df_fwhm = pd.merge(left=df_fwhm, right=df_matched[['index_ref', 'fwhm_x_tgt', 'fwhm_y_tgt']], how='left', on='index_ref', suffixes=('', f'_{i:05d}'))\n",
    "    \n",
    "    \n",
    "\n",
    "df_fwhm.to_csv(\"fwhm.csv\")"
   ]
  },
  {
   "cell_type": "code",
   "execution_count": 17,
   "metadata": {},
   "outputs": [],
   "source": [
    "df_fwhm.T.to_csv(\"fwhm_t.csv\")"
   ]
  }
 ],
 "metadata": {
  "interpreter": {
   "hash": "0c4d4844cb86d76aae055aa4e1025398b22665261f4b526f8aab80ac97156c6e"
  },
  "kernelspec": {
   "display_name": "Python 3.8.8 ('tf')",
   "language": "python",
   "name": "python3"
  },
  "language_info": {
   "codemirror_mode": {
    "name": "ipython",
    "version": 3
   },
   "file_extension": ".py",
   "mimetype": "text/x-python",
   "name": "python",
   "nbconvert_exporter": "python",
   "pygments_lexer": "ipython3",
   "version": "3.9.16"
  },
  "orig_nbformat": 4
 },
 "nbformat": 4,
 "nbformat_minor": 2
}
