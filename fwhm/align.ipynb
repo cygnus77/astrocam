{
 "cells": [
  {
   "cell_type": "code",
   "execution_count": 1,
   "metadata": {},
   "outputs": [],
   "source": [
    "import rawpy\n",
    "import numpy as np\n",
    "import cv2\n",
    "import pandas as pd\n",
    "import matplotlib.pyplot as plt"
   ]
  },
  {
   "cell_type": "code",
   "execution_count": 2,
   "metadata": {},
   "outputs": [],
   "source": [
    "import importlib\n",
    "import find_stars\n",
    "importlib.reload(find_stars)\n",
    "from find_stars import StarFinder"
   ]
  },
  {
   "cell_type": "markdown",
   "metadata": {},
   "source": [
    "Scan stars from image"
   ]
  },
  {
   "cell_type": "code",
   "execution_count": 3,
   "metadata": {},
   "outputs": [],
   "source": [
    "out_of_focus = r\"C:\\code\\astrocam\\outoffocus\\Image741.nef\"\n",
    "in_focus = r\"C:\\code\\astrocam\\light\\Image752.nef\"\n",
    "\n",
    "s = StarFinder()\n",
    "\n",
    "ref_data = s.getStarData(in_focus)\n",
    "tgt_data = s.getStarData(out_of_focus)\n",
    "ref_image, ref_stars = ref_data[\"image\"], ref_data[\"stars\"]\n",
    "tgt_image, tgt_stars = tgt_data[\"image\"], tgt_data[\"stars\"]\n"
   ]
  },
  {
   "cell_type": "markdown",
   "metadata": {},
   "source": [
    "Convert to DataFrame"
   ]
  },
  {
   "cell_type": "code",
   "execution_count": 4,
   "metadata": {},
   "outputs": [],
   "source": [
    "def getStarDF(stardata):\n",
    "  df = pd.DataFrame(stardata)\n",
    "  df.drop(0, axis=0, inplace=True)\n",
    "  return df\n"
   ]
  },
  {
   "cell_type": "code",
   "execution_count": 5,
   "metadata": {},
   "outputs": [],
   "source": [
    "df_ref = getStarDF(ref_stars)"
   ]
  },
  {
   "cell_type": "code",
   "execution_count": 6,
   "metadata": {},
   "outputs": [],
   "source": [
    "df_tgt = getStarDF(tgt_stars)"
   ]
  },
  {
   "cell_type": "code",
   "execution_count": 7,
   "metadata": {},
   "outputs": [
    {
     "data": {
      "text/html": [
       "<div>\n",
       "<style scoped>\n",
       "    .dataframe tbody tr th:only-of-type {\n",
       "        vertical-align: middle;\n",
       "    }\n",
       "\n",
       "    .dataframe tbody tr th {\n",
       "        vertical-align: top;\n",
       "    }\n",
       "\n",
       "    .dataframe thead th {\n",
       "        text-align: right;\n",
       "    }\n",
       "</style>\n",
       "<table border=\"1\" class=\"dataframe\">\n",
       "  <thead>\n",
       "    <tr style=\"text-align: right;\">\n",
       "      <th></th>\n",
       "      <th>area</th>\n",
       "      <th>centroid</th>\n",
       "      <th>box</th>\n",
       "      <th>tile_4</th>\n",
       "      <th>tile_16</th>\n",
       "      <th>tile_32</th>\n",
       "    </tr>\n",
       "  </thead>\n",
       "  <tbody>\n",
       "    <tr>\n",
       "      <th>1</th>\n",
       "      <td>43</td>\n",
       "      <td>[560.8372093023256, 1.9069767441860466]</td>\n",
       "      <td>[556, 0, 566, 5]</td>\n",
       "      <td>140</td>\n",
       "      <td>35</td>\n",
       "      <td>18</td>\n",
       "    </tr>\n",
       "    <tr>\n",
       "      <th>2</th>\n",
       "      <td>88</td>\n",
       "      <td>[2968.9204545454545, 180.60227272727272]</td>\n",
       "      <td>[2964, 175, 2974, 186]</td>\n",
       "      <td>49252</td>\n",
       "      <td>3156</td>\n",
       "      <td>903</td>\n",
       "    </tr>\n",
       "    <tr>\n",
       "      <th>3</th>\n",
       "      <td>70</td>\n",
       "      <td>[2920.4, 182.1]</td>\n",
       "      <td>[2916, 177, 2925, 187]</td>\n",
       "      <td>50318</td>\n",
       "      <td>3153</td>\n",
       "      <td>901</td>\n",
       "    </tr>\n",
       "    <tr>\n",
       "      <th>4</th>\n",
       "      <td>206</td>\n",
       "      <td>[2233.9854368932038, 241.9126213592233]</td>\n",
       "      <td>[2226, 233, 2242, 251]</td>\n",
       "      <td>65238</td>\n",
       "      <td>4190</td>\n",
       "      <td>1150</td>\n",
       "    </tr>\n",
       "    <tr>\n",
       "      <th>5</th>\n",
       "      <td>49</td>\n",
       "      <td>[679.0, 495.0]</td>\n",
       "      <td>[675, 491, 683, 499]</td>\n",
       "      <td>133842</td>\n",
       "      <td>8412</td>\n",
       "      <td>2046</td>\n",
       "    </tr>\n",
       "    <tr>\n",
       "      <th>6</th>\n",
       "      <td>151</td>\n",
       "      <td>[1154.4370860927152, 579.5165562913908]</td>\n",
       "      <td>[1148, 572, 1161, 587]</td>\n",
       "      <td>156599</td>\n",
       "      <td>9792</td>\n",
       "      <td>2466</td>\n",
       "    </tr>\n",
       "    <tr>\n",
       "      <th>7</th>\n",
       "      <td>49</td>\n",
       "      <td>[2172.0, 793.0]</td>\n",
       "      <td>[2168, 789, 2176, 797]</td>\n",
       "      <td>213987</td>\n",
       "      <td>13636</td>\n",
       "      <td>3443</td>\n",
       "    </tr>\n",
       "    <tr>\n",
       "      <th>8</th>\n",
       "      <td>56</td>\n",
       "      <td>[1510.0, 864.5]</td>\n",
       "      <td>[1506, 860, 1514, 869]</td>\n",
       "      <td>233226</td>\n",
       "      <td>14674</td>\n",
       "      <td>3692</td>\n",
       "    </tr>\n",
       "    <tr>\n",
       "      <th>9</th>\n",
       "      <td>177</td>\n",
       "      <td>[1913.9943502824858, 933.6836158192091]</td>\n",
       "      <td>[1907, 926, 1921, 942]</td>\n",
       "      <td>251652</td>\n",
       "      <td>15780</td>\n",
       "      <td>3975</td>\n",
       "    </tr>\n",
       "    <tr>\n",
       "      <th>10</th>\n",
       "      <td>63</td>\n",
       "      <td>[2265.5555555555557, 951.4444444444445]</td>\n",
       "      <td>[2261, 947, 2270, 956]</td>\n",
       "      <td>257130</td>\n",
       "      <td>16072</td>\n",
       "      <td>4121</td>\n",
       "    </tr>\n",
       "    <tr>\n",
       "      <th>11</th>\n",
       "      <td>87</td>\n",
       "      <td>[1053.0344827586207, 965.448275862069]</td>\n",
       "      <td>[1048, 960, 1058, 971]</td>\n",
       "      <td>260061</td>\n",
       "      <td>16266</td>\n",
       "      <td>4083</td>\n",
       "    </tr>\n",
       "    <tr>\n",
       "      <th>12</th>\n",
       "      <td>71</td>\n",
       "      <td>[1150.943661971831, 992.4507042253521]</td>\n",
       "      <td>[1146, 988, 1156, 997]</td>\n",
       "      <td>267632</td>\n",
       "      <td>16812</td>\n",
       "      <td>4221</td>\n",
       "    </tr>\n",
       "    <tr>\n",
       "      <th>13</th>\n",
       "      <td>105</td>\n",
       "      <td>[3307.114285714286, 996.4571428571429]</td>\n",
       "      <td>[3301, 991, 3313, 1002]</td>\n",
       "      <td>269249</td>\n",
       "      <td>16947</td>\n",
       "      <td>4288</td>\n",
       "    </tr>\n",
       "    <tr>\n",
       "      <th>14</th>\n",
       "      <td>138</td>\n",
       "      <td>[891.4347826086956, 1102.7391304347825]</td>\n",
       "      <td>[885, 1096, 898, 1110]</td>\n",
       "      <td>297751</td>\n",
       "      <td>18686</td>\n",
       "      <td>4618</td>\n",
       "    </tr>\n",
       "    <tr>\n",
       "      <th>15</th>\n",
       "      <td>69</td>\n",
       "      <td>[1871.4492753623188, 1102.0434782608695]</td>\n",
       "      <td>[1867, 1097, 1876, 1107]</td>\n",
       "      <td>297996</td>\n",
       "      <td>18747</td>\n",
       "      <td>4648</td>\n",
       "    </tr>\n",
       "    <tr>\n",
       "      <th>16</th>\n",
       "      <td>169</td>\n",
       "      <td>[1325.5384615384614, 1178.680473372781]</td>\n",
       "      <td>[1318, 1172, 1333, 1186]</td>\n",
       "      <td>318341</td>\n",
       "      <td>20063</td>\n",
       "      <td>5036</td>\n",
       "    </tr>\n",
       "    <tr>\n",
       "      <th>17</th>\n",
       "      <td>56</td>\n",
       "      <td>[197.0, 1382.5]</td>\n",
       "      <td>[193, 1378, 201, 1387]</td>\n",
       "      <td>373037</td>\n",
       "      <td>23232</td>\n",
       "      <td>5811</td>\n",
       "    </tr>\n",
       "    <tr>\n",
       "      <th>18</th>\n",
       "      <td>92</td>\n",
       "      <td>[2512.8804347826085, 1434.9565217391305]</td>\n",
       "      <td>[2507, 1430, 2519, 1440]</td>\n",
       "      <td>387630</td>\n",
       "      <td>24457</td>\n",
       "      <td>6154</td>\n",
       "    </tr>\n",
       "    <tr>\n",
       "      <th>19</th>\n",
       "      <td>165</td>\n",
       "      <td>[4181.157575757576, 1478.9818181818182]</td>\n",
       "      <td>[4175, 1470, 4187, 1488]</td>\n",
       "      <td>399905</td>\n",
       "      <td>25101</td>\n",
       "      <td>6341</td>\n",
       "    </tr>\n",
       "    <tr>\n",
       "      <th>20</th>\n",
       "      <td>56</td>\n",
       "      <td>[1358.0, 1526.5]</td>\n",
       "      <td>[1354, 1522, 1362, 1531]</td>\n",
       "      <td>412136</td>\n",
       "      <td>25735</td>\n",
       "      <td>6522</td>\n",
       "    </tr>\n",
       "    <tr>\n",
       "      <th>21</th>\n",
       "      <td>49</td>\n",
       "      <td>[128.0, 1594.0]</td>\n",
       "      <td>[124, 1590, 132, 1598]</td>\n",
       "      <td>429076</td>\n",
       "      <td>27008</td>\n",
       "      <td>6754</td>\n",
       "    </tr>\n",
       "    <tr>\n",
       "      <th>22</th>\n",
       "      <td>93</td>\n",
       "      <td>[1965.2903225806451, 1608.47311827957]</td>\n",
       "      <td>[1960, 1603, 1971, 1614]</td>\n",
       "      <td>433847</td>\n",
       "      <td>27393</td>\n",
       "      <td>6811</td>\n",
       "    </tr>\n",
       "    <tr>\n",
       "      <th>23</th>\n",
       "      <td>124</td>\n",
       "      <td>[656.5564516129032, 1995.733870967742]</td>\n",
       "      <td>[651, 1989, 662, 2003]</td>\n",
       "      <td>538086</td>\n",
       "      <td>33791</td>\n",
       "      <td>8391</td>\n",
       "    </tr>\n",
       "    <tr>\n",
       "      <th>24</th>\n",
       "      <td>88</td>\n",
       "      <td>[942.5909090909091, 2079.909090909091]</td>\n",
       "      <td>[937, 2075, 948, 2085]</td>\n",
       "      <td>560796</td>\n",
       "      <td>35159</td>\n",
       "      <td>8804</td>\n",
       "    </tr>\n",
       "    <tr>\n",
       "      <th>25</th>\n",
       "      <td>147</td>\n",
       "      <td>[3627.5714285714284, 2092.503401360544]</td>\n",
       "      <td>[3621, 2085, 3634, 2100]</td>\n",
       "      <td>564701</td>\n",
       "      <td>35597</td>\n",
       "      <td>8888</td>\n",
       "    </tr>\n",
       "    <tr>\n",
       "      <th>26</th>\n",
       "      <td>112</td>\n",
       "      <td>[1826.0357142857142, 2100.0446428571427]</td>\n",
       "      <td>[1820, 2094, 1832, 2106]</td>\n",
       "      <td>566407</td>\n",
       "      <td>35484</td>\n",
       "      <td>8967</td>\n",
       "    </tr>\n",
       "    <tr>\n",
       "      <th>27</th>\n",
       "      <td>49</td>\n",
       "      <td>[1844.0, 2127.0]</td>\n",
       "      <td>[1840, 2123, 1848, 2131]</td>\n",
       "      <td>573957</td>\n",
       "      <td>36025</td>\n",
       "      <td>8968</td>\n",
       "    </tr>\n",
       "    <tr>\n",
       "      <th>28</th>\n",
       "      <td>102</td>\n",
       "      <td>[4042.9117647058824, 2417.450980392157]</td>\n",
       "      <td>[4038, 2411, 4048, 2424]</td>\n",
       "      <td>652123</td>\n",
       "      <td>41023</td>\n",
       "      <td>10386</td>\n",
       "    </tr>\n",
       "    <tr>\n",
       "      <th>29</th>\n",
       "      <td>195</td>\n",
       "      <td>[4300.625641025641, 2425.225641025641]</td>\n",
       "      <td>[4294, 2415, 4307, 2435]</td>\n",
       "      <td>654343</td>\n",
       "      <td>41309</td>\n",
       "      <td>10394</td>\n",
       "    </tr>\n",
       "    <tr>\n",
       "      <th>30</th>\n",
       "      <td>130</td>\n",
       "      <td>[3113.392307692308, 2449.1846153846154]</td>\n",
       "      <td>[3107, 2443, 3120, 2456]</td>\n",
       "      <td>660514</td>\n",
       "      <td>41505</td>\n",
       "      <td>10492</td>\n",
       "    </tr>\n",
       "    <tr>\n",
       "      <th>31</th>\n",
       "      <td>63</td>\n",
       "      <td>[1715.4444444444443, 2479.5555555555557]</td>\n",
       "      <td>[1711, 2475, 1720, 2484]</td>\n",
       "      <td>668789</td>\n",
       "      <td>41957</td>\n",
       "      <td>10449</td>\n",
       "    </tr>\n",
       "    <tr>\n",
       "      <th>32</th>\n",
       "      <td>49</td>\n",
       "      <td>[2345.0, 2483.0]</td>\n",
       "      <td>[2341, 2479, 2349, 2487]</td>\n",
       "      <td>670024</td>\n",
       "      <td>41997</td>\n",
       "      <td>10603</td>\n",
       "    </tr>\n",
       "    <tr>\n",
       "      <th>33</th>\n",
       "      <td>102</td>\n",
       "      <td>[3034.774509803922, 2635.4117647058824]</td>\n",
       "      <td>[3030, 2629, 3040, 2642]</td>\n",
       "      <td>711161</td>\n",
       "      <td>44740</td>\n",
       "      <td>11165</td>\n",
       "    </tr>\n",
       "    <tr>\n",
       "      <th>34</th>\n",
       "      <td>123</td>\n",
       "      <td>[2356.3008130081303, 2659.1382113821137]</td>\n",
       "      <td>[2350, 2653, 2363, 2665]</td>\n",
       "      <td>717459</td>\n",
       "      <td>44967</td>\n",
       "      <td>11279</td>\n",
       "    </tr>\n",
       "    <tr>\n",
       "      <th>35</th>\n",
       "      <td>49</td>\n",
       "      <td>[1370.0, 2678.0]</td>\n",
       "      <td>[1366, 2674, 1374, 2682]</td>\n",
       "      <td>722602</td>\n",
       "      <td>45176</td>\n",
       "      <td>11383</td>\n",
       "    </tr>\n",
       "    <tr>\n",
       "      <th>36</th>\n",
       "      <td>56</td>\n",
       "      <td>[3294.5, 2689.0]</td>\n",
       "      <td>[3290, 2685, 3299, 2693]</td>\n",
       "      <td>725240</td>\n",
       "      <td>45566</td>\n",
       "      <td>11443</td>\n",
       "    </tr>\n",
       "    <tr>\n",
       "      <th>37</th>\n",
       "      <td>298</td>\n",
       "      <td>[160.3758389261745, 2858.6577181208054]</td>\n",
       "      <td>[150, 2849, 170, 2868]</td>\n",
       "      <td>770810</td>\n",
       "      <td>48340</td>\n",
       "      <td>12020</td>\n",
       "    </tr>\n",
       "  </tbody>\n",
       "</table>\n",
       "</div>"
      ],
      "text/plain": [
       "    area                                  centroid                       box  \\\n",
       "1     43   [560.8372093023256, 1.9069767441860466]          [556, 0, 566, 5]   \n",
       "2     88  [2968.9204545454545, 180.60227272727272]    [2964, 175, 2974, 186]   \n",
       "3     70                           [2920.4, 182.1]    [2916, 177, 2925, 187]   \n",
       "4    206   [2233.9854368932038, 241.9126213592233]    [2226, 233, 2242, 251]   \n",
       "5     49                            [679.0, 495.0]      [675, 491, 683, 499]   \n",
       "6    151   [1154.4370860927152, 579.5165562913908]    [1148, 572, 1161, 587]   \n",
       "7     49                           [2172.0, 793.0]    [2168, 789, 2176, 797]   \n",
       "8     56                           [1510.0, 864.5]    [1506, 860, 1514, 869]   \n",
       "9    177   [1913.9943502824858, 933.6836158192091]    [1907, 926, 1921, 942]   \n",
       "10    63   [2265.5555555555557, 951.4444444444445]    [2261, 947, 2270, 956]   \n",
       "11    87    [1053.0344827586207, 965.448275862069]    [1048, 960, 1058, 971]   \n",
       "12    71    [1150.943661971831, 992.4507042253521]    [1146, 988, 1156, 997]   \n",
       "13   105    [3307.114285714286, 996.4571428571429]   [3301, 991, 3313, 1002]   \n",
       "14   138   [891.4347826086956, 1102.7391304347825]    [885, 1096, 898, 1110]   \n",
       "15    69  [1871.4492753623188, 1102.0434782608695]  [1867, 1097, 1876, 1107]   \n",
       "16   169   [1325.5384615384614, 1178.680473372781]  [1318, 1172, 1333, 1186]   \n",
       "17    56                           [197.0, 1382.5]    [193, 1378, 201, 1387]   \n",
       "18    92  [2512.8804347826085, 1434.9565217391305]  [2507, 1430, 2519, 1440]   \n",
       "19   165   [4181.157575757576, 1478.9818181818182]  [4175, 1470, 4187, 1488]   \n",
       "20    56                          [1358.0, 1526.5]  [1354, 1522, 1362, 1531]   \n",
       "21    49                           [128.0, 1594.0]    [124, 1590, 132, 1598]   \n",
       "22    93    [1965.2903225806451, 1608.47311827957]  [1960, 1603, 1971, 1614]   \n",
       "23   124    [656.5564516129032, 1995.733870967742]    [651, 1989, 662, 2003]   \n",
       "24    88    [942.5909090909091, 2079.909090909091]    [937, 2075, 948, 2085]   \n",
       "25   147   [3627.5714285714284, 2092.503401360544]  [3621, 2085, 3634, 2100]   \n",
       "26   112  [1826.0357142857142, 2100.0446428571427]  [1820, 2094, 1832, 2106]   \n",
       "27    49                          [1844.0, 2127.0]  [1840, 2123, 1848, 2131]   \n",
       "28   102   [4042.9117647058824, 2417.450980392157]  [4038, 2411, 4048, 2424]   \n",
       "29   195    [4300.625641025641, 2425.225641025641]  [4294, 2415, 4307, 2435]   \n",
       "30   130   [3113.392307692308, 2449.1846153846154]  [3107, 2443, 3120, 2456]   \n",
       "31    63  [1715.4444444444443, 2479.5555555555557]  [1711, 2475, 1720, 2484]   \n",
       "32    49                          [2345.0, 2483.0]  [2341, 2479, 2349, 2487]   \n",
       "33   102   [3034.774509803922, 2635.4117647058824]  [3030, 2629, 3040, 2642]   \n",
       "34   123  [2356.3008130081303, 2659.1382113821137]  [2350, 2653, 2363, 2665]   \n",
       "35    49                          [1370.0, 2678.0]  [1366, 2674, 1374, 2682]   \n",
       "36    56                          [3294.5, 2689.0]  [3290, 2685, 3299, 2693]   \n",
       "37   298   [160.3758389261745, 2858.6577181208054]    [150, 2849, 170, 2868]   \n",
       "\n",
       "    tile_4  tile_16  tile_32  \n",
       "1      140       35       18  \n",
       "2    49252     3156      903  \n",
       "3    50318     3153      901  \n",
       "4    65238     4190     1150  \n",
       "5   133842     8412     2046  \n",
       "6   156599     9792     2466  \n",
       "7   213987    13636     3443  \n",
       "8   233226    14674     3692  \n",
       "9   251652    15780     3975  \n",
       "10  257130    16072     4121  \n",
       "11  260061    16266     4083  \n",
       "12  267632    16812     4221  \n",
       "13  269249    16947     4288  \n",
       "14  297751    18686     4618  \n",
       "15  297996    18747     4648  \n",
       "16  318341    20063     5036  \n",
       "17  373037    23232     5811  \n",
       "18  387630    24457     6154  \n",
       "19  399905    25101     6341  \n",
       "20  412136    25735     6522  \n",
       "21  429076    27008     6754  \n",
       "22  433847    27393     6811  \n",
       "23  538086    33791     8391  \n",
       "24  560796    35159     8804  \n",
       "25  564701    35597     8888  \n",
       "26  566407    35484     8967  \n",
       "27  573957    36025     8968  \n",
       "28  652123    41023    10386  \n",
       "29  654343    41309    10394  \n",
       "30  660514    41505    10492  \n",
       "31  668789    41957    10449  \n",
       "32  670024    41997    10603  \n",
       "33  711161    44740    11165  \n",
       "34  717459    44967    11279  \n",
       "35  722602    45176    11383  \n",
       "36  725240    45566    11443  \n",
       "37  770810    48340    12020  "
      ]
     },
     "execution_count": 7,
     "metadata": {},
     "output_type": "execute_result"
    }
   ],
   "source": [
    "df_ref"
   ]
  },
  {
   "cell_type": "markdown",
   "metadata": {},
   "source": [
    "Make triangles with stars as vertices\n",
    "- For each triangle, store the ratio of two shorter sides to the longest side as fX & fY"
   ]
  },
  {
   "cell_type": "code",
   "execution_count": 8,
   "metadata": {},
   "outputs": [],
   "source": [
    "from itertools import combinations, product\n",
    "import math\n",
    "\n",
    "def getTriangles(df):\n",
    "\n",
    "    # Cache distances between every pair of stars\n",
    "    starDistances = {}\n",
    "    for c in combinations(df.index, 2):\n",
    "        assert(c[1] > c[0])\n",
    "        key = (c[0], c[1])\n",
    "        x1, y1 = df.loc[c[0]].centroid\n",
    "        x2, y2 = df.loc[c[1]].centroid\n",
    "        starDistances[key] = math.sqrt((x2-x1)**2 + (y2-y1)**2)\n",
    "\n",
    "    vTriangles = []\n",
    "    for i,j,k in combinations(df.index, 3):\n",
    "        vDistances = sorted([starDistances[(i,j)], starDistances[(j,k)], starDistances[(i,k)]])\n",
    "\n",
    "        if vDistances[2] > 0:\n",
    "            fX = vDistances[1]/vDistances[2]\n",
    "            fY = vDistances[0]/vDistances[2]\n",
    "\n",
    "            # Filter\n",
    "            if (fX < 0.9):\n",
    "                # Add to the triangle list\n",
    "                vTriangles.append({\"s1\":i, \"s2\":j, \"s3\":k, \"fX\":fX, \"fY\":fY})\n",
    "\n",
    "    vTriangles = sorted(vTriangles, key=lambda x: x[\"fX\"])\n",
    "    return pd.DataFrame(vTriangles)\n"
   ]
  },
  {
   "cell_type": "code",
   "execution_count": 9,
   "metadata": {},
   "outputs": [
    {
     "name": "stdout",
     "output_type": "stream",
     "text": [
      "5993\n"
     ]
    }
   ],
   "source": [
    "tri_ref = getTriangles(df_ref)\n",
    "print(len(tri_ref))"
   ]
  },
  {
   "cell_type": "code",
   "execution_count": 10,
   "metadata": {},
   "outputs": [
    {
     "name": "stdout",
     "output_type": "stream",
     "text": [
      "7386\n"
     ]
    }
   ],
   "source": [
    "tri_tgt = getTriangles(df_tgt)\n",
    "print(len(tri_tgt))"
   ]
  },
  {
   "cell_type": "markdown",
   "metadata": {},
   "source": [
    "Collect triangle match counts"
   ]
  },
  {
   "cell_type": "code",
   "execution_count": 11,
   "metadata": {},
   "outputs": [],
   "source": [
    "TRIANGLETOLERANCE = 1e-4\n",
    "votes = np.zeros((len(df_ref)+1, len(df_tgt)+1), dtype=np.uint32)\n",
    "\n",
    "for tgt in tri_tgt.itertuples():\n",
    "    ref_matches = tri_ref[(tri_ref.fX >= tgt.fX) & (tri_ref.fX <= tgt.fX + TRIANGLETOLERANCE)]\n",
    "    ref_matches = ref_matches[(ref_matches.fX-tgt.fX)**2 + (ref_matches.fY-tgt.fY)**2 < TRIANGLETOLERANCE**2]\n",
    "    for ref in ref_matches.itertuples():\n",
    "        for a,b in product([ref.s1, ref.s2, ref.s3], [tgt.s1, tgt.s2, tgt.s3]):\n",
    "            votes[int(a), b] += 1"
   ]
  },
  {
   "cell_type": "code",
   "execution_count": 12,
   "metadata": {},
   "outputs": [
    {
     "data": {
      "image/png": "[encoded data removed]",
      "text/plain": [
       "<Figure size 432x288 with 1 Axes>"
      ]
     },
     "metadata": {
      "needs_background": "light"
     },
     "output_type": "display_data"
    }
   ],
   "source": [
    "plt.imshow(votes, cmap='hot')\n",
    "plt.show()"
   ]
  },
  {
   "cell_type": "markdown",
   "metadata": {},
   "source": [
    "Produce sorted list of star pairs with highest votes"
   ]
  },
  {
   "cell_type": "code",
   "execution_count": 13,
   "metadata": {},
   "outputs": [],
   "source": [
    "vVotingPairs = np.column_stack(np.unravel_index(np.argsort(votes, axis=None), shape=votes.shape))[::-1]"
   ]
  },
  {
   "cell_type": "code",
   "execution_count": 14,
   "metadata": {},
   "outputs": [
    {
     "data": {
      "text/plain": [
       "1558"
      ]
     },
     "execution_count": 14,
     "metadata": {},
     "output_type": "execute_result"
    }
   ],
   "source": [
    "len(vVotingPairs)"
   ]
  },
  {
   "cell_type": "markdown",
   "metadata": {},
   "source": [
    "Select only those votes that are higher than a treshold"
   ]
  },
  {
   "cell_type": "code",
   "execution_count": 15,
   "metadata": {},
   "outputs": [
    {
     "name": "stdout",
     "output_type": "stream",
     "text": [
      "Vote cutoff threshold: 2\n"
     ]
    }
   ],
   "source": [
    "x,y = vVotingPairs[len(df_tgt)]\n",
    "cutoff = max(1, votes[x,y])\n",
    "print(f\"Vote cutoff threshold: {cutoff}\")\n",
    "topVotePairs = list(filter(lambda r: votes[r[0],r[1]] > cutoff, vVotingPairs))"
   ]
  },
  {
   "cell_type": "code",
   "execution_count": 16,
   "metadata": {},
   "outputs": [
    {
     "data": {
      "image/png": "[encoded data removed]",
      "text/plain": [
       "<Figure size 432x288 with 1 Axes>"
      ]
     },
     "metadata": {
      "needs_background": "light"
     },
     "output_type": "display_data"
    }
   ],
   "source": [
    "plt.imshow(votes, cmap='hot')\n",
    "plt.scatter([x[1] for x in topVotePairs], [x[0] for x in topVotePairs])\n",
    "plt.show()"
   ]
  },
  {
   "cell_type": "code",
   "execution_count": 17,
   "metadata": {},
   "outputs": [
    {
     "data": {
      "text/plain": [
       "37"
      ]
     },
     "execution_count": 17,
     "metadata": {},
     "output_type": "execute_result"
    }
   ],
   "source": [
    "len(topVotePairs)"
   ]
  },
  {
   "cell_type": "markdown",
   "metadata": {},
   "source": [
    "Plot star match results"
   ]
  },
  {
   "cell_type": "code",
   "execution_count": 18,
   "metadata": {},
   "outputs": [
    {
     "data": {
      "image/png": "[encoded data removed]",
      "text/plain": [
       "<Figure size 2304x1152 with 1 Axes>"
      ]
     },
     "metadata": {
      "needs_background": "light"
     },
     "output_type": "display_data"
    }
   ],
   "source": [
    "img = np.column_stack((ref_image,tgt_image))\n",
    "fig = plt.figure(figsize=(32,16))\n",
    "plt.imshow(img, cmap='gray')\n",
    "\n",
    "for vp in topVotePairs:\n",
    "    s1, s2 = vp\n",
    "    if s1 == 0 or s2 == 0:\n",
    "        continue\n",
    "\n",
    "    if np.argmax(votes[:, s2]) != s1 or np.argmax(votes[s1, :]) != s2:\n",
    "        continue\n",
    "\n",
    "    x1,y1 = df_ref.loc[s1].centroid\n",
    "    x2,y2 = df_tgt.loc[s2].centroid\n",
    "    x2 += ref_image.shape[1]\n",
    "    xs = [int(x1), int(x2)]\n",
    "    ys = [int(y1), int(y2)]\n",
    "    plt.plot(xs, ys)\n",
    "\n",
    "plt.show()"
   ]
  },
  {
   "cell_type": "code",
   "execution_count": null,
   "metadata": {},
   "outputs": [],
   "source": []
  }
 ],
 "metadata": {
  "interpreter": {
   "hash": "ed8e7c6ea6eee23c3f555c58b4e933741cc0bde3dd42a3f4a28e66e337a9e07a"
  },
  "kernelspec": {
   "display_name": "Python 3.9.12 ('base')",
   "language": "python",
   "name": "python3"
  },
  "language_info": {
   "codemirror_mode": {
    "name": "ipython",
    "version": 3
   },
   "file_extension": ".py",
   "mimetype": "text/x-python",
   "name": "python",
   "nbconvert_exporter": "python",
   "pygments_lexer": "ipython3",
   "version": "3.9.12"
  },
  "orig_nbformat": 4
 },
 "nbformat": 4,
 "nbformat_minor": 2
}
