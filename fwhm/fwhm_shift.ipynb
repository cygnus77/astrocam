{
 "cells": [
  {
   "cell_type": "code",
   "execution_count": 1,
   "metadata": {},
   "outputs": [],
   "source": [
    "import pandas as pd\n",
    "from pathlib import Path\n",
    "from star_finder import StarFinder\n",
    "from star_matcher import StarMatcher\n",
    "import matplotlib.pyplot as plt"
   ]
  },
  {
   "cell_type": "code",
   "execution_count": 2,
   "metadata": {},
   "outputs": [
    {
     "name": "stdout",
     "output_type": "stream",
     "text": [
      "Numer of images: 40\n"
     ]
    }
   ],
   "source": [
    "root = Path(r\"D:\\Astro\\20220804\\M31\")\n",
    "file_list = (root / \"light\").glob(\"*.fit\")\n",
    "file_list = list(file_list)\n",
    "print(f\"Numer of images: {len(file_list)}\")"
   ]
  },
  {
   "cell_type": "code",
   "execution_count": 3,
   "metadata": {},
   "outputs": [
    {
     "name": "stderr",
     "output_type": "stream",
     "text": [
      "Calculating FWHM: 100%|██████████| 163/163 [00:01<00:00, 154.69it/s]\n"
     ]
    }
   ],
   "source": [
    "starfinder = StarFinder()\n",
    "starmatcher = StarMatcher()\n",
    "starData = starfinder.getStarData(file_list[0], topk=40)\n",
    "star_img = starData[\"image\"]\n",
    "df_ref = starData[\"stars\"]"
   ]
  },
  {
   "cell_type": "code",
   "execution_count": 4,
   "metadata": {},
   "outputs": [
    {
     "data": {
      "text/html": [
       "<div>\n",
       "<style scoped>\n",
       "    .dataframe tbody tr th:only-of-type {\n",
       "        vertical-align: middle;\n",
       "    }\n",
       "\n",
       "    .dataframe tbody tr th {\n",
       "        vertical-align: top;\n",
       "    }\n",
       "\n",
       "    .dataframe thead th {\n",
       "        text-align: right;\n",
       "    }\n",
       "</style>\n",
       "<table border=\"1\" class=\"dataframe\">\n",
       "  <thead>\n",
       "    <tr style=\"text-align: right;\">\n",
       "      <th></th>\n",
       "      <th>area</th>\n",
       "      <th>cluster_cx</th>\n",
       "      <th>cluster_cy</th>\n",
       "      <th>iwc_cx</th>\n",
       "      <th>iwc_cy</th>\n",
       "      <th>gaussian_cx</th>\n",
       "      <th>gaussian_cy</th>\n",
       "      <th>box</th>\n",
       "      <th>tile_4</th>\n",
       "      <th>tile_32</th>\n",
       "      <th>fwhm_x</th>\n",
       "      <th>fwhm_y</th>\n",
       "    </tr>\n",
       "  </thead>\n",
       "  <tbody>\n",
       "    <tr>\n",
       "      <th>0</th>\n",
       "      <td>317</td>\n",
       "      <td>1077.940063</td>\n",
       "      <td>2675.476341</td>\n",
       "      <td>9.000977</td>\n",
       "      <td>10.000977</td>\n",
       "      <td>10.371449</td>\n",
       "      <td>11.472159</td>\n",
       "      <td>[1068, 2665, 1088, 2686]</td>\n",
       "      <td>693353</td>\n",
       "      <td>10954</td>\n",
       "      <td>11.651162</td>\n",
       "      <td>12.417073</td>\n",
       "    </tr>\n",
       "    <tr>\n",
       "      <th>1</th>\n",
       "      <td>313</td>\n",
       "      <td>3688.958466</td>\n",
       "      <td>2779.939297</td>\n",
       "      <td>10.000977</td>\n",
       "      <td>10.000977</td>\n",
       "      <td>11.460134</td>\n",
       "      <td>11.232829</td>\n",
       "      <td>[3679, 2770, 3699, 2790]</td>\n",
       "      <td>720942</td>\n",
       "      <td>11425</td>\n",
       "      <td>10.934009</td>\n",
       "      <td>10.599431</td>\n",
       "    </tr>\n",
       "    <tr>\n",
       "      <th>2</th>\n",
       "      <td>294</td>\n",
       "      <td>2049.350340</td>\n",
       "      <td>1514.969388</td>\n",
       "      <td>10.999023</td>\n",
       "      <td>9.999023</td>\n",
       "      <td>10.504227</td>\n",
       "      <td>9.697573</td>\n",
       "      <td>[2039, 1506, 2060, 1524]</td>\n",
       "      <td>393156</td>\n",
       "      <td>6174</td>\n",
       "      <td>9.291494</td>\n",
       "      <td>8.205804</td>\n",
       "    </tr>\n",
       "    <tr>\n",
       "      <th>3</th>\n",
       "      <td>262</td>\n",
       "      <td>2362.278626</td>\n",
       "      <td>1843.152672</td>\n",
       "      <td>8.999023</td>\n",
       "      <td>10.999023</td>\n",
       "      <td>8.978212</td>\n",
       "      <td>10.988777</td>\n",
       "      <td>[2354, 1833, 2371, 1853]</td>\n",
       "      <td>478187</td>\n",
       "      <td>7614</td>\n",
       "      <td>5.239880</td>\n",
       "      <td>5.769113</td>\n",
       "    </tr>\n",
       "    <tr>\n",
       "      <th>4</th>\n",
       "      <td>259</td>\n",
       "      <td>3592.115830</td>\n",
       "      <td>1516.274131</td>\n",
       "      <td>12.999023</td>\n",
       "      <td>7.000977</td>\n",
       "      <td>12.155213</td>\n",
       "      <td>8.894250</td>\n",
       "      <td>[3582, 1508, 3602, 1525]</td>\n",
       "      <td>393542</td>\n",
       "      <td>6222</td>\n",
       "      <td>7.735784</td>\n",
       "      <td>6.688691</td>\n",
       "    </tr>\n",
       "    <tr>\n",
       "      <th>5</th>\n",
       "      <td>228</td>\n",
       "      <td>693.548246</td>\n",
       "      <td>2783.640351</td>\n",
       "      <td>7.000977</td>\n",
       "      <td>11.999023</td>\n",
       "      <td>8.055004</td>\n",
       "      <td>11.167551</td>\n",
       "      <td>[685, 2775, 702, 2792]</td>\n",
       "      <td>721229</td>\n",
       "      <td>11332</td>\n",
       "      <td>6.211357</td>\n",
       "      <td>8.031431</td>\n",
       "    </tr>\n",
       "    <tr>\n",
       "      <th>6</th>\n",
       "      <td>227</td>\n",
       "      <td>2602.185022</td>\n",
       "      <td>1891.414097</td>\n",
       "      <td>9.999023</td>\n",
       "      <td>9.000977</td>\n",
       "      <td>9.170785</td>\n",
       "      <td>10.046211</td>\n",
       "      <td>[2594, 1883, 2611, 1900]</td>\n",
       "      <td>490679</td>\n",
       "      <td>7751</td>\n",
       "      <td>6.817242</td>\n",
       "      <td>6.720794</td>\n",
       "    </tr>\n",
       "    <tr>\n",
       "      <th>7</th>\n",
       "      <td>208</td>\n",
       "      <td>1162.899038</td>\n",
       "      <td>2596.009615</td>\n",
       "      <td>6.000977</td>\n",
       "      <td>9.000977</td>\n",
       "      <td>7.871802</td>\n",
       "      <td>10.231008</td>\n",
       "      <td>[1155, 2588, 1171, 2604]</td>\n",
       "      <td>672655</td>\n",
       "      <td>10566</td>\n",
       "      <td>6.393237</td>\n",
       "      <td>7.977677</td>\n",
       "    </tr>\n",
       "    <tr>\n",
       "      <th>8</th>\n",
       "      <td>205</td>\n",
       "      <td>2200.868293</td>\n",
       "      <td>2272.156098</td>\n",
       "      <td>7.000977</td>\n",
       "      <td>8.000977</td>\n",
       "      <td>8.674451</td>\n",
       "      <td>9.950259</td>\n",
       "      <td>[2193, 2264, 2209, 2280]</td>\n",
       "      <td>588998</td>\n",
       "      <td>9299</td>\n",
       "      <td>6.590522</td>\n",
       "      <td>6.930339</td>\n",
       "    </tr>\n",
       "    <tr>\n",
       "      <th>9</th>\n",
       "      <td>188</td>\n",
       "      <td>1162.356383</td>\n",
       "      <td>2521.345745</td>\n",
       "      <td>6.000977</td>\n",
       "      <td>10.999023</td>\n",
       "      <td>7.027798</td>\n",
       "      <td>10.547986</td>\n",
       "      <td>[1155, 2513, 1170, 2529]</td>\n",
       "      <td>652971</td>\n",
       "      <td>10306</td>\n",
       "      <td>5.789778</td>\n",
       "      <td>6.783783</td>\n",
       "    </tr>\n",
       "    <tr>\n",
       "      <th>10</th>\n",
       "      <td>181</td>\n",
       "      <td>3726.723757</td>\n",
       "      <td>2635.038674</td>\n",
       "      <td>9.999023</td>\n",
       "      <td>9.999023</td>\n",
       "      <td>9.940338</td>\n",
       "      <td>10.030896</td>\n",
       "      <td>[3719, 2627, 3734, 2643]</td>\n",
       "      <td>683656</td>\n",
       "      <td>10776</td>\n",
       "      <td>6.970275</td>\n",
       "      <td>6.503794</td>\n",
       "    </tr>\n",
       "    <tr>\n",
       "      <th>11</th>\n",
       "      <td>169</td>\n",
       "      <td>3159.715976</td>\n",
       "      <td>310.958580</td>\n",
       "      <td>9.999023</td>\n",
       "      <td>7.000977</td>\n",
       "      <td>9.821271</td>\n",
       "      <td>8.342521</td>\n",
       "      <td>[3152, 303, 3167, 318]</td>\n",
       "      <td>81598</td>\n",
       "      <td>1399</td>\n",
       "      <td>5.759653</td>\n",
       "      <td>4.304894</td>\n",
       "    </tr>\n",
       "    <tr>\n",
       "      <th>12</th>\n",
       "      <td>169</td>\n",
       "      <td>1876.911243</td>\n",
       "      <td>2369.473373</td>\n",
       "      <td>6.000977</td>\n",
       "      <td>8.000977</td>\n",
       "      <td>7.413473</td>\n",
       "      <td>9.814333</td>\n",
       "      <td>[1870, 2362, 1884, 2377]</td>\n",
       "      <td>613781</td>\n",
       "      <td>9679</td>\n",
       "      <td>6.205073</td>\n",
       "      <td>6.829293</td>\n",
       "    </tr>\n",
       "    <tr>\n",
       "      <th>13</th>\n",
       "      <td>168</td>\n",
       "      <td>3175.375000</td>\n",
       "      <td>2136.255952</td>\n",
       "      <td>8.999023</td>\n",
       "      <td>8.999023</td>\n",
       "      <td>9.024814</td>\n",
       "      <td>8.912601</td>\n",
       "      <td>[3168, 2129, 3183, 2143]</td>\n",
       "      <td>554018</td>\n",
       "      <td>8809</td>\n",
       "      <td>7.213076</td>\n",
       "      <td>6.681404</td>\n",
       "    </tr>\n",
       "    <tr>\n",
       "      <th>14</th>\n",
       "      <td>168</td>\n",
       "      <td>3863.559524</td>\n",
       "      <td>2646.922619</td>\n",
       "      <td>10.999023</td>\n",
       "      <td>8.999023</td>\n",
       "      <td>10.275344</td>\n",
       "      <td>8.863632</td>\n",
       "      <td>[3856, 2640, 3871, 2654]</td>\n",
       "      <td>686798</td>\n",
       "      <td>10911</td>\n",
       "      <td>6.467313</td>\n",
       "      <td>6.122349</td>\n",
       "    </tr>\n",
       "    <tr>\n",
       "      <th>15</th>\n",
       "      <td>164</td>\n",
       "      <td>3563.835366</td>\n",
       "      <td>2670.932927</td>\n",
       "      <td>7.000977</td>\n",
       "      <td>9.000977</td>\n",
       "      <td>8.464848</td>\n",
       "      <td>10.575243</td>\n",
       "      <td>[3557, 2663, 3571, 2678]</td>\n",
       "      <td>692939</td>\n",
       "      <td>10901</td>\n",
       "      <td>6.681386</td>\n",
       "      <td>6.715012</td>\n",
       "    </tr>\n",
       "    <tr>\n",
       "      <th>16</th>\n",
       "      <td>161</td>\n",
       "      <td>2321.335404</td>\n",
       "      <td>2809.099379</td>\n",
       "      <td>11.999023</td>\n",
       "      <td>11.999023</td>\n",
       "      <td>13.631760</td>\n",
       "      <td>13.262659</td>\n",
       "      <td>[2312, 2801, 2331, 2817]</td>\n",
       "      <td>727852</td>\n",
       "      <td>11513</td>\n",
       "      <td>4.642173</td>\n",
       "      <td>5.413915</td>\n",
       "    </tr>\n",
       "    <tr>\n",
       "      <th>17</th>\n",
       "      <td>155</td>\n",
       "      <td>3999.774194</td>\n",
       "      <td>2144.064516</td>\n",
       "      <td>8.999023</td>\n",
       "      <td>8.999023</td>\n",
       "      <td>9.134459</td>\n",
       "      <td>8.683998</td>\n",
       "      <td>[3993, 2137, 4007, 2151]</td>\n",
       "      <td>556296</td>\n",
       "      <td>8835</td>\n",
       "      <td>5.817801</td>\n",
       "      <td>5.429389</td>\n",
       "    </tr>\n",
       "    <tr>\n",
       "      <th>18</th>\n",
       "      <td>152</td>\n",
       "      <td>3110.414474</td>\n",
       "      <td>1135.565789</td>\n",
       "      <td>9.999023</td>\n",
       "      <td>6.999023</td>\n",
       "      <td>10.013403</td>\n",
       "      <td>6.838068</td>\n",
       "      <td>[3103, 1129, 3118, 1142]</td>\n",
       "      <td>295002</td>\n",
       "      <td>4647</td>\n",
       "      <td>5.404875</td>\n",
       "      <td>4.566693</td>\n",
       "    </tr>\n",
       "    <tr>\n",
       "      <th>19</th>\n",
       "      <td>147</td>\n",
       "      <td>2932.217687</td>\n",
       "      <td>1127.122449</td>\n",
       "      <td>7.000977</td>\n",
       "      <td>8.999023</td>\n",
       "      <td>8.608903</td>\n",
       "      <td>8.355172</td>\n",
       "      <td>[2925, 1120, 2939, 1134]</td>\n",
       "      <td>292885</td>\n",
       "      <td>4642</td>\n",
       "      <td>6.309618</td>\n",
       "      <td>5.976984</td>\n",
       "    </tr>\n",
       "    <tr>\n",
       "      <th>20</th>\n",
       "      <td>133</td>\n",
       "      <td>2470.609023</td>\n",
       "      <td>2399.684211</td>\n",
       "      <td>7.000977</td>\n",
       "      <td>8.000977</td>\n",
       "      <td>8.251310</td>\n",
       "      <td>9.351900</td>\n",
       "      <td>[2464, 2393, 2477, 2406]</td>\n",
       "      <td>622218</td>\n",
       "      <td>9827</td>\n",
       "      <td>5.518974</td>\n",
       "      <td>5.731753</td>\n",
       "    </tr>\n",
       "    <tr>\n",
       "      <th>21</th>\n",
       "      <td>124</td>\n",
       "      <td>5.620968</td>\n",
       "      <td>118.919355</td>\n",
       "      <td>3.000977</td>\n",
       "      <td>4.000977</td>\n",
       "      <td>4.459814</td>\n",
       "      <td>5.468905</td>\n",
       "      <td>[0, 113, 12, 125]</td>\n",
       "      <td>31081</td>\n",
       "      <td>520</td>\n",
       "      <td>4.778580</td>\n",
       "      <td>4.829501</td>\n",
       "    </tr>\n",
       "    <tr>\n",
       "      <th>22</th>\n",
       "      <td>122</td>\n",
       "      <td>489.057377</td>\n",
       "      <td>2216.721311</td>\n",
       "      <td>4.499023</td>\n",
       "      <td>8.999023</td>\n",
       "      <td>5.353114</td>\n",
       "      <td>8.774365</td>\n",
       "      <td>[483, 2210, 495, 2223]</td>\n",
       "      <td>574066</td>\n",
       "      <td>8985</td>\n",
       "      <td>4.220386</td>\n",
       "      <td>5.568324</td>\n",
       "    </tr>\n",
       "    <tr>\n",
       "      <th>23</th>\n",
       "      <td>121</td>\n",
       "      <td>772.049587</td>\n",
       "      <td>2766.669421</td>\n",
       "      <td>4.999023</td>\n",
       "      <td>8.999023</td>\n",
       "      <td>5.283897</td>\n",
       "      <td>9.169759</td>\n",
       "      <td>[766, 2760, 778, 2773]</td>\n",
       "      <td>717105</td>\n",
       "      <td>11204</td>\n",
       "      <td>4.379218</td>\n",
       "      <td>5.453185</td>\n",
       "    </tr>\n",
       "    <tr>\n",
       "      <th>24</th>\n",
       "      <td>115</td>\n",
       "      <td>585.539130</td>\n",
       "      <td>1374.539130</td>\n",
       "      <td>3.000977</td>\n",
       "      <td>6.000977</td>\n",
       "      <td>4.342689</td>\n",
       "      <td>7.532544</td>\n",
       "      <td>[580, 1368, 591, 1381]</td>\n",
       "      <td>356530</td>\n",
       "      <td>5608</td>\n",
       "      <td>4.618860</td>\n",
       "      <td>5.592202</td>\n",
       "    </tr>\n",
       "    <tr>\n",
       "      <th>25</th>\n",
       "      <td>113</td>\n",
       "      <td>2893.212389</td>\n",
       "      <td>2292.911504</td>\n",
       "      <td>7.999023</td>\n",
       "      <td>7.999023</td>\n",
       "      <td>8.421791</td>\n",
       "      <td>8.005310</td>\n",
       "      <td>[2887, 2287, 2899, 2299]</td>\n",
       "      <td>594351</td>\n",
       "      <td>9450</td>\n",
       "      <td>4.916227</td>\n",
       "      <td>4.378106</td>\n",
       "    </tr>\n",
       "    <tr>\n",
       "      <th>26</th>\n",
       "      <td>113</td>\n",
       "      <td>2142.840708</td>\n",
       "      <td>2711.000000</td>\n",
       "      <td>5.999023</td>\n",
       "      <td>8.999023</td>\n",
       "      <td>6.523050</td>\n",
       "      <td>8.999448</td>\n",
       "      <td>[2137, 2705, 2149, 2717]</td>\n",
       "      <td>702944</td>\n",
       "      <td>11117</td>\n",
       "      <td>5.139391</td>\n",
       "      <td>5.682864</td>\n",
       "    </tr>\n",
       "    <tr>\n",
       "      <th>27</th>\n",
       "      <td>104</td>\n",
       "      <td>2250.576923</td>\n",
       "      <td>2218.913462</td>\n",
       "      <td>5.499023</td>\n",
       "      <td>7.999023</td>\n",
       "      <td>6.194665</td>\n",
       "      <td>7.646984</td>\n",
       "      <td>[2245, 2213, 2256, 2225]</td>\n",
       "      <td>575543</td>\n",
       "      <td>9040</td>\n",
       "      <td>5.364632</td>\n",
       "      <td>5.443647</td>\n",
       "    </tr>\n",
       "    <tr>\n",
       "      <th>28</th>\n",
       "      <td>103</td>\n",
       "      <td>2732.533981</td>\n",
       "      <td>648.126214</td>\n",
       "      <td>6.999023</td>\n",
       "      <td>5.000977</td>\n",
       "      <td>6.580678</td>\n",
       "      <td>6.550124</td>\n",
       "      <td>[2727, 642, 2738, 654]</td>\n",
       "      <td>168515</td>\n",
       "      <td>2685</td>\n",
       "      <td>4.977687</td>\n",
       "      <td>4.310773</td>\n",
       "    </tr>\n",
       "    <tr>\n",
       "      <th>29</th>\n",
       "      <td>102</td>\n",
       "      <td>278.578431</td>\n",
       "      <td>2108.156863</td>\n",
       "      <td>4.999023</td>\n",
       "      <td>7.999023</td>\n",
       "      <td>4.748777</td>\n",
       "      <td>7.730511</td>\n",
       "      <td>[273, 2102, 284, 2114]</td>\n",
       "      <td>546042</td>\n",
       "      <td>8589</td>\n",
       "      <td>3.936068</td>\n",
       "      <td>5.713068</td>\n",
       "    </tr>\n",
       "    <tr>\n",
       "      <th>30</th>\n",
       "      <td>95</td>\n",
       "      <td>2168.463158</td>\n",
       "      <td>1799.631579</td>\n",
       "      <td>5.999023</td>\n",
       "      <td>7.999023</td>\n",
       "      <td>5.963177</td>\n",
       "      <td>7.675941</td>\n",
       "      <td>[2163, 1794, 2174, 1805]</td>\n",
       "      <td>466742</td>\n",
       "      <td>7348</td>\n",
       "      <td>4.580002</td>\n",
       "      <td>4.659031</td>\n",
       "    </tr>\n",
       "    <tr>\n",
       "      <th>31</th>\n",
       "      <td>95</td>\n",
       "      <td>3898.463158</td>\n",
       "      <td>2451.631579</td>\n",
       "      <td>7.999023</td>\n",
       "      <td>7.999023</td>\n",
       "      <td>7.766095</td>\n",
       "      <td>7.846898</td>\n",
       "      <td>[3893, 2446, 3904, 2457]</td>\n",
       "      <td>636043</td>\n",
       "      <td>10132</td>\n",
       "      <td>4.673518</td>\n",
       "      <td>4.358221</td>\n",
       "    </tr>\n",
       "    <tr>\n",
       "      <th>32</th>\n",
       "      <td>94</td>\n",
       "      <td>12.585106</td>\n",
       "      <td>1180.585106</td>\n",
       "      <td>3.499023</td>\n",
       "      <td>5.999023</td>\n",
       "      <td>4.067114</td>\n",
       "      <td>6.027412</td>\n",
       "      <td>[7, 1175, 18, 1186]</td>\n",
       "      <td>305623</td>\n",
       "      <td>4810</td>\n",
       "      <td>3.840464</td>\n",
       "      <td>4.772261</td>\n",
       "    </tr>\n",
       "    <tr>\n",
       "      <th>33</th>\n",
       "      <td>94</td>\n",
       "      <td>2872.500000</td>\n",
       "      <td>2473.500000</td>\n",
       "      <td>6.999023</td>\n",
       "      <td>6.000977</td>\n",
       "      <td>7.098639</td>\n",
       "      <td>7.569724</td>\n",
       "      <td>[2867, 2468, 2878, 2479]</td>\n",
       "      <td>640966</td>\n",
       "      <td>10100</td>\n",
       "      <td>4.979047</td>\n",
       "      <td>4.794590</td>\n",
       "    </tr>\n",
       "    <tr>\n",
       "      <th>34</th>\n",
       "      <td>94</td>\n",
       "      <td>3850.404255</td>\n",
       "      <td>2757.489362</td>\n",
       "      <td>7.999023</td>\n",
       "      <td>7.999023</td>\n",
       "      <td>7.646708</td>\n",
       "      <td>7.760708</td>\n",
       "      <td>[3845, 2752, 3856, 2763]</td>\n",
       "      <td>714767</td>\n",
       "      <td>11300</td>\n",
       "      <td>4.149827</td>\n",
       "      <td>3.655862</td>\n",
       "    </tr>\n",
       "    <tr>\n",
       "      <th>35</th>\n",
       "      <td>93</td>\n",
       "      <td>800.086022</td>\n",
       "      <td>785.000000</td>\n",
       "      <td>3.000977</td>\n",
       "      <td>5.000977</td>\n",
       "      <td>4.119299</td>\n",
       "      <td>6.112123</td>\n",
       "      <td>[795, 779, 805, 791]</td>\n",
       "      <td>203256</td>\n",
       "      <td>3275</td>\n",
       "      <td>4.440893</td>\n",
       "      <td>4.704561</td>\n",
       "    </tr>\n",
       "    <tr>\n",
       "      <th>36</th>\n",
       "      <td>93</td>\n",
       "      <td>644.537634</td>\n",
       "      <td>1743.623656</td>\n",
       "      <td>4.999023</td>\n",
       "      <td>6.999023</td>\n",
       "      <td>4.673695</td>\n",
       "      <td>6.963305</td>\n",
       "      <td>[639, 1738, 650, 1749]</td>\n",
       "      <td>451857</td>\n",
       "      <td>7040</td>\n",
       "      <td>3.702344</td>\n",
       "      <td>4.787651</td>\n",
       "    </tr>\n",
       "    <tr>\n",
       "      <th>37</th>\n",
       "      <td>93</td>\n",
       "      <td>3652.451613</td>\n",
       "      <td>2033.537634</td>\n",
       "      <td>6.000977</td>\n",
       "      <td>6.000977</td>\n",
       "      <td>7.152057</td>\n",
       "      <td>7.295495</td>\n",
       "      <td>[3647, 2028, 3658, 2039]</td>\n",
       "      <td>527201</td>\n",
       "      <td>8434</td>\n",
       "      <td>5.013773</td>\n",
       "      <td>4.483500</td>\n",
       "    </tr>\n",
       "    <tr>\n",
       "      <th>38</th>\n",
       "      <td>88</td>\n",
       "      <td>39.397727</td>\n",
       "      <td>15.000000</td>\n",
       "      <td>3.000977</td>\n",
       "      <td>3.000977</td>\n",
       "      <td>4.223310</td>\n",
       "      <td>4.509222</td>\n",
       "      <td>[34, 10, 45, 20]</td>\n",
       "      <td>4154</td>\n",
       "      <td>1</td>\n",
       "      <td>4.136041</td>\n",
       "      <td>4.335015</td>\n",
       "    </tr>\n",
       "    <tr>\n",
       "      <th>39</th>\n",
       "      <td>88</td>\n",
       "      <td>3323.000000</td>\n",
       "      <td>1607.397727</td>\n",
       "      <td>6.999023</td>\n",
       "      <td>6.999023</td>\n",
       "      <td>6.786946</td>\n",
       "      <td>6.736111</td>\n",
       "      <td>[3318, 1602, 3328, 1613]</td>\n",
       "      <td>417303</td>\n",
       "      <td>6604</td>\n",
       "      <td>5.469866</td>\n",
       "      <td>4.623123</td>\n",
       "    </tr>\n",
       "  </tbody>\n",
       "</table>\n",
       "</div>"
      ],
      "text/plain": [
       "    area   cluster_cx   cluster_cy     iwc_cx     iwc_cy  gaussian_cx  \\\n",
       "0    317  1077.940063  2675.476341   9.000977  10.000977    10.371449   \n",
       "1    313  3688.958466  2779.939297  10.000977  10.000977    11.460134   \n",
       "2    294  2049.350340  1514.969388  10.999023   9.999023    10.504227   \n",
       "3    262  2362.278626  1843.152672   8.999023  10.999023     8.978212   \n",
       "4    259  3592.115830  1516.274131  12.999023   7.000977    12.155213   \n",
       "5    228   693.548246  2783.640351   7.000977  11.999023     8.055004   \n",
       "6    227  2602.185022  1891.414097   9.999023   9.000977     9.170785   \n",
       "7    208  1162.899038  2596.009615   6.000977   9.000977     7.871802   \n",
       "8    205  2200.868293  2272.156098   7.000977   8.000977     8.674451   \n",
       "9    188  1162.356383  2521.345745   6.000977  10.999023     7.027798   \n",
       "10   181  3726.723757  2635.038674   9.999023   9.999023     9.940338   \n",
       "11   169  3159.715976   310.958580   9.999023   7.000977     9.821271   \n",
       "12   169  1876.911243  2369.473373   6.000977   8.000977     7.413473   \n",
       "13   168  3175.375000  2136.255952   8.999023   8.999023     9.024814   \n",
       "14   168  3863.559524  2646.922619  10.999023   8.999023    10.275344   \n",
       "15   164  3563.835366  2670.932927   7.000977   9.000977     8.464848   \n",
       "16   161  2321.335404  2809.099379  11.999023  11.999023    13.631760   \n",
       "17   155  3999.774194  2144.064516   8.999023   8.999023     9.134459   \n",
       "18   152  3110.414474  1135.565789   9.999023   6.999023    10.013403   \n",
       "19   147  2932.217687  1127.122449   7.000977   8.999023     8.608903   \n",
       "20   133  2470.609023  2399.684211   7.000977   8.000977     8.251310   \n",
       "21   124     5.620968   118.919355   3.000977   4.000977     4.459814   \n",
       "22   122   489.057377  2216.721311   4.499023   8.999023     5.353114   \n",
       "23   121   772.049587  2766.669421   4.999023   8.999023     5.283897   \n",
       "24   115   585.539130  1374.539130   3.000977   6.000977     4.342689   \n",
       "25   113  2893.212389  2292.911504   7.999023   7.999023     8.421791   \n",
       "26   113  2142.840708  2711.000000   5.999023   8.999023     6.523050   \n",
       "27   104  2250.576923  2218.913462   5.499023   7.999023     6.194665   \n",
       "28   103  2732.533981   648.126214   6.999023   5.000977     6.580678   \n",
       "29   102   278.578431  2108.156863   4.999023   7.999023     4.748777   \n",
       "30    95  2168.463158  1799.631579   5.999023   7.999023     5.963177   \n",
       "31    95  3898.463158  2451.631579   7.999023   7.999023     7.766095   \n",
       "32    94    12.585106  1180.585106   3.499023   5.999023     4.067114   \n",
       "33    94  2872.500000  2473.500000   6.999023   6.000977     7.098639   \n",
       "34    94  3850.404255  2757.489362   7.999023   7.999023     7.646708   \n",
       "35    93   800.086022   785.000000   3.000977   5.000977     4.119299   \n",
       "36    93   644.537634  1743.623656   4.999023   6.999023     4.673695   \n",
       "37    93  3652.451613  2033.537634   6.000977   6.000977     7.152057   \n",
       "38    88    39.397727    15.000000   3.000977   3.000977     4.223310   \n",
       "39    88  3323.000000  1607.397727   6.999023   6.999023     6.786946   \n",
       "\n",
       "    gaussian_cy                       box  tile_4  tile_32     fwhm_x  \\\n",
       "0     11.472159  [1068, 2665, 1088, 2686]  693353    10954  11.651162   \n",
       "1     11.232829  [3679, 2770, 3699, 2790]  720942    11425  10.934009   \n",
       "2      9.697573  [2039, 1506, 2060, 1524]  393156     6174   9.291494   \n",
       "3     10.988777  [2354, 1833, 2371, 1853]  478187     7614   5.239880   \n",
       "4      8.894250  [3582, 1508, 3602, 1525]  393542     6222   7.735784   \n",
       "5     11.167551    [685, 2775, 702, 2792]  721229    11332   6.211357   \n",
       "6     10.046211  [2594, 1883, 2611, 1900]  490679     7751   6.817242   \n",
       "7     10.231008  [1155, 2588, 1171, 2604]  672655    10566   6.393237   \n",
       "8      9.950259  [2193, 2264, 2209, 2280]  588998     9299   6.590522   \n",
       "9     10.547986  [1155, 2513, 1170, 2529]  652971    10306   5.789778   \n",
       "10    10.030896  [3719, 2627, 3734, 2643]  683656    10776   6.970275   \n",
       "11     8.342521    [3152, 303, 3167, 318]   81598     1399   5.759653   \n",
       "12     9.814333  [1870, 2362, 1884, 2377]  613781     9679   6.205073   \n",
       "13     8.912601  [3168, 2129, 3183, 2143]  554018     8809   7.213076   \n",
       "14     8.863632  [3856, 2640, 3871, 2654]  686798    10911   6.467313   \n",
       "15    10.575243  [3557, 2663, 3571, 2678]  692939    10901   6.681386   \n",
       "16    13.262659  [2312, 2801, 2331, 2817]  727852    11513   4.642173   \n",
       "17     8.683998  [3993, 2137, 4007, 2151]  556296     8835   5.817801   \n",
       "18     6.838068  [3103, 1129, 3118, 1142]  295002     4647   5.404875   \n",
       "19     8.355172  [2925, 1120, 2939, 1134]  292885     4642   6.309618   \n",
       "20     9.351900  [2464, 2393, 2477, 2406]  622218     9827   5.518974   \n",
       "21     5.468905         [0, 113, 12, 125]   31081      520   4.778580   \n",
       "22     8.774365    [483, 2210, 495, 2223]  574066     8985   4.220386   \n",
       "23     9.169759    [766, 2760, 778, 2773]  717105    11204   4.379218   \n",
       "24     7.532544    [580, 1368, 591, 1381]  356530     5608   4.618860   \n",
       "25     8.005310  [2887, 2287, 2899, 2299]  594351     9450   4.916227   \n",
       "26     8.999448  [2137, 2705, 2149, 2717]  702944    11117   5.139391   \n",
       "27     7.646984  [2245, 2213, 2256, 2225]  575543     9040   5.364632   \n",
       "28     6.550124    [2727, 642, 2738, 654]  168515     2685   4.977687   \n",
       "29     7.730511    [273, 2102, 284, 2114]  546042     8589   3.936068   \n",
       "30     7.675941  [2163, 1794, 2174, 1805]  466742     7348   4.580002   \n",
       "31     7.846898  [3893, 2446, 3904, 2457]  636043    10132   4.673518   \n",
       "32     6.027412       [7, 1175, 18, 1186]  305623     4810   3.840464   \n",
       "33     7.569724  [2867, 2468, 2878, 2479]  640966    10100   4.979047   \n",
       "34     7.760708  [3845, 2752, 3856, 2763]  714767    11300   4.149827   \n",
       "35     6.112123      [795, 779, 805, 791]  203256     3275   4.440893   \n",
       "36     6.963305    [639, 1738, 650, 1749]  451857     7040   3.702344   \n",
       "37     7.295495  [3647, 2028, 3658, 2039]  527201     8434   5.013773   \n",
       "38     4.509222          [34, 10, 45, 20]    4154        1   4.136041   \n",
       "39     6.736111  [3318, 1602, 3328, 1613]  417303     6604   5.469866   \n",
       "\n",
       "       fwhm_y  \n",
       "0   12.417073  \n",
       "1   10.599431  \n",
       "2    8.205804  \n",
       "3    5.769113  \n",
       "4    6.688691  \n",
       "5    8.031431  \n",
       "6    6.720794  \n",
       "7    7.977677  \n",
       "8    6.930339  \n",
       "9    6.783783  \n",
       "10   6.503794  \n",
       "11   4.304894  \n",
       "12   6.829293  \n",
       "13   6.681404  \n",
       "14   6.122349  \n",
       "15   6.715012  \n",
       "16   5.413915  \n",
       "17   5.429389  \n",
       "18   4.566693  \n",
       "19   5.976984  \n",
       "20   5.731753  \n",
       "21   4.829501  \n",
       "22   5.568324  \n",
       "23   5.453185  \n",
       "24   5.592202  \n",
       "25   4.378106  \n",
       "26   5.682864  \n",
       "27   5.443647  \n",
       "28   4.310773  \n",
       "29   5.713068  \n",
       "30   4.659031  \n",
       "31   4.358221  \n",
       "32   4.772261  \n",
       "33   4.794590  \n",
       "34   3.655862  \n",
       "35   4.704561  \n",
       "36   4.787651  \n",
       "37   4.483500  \n",
       "38   4.335015  \n",
       "39   4.623123  "
      ]
     },
     "execution_count": 4,
     "metadata": {},
     "output_type": "execute_result"
    }
   ],
   "source": [
    "df_ref"
   ]
  },
  {
   "cell_type": "code",
   "execution_count": 5,
   "metadata": {},
   "outputs": [
    {
     "data": {
      "text/plain": [
       "<matplotlib.image.AxesImage at 0x208c8aeca60>"
      ]
     },
     "execution_count": 5,
     "metadata": {},
     "output_type": "execute_result"
    },
    {
     "data": {
      "image/png": "[encoded data removed]",
      "text/plain": [
       "<Figure size 432x288 with 1 Axes>"
      ]
     },
     "metadata": {
      "needs_background": "light"
     },
     "output_type": "display_data"
    }
   ],
   "source": [
    "plt.imshow(star_img, cmap='gray')"
   ]
  },
  {
   "cell_type": "code",
   "execution_count": 6,
   "metadata": {},
   "outputs": [
    {
     "name": "stdout",
     "output_type": "stream",
     "text": [
      "Processing D:\\Astro\\20220804\\M31\\light\\L_M31_0121_Bin1x1_300s__0C.fit...\n"
     ]
    },
    {
     "name": "stderr",
     "output_type": "stream",
     "text": [
      "Calculating FWHM: 100%|██████████| 163/163 [00:01<00:00, 91.95it/s] \n",
      "Matching triangles: 100%|██████████| 90/90 [00:00<00:00, 275.43it/s]\n"
     ]
    },
    {
     "name": "stdout",
     "output_type": "stream",
     "text": [
      "Processing D:\\Astro\\20220804\\M31\\light\\L_M31_0122_Bin1x1_300s__0C.fit...\n"
     ]
    },
    {
     "name": "stderr",
     "output_type": "stream",
     "text": [
      "Calculating FWHM: 100%|██████████| 173/173 [00:01<00:00, 130.21it/s]\n",
      "Matching triangles: 100%|██████████| 95/95 [00:00<00:00, 503.76it/s]\n"
     ]
    },
    {
     "name": "stdout",
     "output_type": "stream",
     "text": [
      "Processing D:\\Astro\\20220804\\M31\\light\\L_M31_0123_Bin1x1_300s__0C.fit...\n"
     ]
    },
    {
     "name": "stderr",
     "output_type": "stream",
     "text": [
      "Calculating FWHM: 100%|██████████| 167/167 [00:01<00:00, 152.69it/s]\n",
      "Matching triangles: 100%|██████████| 103/103 [00:00<00:00, 519.59it/s]\n"
     ]
    },
    {
     "name": "stdout",
     "output_type": "stream",
     "text": [
      "Processing D:\\Astro\\20220804\\M31\\light\\L_M31_0124_Bin1x1_300s__0C.fit...\n"
     ]
    },
    {
     "name": "stderr",
     "output_type": "stream",
     "text": [
      "Calculating FWHM: 100%|██████████| 174/174 [00:01<00:00, 160.64it/s]\n",
      "Matching triangles: 100%|██████████| 90/90 [00:00<00:00, 510.59it/s]\n"
     ]
    },
    {
     "name": "stdout",
     "output_type": "stream",
     "text": [
      "Processing D:\\Astro\\20220804\\M31\\light\\L_M31_0125_Bin1x1_300s__0C.fit...\n"
     ]
    },
    {
     "name": "stderr",
     "output_type": "stream",
     "text": [
      "Calculating FWHM: 100%|██████████| 209/209 [00:01<00:00, 155.85it/s]\n",
      "Matching triangles: 100%|██████████| 92/92 [00:00<00:00, 466.89it/s]\n"
     ]
    },
    {
     "name": "stdout",
     "output_type": "stream",
     "text": [
      "Processing D:\\Astro\\20220804\\M31\\light\\L_M31_0126_Bin1x1_300s__0C.fit...\n"
     ]
    },
    {
     "name": "stderr",
     "output_type": "stream",
     "text": [
      "Calculating FWHM: 100%|██████████| 192/192 [00:01<00:00, 157.83it/s]\n",
      "Matching triangles: 100%|██████████| 79/79 [00:00<00:00, 523.25it/s]\n"
     ]
    },
    {
     "name": "stdout",
     "output_type": "stream",
     "text": [
      "Processing D:\\Astro\\20220804\\M31\\light\\L_M31_0127_Bin1x1_300s__0C.fit...\n"
     ]
    },
    {
     "name": "stderr",
     "output_type": "stream",
     "text": [
      "Calculating FWHM: 100%|██████████| 203/203 [00:01<00:00, 156.03it/s]\n",
      "Matching triangles: 100%|██████████| 79/79 [00:00<00:00, 521.62it/s]\n"
     ]
    },
    {
     "name": "stdout",
     "output_type": "stream",
     "text": [
      "Processing D:\\Astro\\20220804\\M31\\light\\L_M31_0128_Bin1x1_300s__0C.fit...\n"
     ]
    },
    {
     "name": "stderr",
     "output_type": "stream",
     "text": [
      "Calculating FWHM: 100%|██████████| 216/216 [00:01<00:00, 156.32it/s]\n",
      "Matching triangles: 100%|██████████| 94/94 [00:00<00:00, 531.81it/s]\n"
     ]
    },
    {
     "name": "stdout",
     "output_type": "stream",
     "text": [
      "Processing D:\\Astro\\20220804\\M31\\light\\L_M31_0129_Bin1x1_300s__0C.fit...\n"
     ]
    },
    {
     "name": "stderr",
     "output_type": "stream",
     "text": [
      "Calculating FWHM: 100%|██████████| 216/216 [00:01<00:00, 152.87it/s]\n",
      "Matching triangles: 100%|██████████| 81/81 [00:00<00:00, 518.28it/s]\n"
     ]
    },
    {
     "name": "stdout",
     "output_type": "stream",
     "text": [
      "Processing D:\\Astro\\20220804\\M31\\light\\L_M31_0130_Bin1x1_300s__0C.fit...\n"
     ]
    },
    {
     "name": "stderr",
     "output_type": "stream",
     "text": [
      "Calculating FWHM: 100%|██████████| 232/232 [00:01<00:00, 158.59it/s]\n",
      "Matching triangles: 100%|██████████| 100/100 [00:00<00:00, 543.45it/s]\n"
     ]
    },
    {
     "name": "stdout",
     "output_type": "stream",
     "text": [
      "Processing D:\\Astro\\20220804\\M31\\light\\L_M31_0131_Bin1x1_300s__0C.fit...\n"
     ]
    },
    {
     "name": "stderr",
     "output_type": "stream",
     "text": [
      "Calculating FWHM: 100%|██████████| 217/217 [00:01<00:00, 157.59it/s]\n",
      "Matching triangles: 100%|██████████| 90/90 [00:00<00:00, 517.75it/s]\n"
     ]
    },
    {
     "name": "stdout",
     "output_type": "stream",
     "text": [
      "Processing D:\\Astro\\20220804\\M31\\light\\L_M31_0132_Bin1x1_300s__0C.fit...\n"
     ]
    },
    {
     "name": "stderr",
     "output_type": "stream",
     "text": [
      "Calculating FWHM: 100%|██████████| 210/210 [00:01<00:00, 153.27it/s]\n",
      "Matching triangles: 100%|██████████| 95/95 [00:00<00:00, 529.01it/s]\n"
     ]
    },
    {
     "name": "stdout",
     "output_type": "stream",
     "text": [
      "Processing D:\\Astro\\20220804\\M31\\light\\L_M31_0133_Bin1x1_300s__0C.fit...\n"
     ]
    },
    {
     "name": "stderr",
     "output_type": "stream",
     "text": [
      "Calculating FWHM: 100%|██████████| 221/221 [00:01<00:00, 155.12it/s]\n",
      "Matching triangles: 100%|██████████| 95/95 [00:00<00:00, 532.45it/s]\n"
     ]
    },
    {
     "name": "stdout",
     "output_type": "stream",
     "text": [
      "Processing D:\\Astro\\20220804\\M31\\light\\L_M31_0134_Bin1x1_300s__0C.fit...\n"
     ]
    },
    {
     "name": "stderr",
     "output_type": "stream",
     "text": [
      "Calculating FWHM: 100%|██████████| 205/205 [00:01<00:00, 148.41it/s]\n",
      "Matching triangles: 100%|██████████| 101/101 [00:00<00:00, 422.62it/s]\n"
     ]
    },
    {
     "name": "stdout",
     "output_type": "stream",
     "text": [
      "Processing D:\\Astro\\20220804\\M31\\light\\L_M31_0135_Bin1x1_300s__0C.fit...\n"
     ]
    },
    {
     "name": "stderr",
     "output_type": "stream",
     "text": [
      "Calculating FWHM: 100%|██████████| 195/195 [00:01<00:00, 151.98it/s]\n",
      "Matching triangles: 100%|██████████| 91/91 [00:00<00:00, 466.66it/s]\n"
     ]
    },
    {
     "name": "stdout",
     "output_type": "stream",
     "text": [
      "Processing D:\\Astro\\20220804\\M31\\light\\L_M31_0136_Bin1x1_300s__0C.fit...\n"
     ]
    },
    {
     "name": "stderr",
     "output_type": "stream",
     "text": [
      "Calculating FWHM: 100%|██████████| 213/213 [00:01<00:00, 150.94it/s]\n",
      "Matching triangles: 100%|██████████| 95/95 [00:00<00:00, 521.05it/s]\n"
     ]
    },
    {
     "name": "stdout",
     "output_type": "stream",
     "text": [
      "Processing D:\\Astro\\20220804\\M31\\light\\L_M31_0137_Bin1x1_300s__0C.fit...\n"
     ]
    },
    {
     "name": "stderr",
     "output_type": "stream",
     "text": [
      "Calculating FWHM: 100%|██████████| 211/211 [00:01<00:00, 151.30it/s]\n",
      "Matching triangles: 100%|██████████| 94/94 [00:00<00:00, 520.54it/s]\n"
     ]
    },
    {
     "name": "stdout",
     "output_type": "stream",
     "text": [
      "Processing D:\\Astro\\20220804\\M31\\light\\L_M31_0138_Bin1x1_300s__0C.fit...\n"
     ]
    },
    {
     "name": "stderr",
     "output_type": "stream",
     "text": [
      "Calculating FWHM: 100%|██████████| 193/193 [00:01<00:00, 154.59it/s]\n",
      "Matching triangles: 100%|██████████| 90/90 [00:00<00:00, 519.53it/s]\n"
     ]
    },
    {
     "name": "stdout",
     "output_type": "stream",
     "text": [
      "Processing D:\\Astro\\20220804\\M31\\light\\L_M31_0139_Bin1x1_300s__0C.fit...\n"
     ]
    },
    {
     "name": "stderr",
     "output_type": "stream",
     "text": [
      "Calculating FWHM: 100%|██████████| 191/191 [00:01<00:00, 157.25it/s]\n",
      "Matching triangles: 100%|██████████| 81/81 [00:00<00:00, 530.09it/s]\n"
     ]
    },
    {
     "name": "stdout",
     "output_type": "stream",
     "text": [
      "Processing D:\\Astro\\20220804\\M31\\light\\L_M31_0140_Bin1x1_300s__0C.fit...\n"
     ]
    },
    {
     "name": "stderr",
     "output_type": "stream",
     "text": [
      "Calculating FWHM: 100%|██████████| 206/206 [00:01<00:00, 155.12it/s]\n",
      "Matching triangles: 100%|██████████| 95/95 [00:00<00:00, 526.48it/s]\n"
     ]
    },
    {
     "name": "stdout",
     "output_type": "stream",
     "text": [
      "Processing D:\\Astro\\20220804\\M31\\light\\L_M31_0141_Bin1x1_300s__0C.fit...\n"
     ]
    },
    {
     "name": "stderr",
     "output_type": "stream",
     "text": [
      "Calculating FWHM: 100%|██████████| 203/203 [00:01<00:00, 152.47it/s]\n",
      "Matching triangles: 100%|██████████| 95/95 [00:00<00:00, 507.21it/s]\n"
     ]
    },
    {
     "name": "stdout",
     "output_type": "stream",
     "text": [
      "Processing D:\\Astro\\20220804\\M31\\light\\L_M31_0142_Bin1x1_300s__0C.fit...\n"
     ]
    },
    {
     "name": "stderr",
     "output_type": "stream",
     "text": [
      "Calculating FWHM: 100%|██████████| 198/198 [00:01<00:00, 154.05it/s]\n",
      "Matching triangles: 100%|██████████| 92/92 [00:00<00:00, 506.24it/s]\n"
     ]
    },
    {
     "name": "stdout",
     "output_type": "stream",
     "text": [
      "Processing D:\\Astro\\20220804\\M31\\light\\L_M31_0143_Bin1x1_300s__0C.fit...\n"
     ]
    },
    {
     "name": "stderr",
     "output_type": "stream",
     "text": [
      "Calculating FWHM: 100%|██████████| 212/212 [00:01<00:00, 145.11it/s]\n",
      "Matching triangles: 100%|██████████| 95/95 [00:00<00:00, 542.76it/s]\n"
     ]
    },
    {
     "name": "stdout",
     "output_type": "stream",
     "text": [
      "Processing D:\\Astro\\20220804\\M31\\light\\L_M31_0144_Bin1x1_300s__0C.fit...\n"
     ]
    },
    {
     "name": "stderr",
     "output_type": "stream",
     "text": [
      "Calculating FWHM: 100%|██████████| 206/206 [00:01<00:00, 165.58it/s]\n",
      "Matching triangles: 100%|██████████| 95/95 [00:00<00:00, 520.13it/s]\n"
     ]
    },
    {
     "name": "stdout",
     "output_type": "stream",
     "text": [
      "Processing D:\\Astro\\20220804\\M31\\light\\L_M31_0145_Bin1x1_300s__0C.fit...\n"
     ]
    },
    {
     "name": "stderr",
     "output_type": "stream",
     "text": [
      "Calculating FWHM: 100%|██████████| 213/213 [00:01<00:00, 148.08it/s]\n",
      "Matching triangles: 100%|██████████| 95/95 [00:00<00:00, 503.41it/s]\n"
     ]
    },
    {
     "name": "stdout",
     "output_type": "stream",
     "text": [
      "Processing D:\\Astro\\20220804\\M31\\light\\L_M31_0146_Bin1x1_300s__0C.fit...\n"
     ]
    },
    {
     "name": "stderr",
     "output_type": "stream",
     "text": [
      "Calculating FWHM: 100%|██████████| 209/209 [00:01<00:00, 127.84it/s]\n",
      "Matching triangles: 100%|██████████| 66/66 [00:00<00:00, 539.70it/s]\n"
     ]
    },
    {
     "name": "stdout",
     "output_type": "stream",
     "text": [
      "Processing D:\\Astro\\20220804\\M31\\light\\L_M31_0147_Bin1x1_300s__0C.fit...\n"
     ]
    },
    {
     "name": "stderr",
     "output_type": "stream",
     "text": [
      "Calculating FWHM: 100%|██████████| 218/218 [00:01<00:00, 157.14it/s]\n",
      "Matching triangles: 100%|██████████| 102/102 [00:00<00:00, 609.16it/s]\n"
     ]
    },
    {
     "name": "stdout",
     "output_type": "stream",
     "text": [
      "Processing D:\\Astro\\20220804\\M31\\light\\L_M31_0148_Bin1x1_300s__0C.fit...\n"
     ]
    },
    {
     "name": "stderr",
     "output_type": "stream",
     "text": [
      "Calculating FWHM: 100%|██████████| 211/211 [00:01<00:00, 158.67it/s]\n",
      "Matching triangles: 100%|██████████| 90/90 [00:00<00:00, 542.50it/s]\n"
     ]
    },
    {
     "name": "stdout",
     "output_type": "stream",
     "text": [
      "Processing D:\\Astro\\20220804\\M31\\light\\L_M31_0149_Bin1x1_300s__0C.fit...\n"
     ]
    },
    {
     "name": "stderr",
     "output_type": "stream",
     "text": [
      "Calculating FWHM: 100%|██████████| 220/220 [00:01<00:00, 162.22it/s]\n",
      "Matching triangles: 100%|██████████| 92/92 [00:00<00:00, 562.84it/s]\n"
     ]
    },
    {
     "name": "stdout",
     "output_type": "stream",
     "text": [
      "Processing D:\\Astro\\20220804\\M31\\light\\L_M31_0150_Bin1x1_300s__0C.fit...\n"
     ]
    },
    {
     "name": "stderr",
     "output_type": "stream",
     "text": [
      "Calculating FWHM: 100%|██████████| 233/233 [00:01<00:00, 157.34it/s]\n",
      "Matching triangles: 100%|██████████| 95/95 [00:00<00:00, 543.83it/s]\n"
     ]
    },
    {
     "name": "stdout",
     "output_type": "stream",
     "text": [
      "Processing D:\\Astro\\20220804\\M31\\light\\L_M31_0151_Bin1x1_300s__0C.fit...\n"
     ]
    },
    {
     "name": "stderr",
     "output_type": "stream",
     "text": [
      "Calculating FWHM: 100%|██████████| 231/231 [00:01<00:00, 155.70it/s]\n",
      "Matching triangles: 100%|██████████| 102/102 [00:00<00:00, 540.76it/s]\n"
     ]
    },
    {
     "name": "stdout",
     "output_type": "stream",
     "text": [
      "Processing D:\\Astro\\20220804\\M31\\light\\L_M31_0152_Bin1x1_300s__0C.fit...\n"
     ]
    },
    {
     "name": "stderr",
     "output_type": "stream",
     "text": [
      "Calculating FWHM: 100%|██████████| 226/226 [00:01<00:00, 160.20it/s]\n",
      "Matching triangles: 100%|██████████| 80/80 [00:00<00:00, 551.73it/s]\n"
     ]
    },
    {
     "name": "stdout",
     "output_type": "stream",
     "text": [
      "Processing D:\\Astro\\20220804\\M31\\light\\L_M31_0153_Bin1x1_300s__0C.fit...\n"
     ]
    },
    {
     "name": "stderr",
     "output_type": "stream",
     "text": [
      "Calculating FWHM: 100%|██████████| 241/241 [00:01<00:00, 163.67it/s]\n",
      "Matching triangles: 100%|██████████| 90/90 [00:00<00:00, 518.19it/s]\n"
     ]
    },
    {
     "name": "stdout",
     "output_type": "stream",
     "text": [
      "Processing D:\\Astro\\20220804\\M31\\light\\L_M31_0154_Bin1x1_300s__0C.fit...\n"
     ]
    },
    {
     "name": "stderr",
     "output_type": "stream",
     "text": [
      "Calculating FWHM: 100%|██████████| 230/230 [00:01<00:00, 160.13it/s]\n",
      "Matching triangles: 100%|██████████| 78/78 [00:00<00:00, 514.07it/s]\n"
     ]
    },
    {
     "name": "stdout",
     "output_type": "stream",
     "text": [
      "Processing D:\\Astro\\20220804\\M31\\light\\L_M31_0155_Bin1x1_300s__0C.fit...\n"
     ]
    },
    {
     "name": "stderr",
     "output_type": "stream",
     "text": [
      "Calculating FWHM: 100%|██████████| 227/227 [00:01<00:00, 161.15it/s]\n",
      "Matching triangles: 100%|██████████| 90/90 [00:00<00:00, 563.62it/s]\n"
     ]
    },
    {
     "name": "stdout",
     "output_type": "stream",
     "text": [
      "Processing D:\\Astro\\20220804\\M31\\light\\L_M31_0156_Bin1x1_300s__0C.fit...\n"
     ]
    },
    {
     "name": "stderr",
     "output_type": "stream",
     "text": [
      "Calculating FWHM: 100%|██████████| 229/229 [00:01<00:00, 166.26it/s]\n",
      "Matching triangles: 100%|██████████| 80/80 [00:00<00:00, 567.17it/s]\n"
     ]
    },
    {
     "name": "stdout",
     "output_type": "stream",
     "text": [
      "Processing D:\\Astro\\20220804\\M31\\light\\L_M31_0157_Bin1x1_300s__0C.fit...\n"
     ]
    },
    {
     "name": "stderr",
     "output_type": "stream",
     "text": [
      "Calculating FWHM: 100%|██████████| 232/232 [00:01<00:00, 161.92it/s]\n",
      "Matching triangles: 100%|██████████| 67/67 [00:00<00:00, 540.60it/s]\n"
     ]
    },
    {
     "name": "stdout",
     "output_type": "stream",
     "text": [
      "Processing D:\\Astro\\20220804\\M31\\light\\L_M31_0158_Bin1x1_300s__0C.fit...\n"
     ]
    },
    {
     "name": "stderr",
     "output_type": "stream",
     "text": [
      "Calculating FWHM: 100%|██████████| 306/306 [00:01<00:00, 164.99it/s]\n",
      "Matching triangles: 100%|██████████| 103/103 [00:00<00:00, 555.57it/s]\n"
     ]
    },
    {
     "name": "stdout",
     "output_type": "stream",
     "text": [
      "Processing D:\\Astro\\20220804\\M31\\light\\L_M31_0159_Bin1x1_300s__0C.fit...\n"
     ]
    },
    {
     "name": "stderr",
     "output_type": "stream",
     "text": [
      "Calculating FWHM: 100%|██████████| 258/258 [00:01<00:00, 152.57it/s]\n",
      "Matching triangles: 100%|██████████| 92/92 [00:00<00:00, 537.92it/s]\n"
     ]
    },
    {
     "name": "stdout",
     "output_type": "stream",
     "text": [
      "Processing D:\\Astro\\20220804\\M31\\light\\L_M31_0160_Bin1x1_300s__0C.fit...\n"
     ]
    },
    {
     "name": "stderr",
     "output_type": "stream",
     "text": [
      "Calculating FWHM: 100%|██████████| 235/235 [00:01<00:00, 159.91it/s]\n",
      "Matching triangles: 100%|██████████| 94/94 [00:00<00:00, 515.75it/s]\n"
     ]
    }
   ],
   "source": [
    "df_fwhm = None\n",
    "\n",
    "for i, tgt_file in enumerate(file_list):\n",
    "    print(f\"Processing {tgt_file}...\")\n",
    "    df_tgt = starfinder.getStarData(tgt_file, topk=10)['stars']\n",
    "\n",
    "    df_matched = starmatcher.matchStars(df_ref, df_tgt)\n",
    "     \n",
    "    if df_fwhm is None:\n",
    "        df_fwhm = df_matched[['index_ref', 'fwhm_x_ref', 'fwhm_y_ref', 'fwhm_x_tgt', 'fwhm_y_tgt']]\n",
    "    else:\n",
    "        df_fwhm = pd.merge(left=df_fwhm, right=df_matched[['index_ref', 'fwhm_x_tgt', 'fwhm_y_tgt']], how='left', on='index_ref', suffixes=('', f'_{i:05d}'))\n",
    "    \n",
    "    \n",
    "\n",
    "df_fwhm.to_csv(\"fwhm.csv\")"
   ]
  },
  {
   "cell_type": "code",
   "execution_count": 7,
   "metadata": {},
   "outputs": [],
   "source": [
    "df_fwhm.T.to_csv(\"fwhm_t.csv\")"
   ]
  },
  {
   "cell_type": "code",
   "execution_count": null,
   "metadata": {},
   "outputs": [],
   "source": []
  }
 ],
 "metadata": {
  "interpreter": {
   "hash": "0c4d4844cb86d76aae055aa4e1025398b22665261f4b526f8aab80ac97156c6e"
  },
  "kernelspec": {
   "display_name": "Python 3.8.8 ('tf')",
   "language": "python",
   "name": "python3"
  },
  "language_info": {
   "codemirror_mode": {
    "name": "ipython",
    "version": 3
   },
   "file_extension": ".py",
   "mimetype": "text/x-python",
   "name": "python",
   "nbconvert_exporter": "python",
   "pygments_lexer": "ipython3",
   "version": "3.8.8"
  },
  "orig_nbformat": 4
 },
 "nbformat": 4,
 "nbformat_minor": 2
}
