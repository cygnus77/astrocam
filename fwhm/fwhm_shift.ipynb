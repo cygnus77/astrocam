{
 "cells": [
  {
   "cell_type": "code",
   "execution_count": 1,
   "metadata": {},
   "outputs": [],
   "source": [
    "import pandas as pd\n",
    "from pathlib import Path\n",
    "from star_finder import StarFinder\n",
    "from star_matcher import StarMatcher\n"
   ]
  },
  {
   "cell_type": "code",
   "execution_count": 2,
   "metadata": {},
   "outputs": [
    {
     "name": "stdout",
     "output_type": "stream",
     "text": [
      "Numer of images: 72\n"
     ]
    }
   ],
   "source": [
    "file_list = Path(r\"C:\\code\\astrocam\\light\").glob(\"*.nef\")\n",
    "file_list = list(file_list)\n",
    "print(f\"Numer of images: {len(file_list)}\")"
   ]
  },
  {
   "cell_type": "code",
   "execution_count": 3,
   "metadata": {},
   "outputs": [
    {
     "name": "stderr",
     "output_type": "stream",
     "text": [
      "Calculating FWHM: 100%|██████████| 43/43 [00:01<00:00, 27.53it/s]\n"
     ]
    },
    {
     "name": "stdout",
     "output_type": "stream",
     "text": [
      "Processing C:\\code\\astrocam\\light\\Image656.nef...\n"
     ]
    },
    {
     "name": "stderr",
     "output_type": "stream",
     "text": [
      "Calculating FWHM: 100%|██████████| 43/43 [00:00<00:00, 101.52it/s]\n",
      "Matching triangles: 100%|██████████| 9153/9153 [00:17<00:00, 531.36it/s]\n"
     ]
    },
    {
     "name": "stdout",
     "output_type": "stream",
     "text": [
      "Processing C:\\code\\astrocam\\light\\Image657.nef...\n"
     ]
    },
    {
     "name": "stderr",
     "output_type": "stream",
     "text": [
      "Calculating FWHM: 100%|██████████| 45/45 [00:00<00:00, 159.23it/s]\n",
      "Matching triangles: 100%|██████████| 10513/10513 [00:19<00:00, 545.72it/s]\n"
     ]
    },
    {
     "name": "stdout",
     "output_type": "stream",
     "text": [
      "Processing C:\\code\\astrocam\\light\\Image658.nef...\n"
     ]
    },
    {
     "name": "stderr",
     "output_type": "stream",
     "text": [
      "Calculating FWHM: 100%|██████████| 48/48 [00:00<00:00, 121.23it/s]\n",
      "Matching triangles: 100%|██████████| 12799/12799 [00:26<00:00, 484.58it/s]\n"
     ]
    },
    {
     "name": "stdout",
     "output_type": "stream",
     "text": [
      "Processing C:\\code\\astrocam\\light\\Image659.nef...\n"
     ]
    },
    {
     "name": "stderr",
     "output_type": "stream",
     "text": [
      "Calculating FWHM: 100%|██████████| 46/46 [00:00<00:00, 138.09it/s]\n",
      "Matching triangles: 100%|██████████| 11351/11351 [00:22<00:00, 506.74it/s]\n"
     ]
    },
    {
     "name": "stdout",
     "output_type": "stream",
     "text": [
      "Processing C:\\code\\astrocam\\light\\Image660.nef...\n"
     ]
    },
    {
     "name": "stderr",
     "output_type": "stream",
     "text": [
      "Calculating FWHM: 100%|██████████| 48/48 [00:01<00:00, 29.28it/s]\n",
      "Matching triangles: 100%|██████████| 12947/12947 [00:26<00:00, 487.70it/s]\n"
     ]
    },
    {
     "name": "stdout",
     "output_type": "stream",
     "text": [
      "Processing C:\\code\\astrocam\\light\\Image661.nef...\n"
     ]
    },
    {
     "name": "stderr",
     "output_type": "stream",
     "text": [
      "Calculating FWHM: 100%|██████████| 47/47 [00:00<00:00, 61.59it/s] \n",
      "Matching triangles: 100%|██████████| 11863/11863 [00:23<00:00, 497.56it/s]\n"
     ]
    },
    {
     "name": "stdout",
     "output_type": "stream",
     "text": [
      "Processing C:\\code\\astrocam\\light\\Image662.nef...\n"
     ]
    },
    {
     "name": "stderr",
     "output_type": "stream",
     "text": [
      "Calculating FWHM: 100%|██████████| 45/45 [00:00<00:00, 94.70it/s]\n",
      "Matching triangles: 100%|██████████| 10502/10502 [00:20<00:00, 519.87it/s]\n"
     ]
    },
    {
     "name": "stdout",
     "output_type": "stream",
     "text": [
      "Processing C:\\code\\astrocam\\light\\Image663.nef...\n"
     ]
    },
    {
     "name": "stderr",
     "output_type": "stream",
     "text": [
      "Calculating FWHM: 100%|██████████| 47/47 [00:00<00:00, 117.13it/s]\n",
      "Matching triangles: 100%|██████████| 12070/12070 [00:25<00:00, 467.30it/s]\n"
     ]
    },
    {
     "name": "stdout",
     "output_type": "stream",
     "text": [
      "Processing C:\\code\\astrocam\\light\\Image664.nef...\n"
     ]
    },
    {
     "name": "stderr",
     "output_type": "stream",
     "text": [
      "Calculating FWHM: 100%|██████████| 46/46 [00:00<00:00, 100.49it/s]\n",
      "Matching triangles: 100%|██████████| 11299/11299 [00:21<00:00, 518.17it/s]\n"
     ]
    }
   ],
   "source": [
    "starfinder = StarFinder()\n",
    "starmatcher = StarMatcher()\n",
    "df_ref = starfinder.getStarData(file_list[0])['stars']\n",
    "\n",
    "df_fwhm = None\n",
    "\n",
    "for i, tgt_file in enumerate(file_list[1:10]):\n",
    "    print(f\"Processing {tgt_file}...\")\n",
    "    df_tgt = starfinder.getStarData(tgt_file)['stars']\n",
    "\n",
    "    df_matched = starmatcher.matchStars(df_ref, df_tgt)\n",
    "    if df_fwhm is None:\n",
    "        df_fwhm = df_matched[['index_ref', 'fwhm_x_ref', 'fwhm_y_ref', 'fwhm_x_tgt', 'fwhm_y_tgt']]\n",
    "    else:\n",
    "        df_fwhm = pd.merge(left=df_fwhm, right=df_matched[['index_ref', 'fwhm_x_tgt', 'fwhm_y_tgt']], how='left', on='index_ref', suffixes=('', f'_{i:05d}'))\n",
    "\n",
    "df_fwhm.to_csv(\"fwhm.csv\")"
   ]
  },
  {
   "cell_type": "code",
   "execution_count": 4,
   "metadata": {},
   "outputs": [],
   "source": [
    "df_fwhm.T.to_csv(\"fwhm_t.csv\")"
   ]
  },
  {
   "cell_type": "code",
   "execution_count": null,
   "metadata": {},
   "outputs": [],
   "source": []
  }
 ],
 "metadata": {
  "interpreter": {
   "hash": "ed8e7c6ea6eee23c3f555c58b4e933741cc0bde3dd42a3f4a28e66e337a9e07a"
  },
  "kernelspec": {
   "display_name": "Python 3.9.12 ('base')",
   "language": "python",
   "name": "python3"
  },
  "language_info": {
   "codemirror_mode": {
    "name": "ipython",
    "version": 3
   },
   "file_extension": ".py",
   "mimetype": "text/x-python",
   "name": "python",
   "nbconvert_exporter": "python",
   "pygments_lexer": "ipython3",
   "version": "3.9.12"
  },
  "orig_nbformat": 4
 },
 "nbformat": 4,
 "nbformat_minor": 2
}
