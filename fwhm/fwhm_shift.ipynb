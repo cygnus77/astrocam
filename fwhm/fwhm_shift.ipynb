{
 "cells": [
  {
   "cell_type": "code",
   "execution_count": 1,
   "metadata": {},
   "outputs": [],
   "source": [
    "import sys\n",
    "sys.path.insert(0, r'C:\\code\\astrocam')\n",
    "import pandas as pd\n",
    "from pathlib import Path\n",
    "from fwhm.star_finder import StarFinder\n",
    "from fwhm.star_matcher import StarMatcher\n",
    "import matplotlib.pyplot as plt"
   ]
  },
  {
   "cell_type": "code",
   "execution_count": 2,
   "metadata": {},
   "outputs": [
    {
     "name": "stdout",
     "output_type": "stream",
     "text": [
      "Numer of images: 0\n"
     ]
    }
   ],
   "source": [
    "root = Path(r\"D:\\Astro\\20220804\\M31\")\n",
    "file_list = (root / \"light\").glob(\"*.fit\")\n",
    "file_list = list(file_list)\n",
    "print(f\"Numer of images: {len(file_list)}\")"
   ]
  },
  {
   "cell_type": "code",
   "execution_count": null,
   "metadata": {},
   "outputs": [],
   "source": [
    "starfinder = StarFinder()\n",
    "starmatcher = StarMatcher()\n",
    "starData = starfinder.getStarData(file_list[0], topk=40)\n",
    "star_img = starData[\"image\"]\n",
    "df_ref = starData[\"stars\"]"
   ]
  },
  {
   "cell_type": "code",
   "execution_count": null,
   "metadata": {},
   "outputs": [],
   "source": [
    "df_ref"
   ]
  },
  {
   "cell_type": "code",
   "execution_count": null,
   "metadata": {},
   "outputs": [],
   "source": [
    "plt.imshow(star_img, cmap='gray')"
   ]
  },
  {
   "cell_type": "code",
   "execution_count": null,
   "metadata": {},
   "outputs": [],
   "source": [
    "df_fwhm = None\n",
    "\n",
    "for i, tgt_file in enumerate(file_list):\n",
    "    print(f\"Processing {tgt_file}...\")\n",
    "    df_tgt = starfinder.getStarData(tgt_file, topk=10)['stars']\n",
    "\n",
    "    df_matched = starmatcher.matchStars(df_ref, df_tgt)\n",
    "     \n",
    "    if df_fwhm is None:\n",
    "        df_fwhm = df_matched[['index_ref', 'fwhm_x_ref', 'fwhm_y_ref', 'fwhm_x_tgt', 'fwhm_y_tgt']]\n",
    "    else:\n",
    "        df_fwhm = pd.merge(left=df_fwhm, right=df_matched[['index_ref', 'fwhm_x_tgt', 'fwhm_y_tgt']], how='left', on='index_ref', suffixes=('', f'_{i:05d}'))\n",
    "    \n",
    "    \n",
    "\n",
    "df_fwhm.to_csv(\"fwhm.csv\")"
   ]
  },
  {
   "cell_type": "code",
   "execution_count": null,
   "metadata": {},
   "outputs": [],
   "source": [
    "df_fwhm.T.to_csv(\"fwhm_t.csv\")"
   ]
  },
  {
   "cell_type": "code",
   "execution_count": null,
   "metadata": {},
   "outputs": [],
   "source": []
  }
 ],
 "metadata": {
  "interpreter": {
   "hash": "0c4d4844cb86d76aae055aa4e1025398b22665261f4b526f8aab80ac97156c6e"
  },
  "kernelspec": {
   "display_name": "Python 3.8.8 ('tf')",
   "language": "python",
   "name": "python3"
  },
  "language_info": {
   "codemirror_mode": {
    "name": "ipython",
    "version": 3
   },
   "file_extension": ".py",
   "mimetype": "text/x-python",
   "name": "python",
   "nbconvert_exporter": "python",
   "pygments_lexer": "ipython3",
   "version": "3.8.8"
  },
  "orig_nbformat": 4
 },
 "nbformat": 4,
 "nbformat_minor": 2
}
