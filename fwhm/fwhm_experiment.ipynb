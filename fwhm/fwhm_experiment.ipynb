{
 "cells": [
  {
   "cell_type": "code",
   "execution_count": null,
   "metadata": {},
   "outputs": [],
   "source": [
    "import sys\n",
    "sys.path.insert(0, r'C:\\code\\astrocam')\n",
    "from astropy.io import fits\n",
    "import numpy as np\n",
    "import cv2\n",
    "import rawpy\n",
    "from pathlib import Path\n",
    "from xisf.xisf_parser import read_xisf\n",
    "from matplotlib import pyplot as plt\n",
    "import cv2\n",
    "import numpy as np\n",
    "\n",
    "\n",
    "def openImage(fname):\n",
    "    ext = Path(fname).suffix.lower()\n",
    "\n",
    "    if ext == '.nef':\n",
    "      with open(fname, \"rb\") as f:\n",
    "        rawimg = rawpy.imread(f)\n",
    "        img = rawimg.postprocess()\n",
    "      hdr = None\n",
    "\n",
    "    elif ext == '.fit':\n",
    "      f = fits.open(fname)\n",
    "      ph = f[0]\n",
    "      img = ph.data\n",
    "      hdr = ph.header\n",
    "\n",
    "    elif ext == '.xisf':\n",
    "      img, hdr = read_xisf(fname)\n",
    "      img16 = (np.iinfo(np.uint16).max * img).astype(np.uint16)\n",
    "      img8 = (np.iinfo(np.uint8).max * img).astype(np.uint8)\n",
    "\n",
    "    # if hdr is not None and hdr['BAYERPAT'] == 'RGGB':\n",
    "    #   deb = cv2.cvtColor(img, cv2.COLOR_BAYER_BG2RGB)\n",
    "    #   img = deb.astype(np.float32) / np.iinfo(deb.dtype).max\n",
    "    #   img = (img * 255).astype(np.uint8)\n",
    "    # gray = cv2.cvtColor(img, cv2.COLOR_BGR2GRAY)\n",
    "\n",
    "    return np.squeeze(img16, axis=2), np.squeeze(img8, axis=2)"
   ]
  },
  {
   "cell_type": "code",
   "execution_count": null,
   "metadata": {},
   "outputs": [],
   "source": [
    "import rawpy\n",
    "from pathlib import Path\n",
    "\n",
    "root = Path(r\"D:\\Astro\\Objects\\C30\\subs\")\n",
    "in_focus = root / \"Light_00948_180.0sec_200gain_-0.3C_c_a.xisf\"\n",
    "img16, img8 = openImage(in_focus)\n",
    "\n"
   ]
  },
  {
   "cell_type": "code",
   "execution_count": null,
   "metadata": {},
   "outputs": [],
   "source": [
    "img16.shape"
   ]
  },
  {
   "cell_type": "code",
   "execution_count": null,
   "metadata": {},
   "outputs": [],
   "source": [
    "# gray = cv2.cvtColor(img, cv2.COLOR_BGR2GRAY)"
   ]
  },
  {
   "cell_type": "code",
   "execution_count": null,
   "metadata": {},
   "outputs": [],
   "source": [
    "gray = img8\n",
    "img = img16"
   ]
  },
  {
   "cell_type": "code",
   "execution_count": null,
   "metadata": {},
   "outputs": [],
   "source": [
    "\n",
    "plt.imshow(gray, cmap='gray')"
   ]
  },
  {
   "cell_type": "code",
   "execution_count": null,
   "metadata": {},
   "outputs": [],
   "source": [
    "Bs = cv2.getStructuringElement(shape=cv2.MORPH_RECT, ksize=(7,7))\n",
    "Bmi = cv2.getStructuringElement(shape=cv2.MORPH_RECT, ksize=(21,21))\n",
    "Be = cv2.getStructuringElement(shape=cv2.MORPH_RECT, ksize=(25,25))\n",
    "Bmo = cv2.getStructuringElement(shape=cv2.MORPH_RECT, ksize=(29,29))\n",
    "d = (Bmo.shape[0] - Bmi.shape[0]) // 2\n",
    "Bm = cv2.getStructuringElement(shape=cv2.MORPH_RECT, ksize=(29,29))\n",
    "Bm[d:d+Bmi.shape[0], d:d+Bmi.shape[0]] -= Bmi\n"
   ]
  },
  {
   "cell_type": "code",
   "execution_count": null,
   "metadata": {},
   "outputs": [],
   "source": [
    "K = cv2.morphologyEx(gray, cv2.MORPH_OPEN, Bs)\n",
    "N = cv2.morphologyEx(cv2.morphologyEx(gray, cv2.MORPH_DILATE, Bm), cv2.MORPH_ERODE, Be)\n",
    "print(K.shape, N.shape)"
   ]
  },
  {
   "cell_type": "code",
   "execution_count": null,
   "metadata": {},
   "outputs": [],
   "source": [
    "R = K -np.minimum(K,N)"
   ]
  },
  {
   "cell_type": "code",
   "execution_count": null,
   "metadata": {},
   "outputs": [],
   "source": [
    "plt.imshow(R, cmap='gray')"
   ]
  },
  {
   "cell_type": "code",
   "execution_count": null,
   "metadata": {},
   "outputs": [],
   "source": [
    "numstars, labels, stats, centroids = cv2.connectedComponentsWithStats(R, 4, cv2.CV_16U, cv2.CCL_WU)"
   ]
  },
  {
   "cell_type": "code",
   "execution_count": null,
   "metadata": {},
   "outputs": [],
   "source": [
    "centroids"
   ]
  },
  {
   "cell_type": "code",
   "execution_count": null,
   "metadata": {},
   "outputs": [],
   "source": [
    "def getStar(img, staridx):\n",
    "  centorid_x, centroid_y = centroids[staridx]\n",
    "  width = stats[staridx, cv2.CC_STAT_WIDTH]\n",
    "  height = stats[staridx, cv2.CC_STAT_HEIGHT]\n",
    "  min_row = int(max(0, centroid_y - height))\n",
    "  max_row = int(min(gray.shape[0], centroid_y + height+1))\n",
    "  min_col = int(max(0, centorid_x - width))\n",
    "  max_col = int(min(gray.shape[1], centorid_x + width+1))\n",
    "  cell = img[min_row:max_row, min_col:max_col]\n",
    "  return cell"
   ]
  },
  {
   "cell_type": "markdown",
   "metadata": {},
   "source": [
    "Calculating centroid with higher accuracy\n",
    "- https://www.lost-infinity.com/night-sky-image-processing-part-4-calculate-the-star-centroid-with-sub-pixel-accuracy/"
   ]
  },
  {
   "cell_type": "code",
   "execution_count": null,
   "metadata": {},
   "outputs": [],
   "source": [
    "star = getStar(img, 1)"
   ]
  },
  {
   "cell_type": "markdown",
   "metadata": {},
   "source": [
    "Optionally remove background"
   ]
  },
  {
   "cell_type": "code",
   "execution_count": null,
   "metadata": {},
   "outputs": [],
   "source": [
    "bg = np.percentile(img,5)\n",
    "star = np.clip(star - bg, 0, np.iinfo(img.dtype).max)"
   ]
  },
  {
   "cell_type": "code",
   "execution_count": null,
   "metadata": {},
   "outputs": [],
   "source": [
    "star"
   ]
  },
  {
   "cell_type": "markdown",
   "metadata": {},
   "source": [
    "1. Calculate the IWC"
   ]
  },
  {
   "cell_type": "code",
   "execution_count": null,
   "metadata": {},
   "outputs": [],
   "source": [
    "cx = np.sum(np.full(star.shape, np.arange(star.shape[1])) * (star**2)) / (np.sum(star**2))\n",
    "cy = np.sum(np.full(star.shape, np.arange(star.shape[0]).reshape(star.shape[0],1)) * (star**2)) / (np.sum(star**2))\n",
    "print(cx, cy)\n",
    "cx = round(cx)\n",
    "cy = round(cy)\n",
    "print(star)\n",
    "print(cx, cy)"
   ]
  },
  {
   "cell_type": "markdown",
   "metadata": {},
   "source": [
    "Get 3x3 around IWC"
   ]
  },
  {
   "cell_type": "code",
   "execution_count": null,
   "metadata": {},
   "outputs": [],
   "source": [
    "star[cy-1:cy+2, cx-1:cx+2]"
   ]
  },
  {
   "cell_type": "markdown",
   "metadata": {},
   "source": [
    "2. Round cx, cy to nearest integer and then iteratively improve."
   ]
  },
  {
   "cell_type": "code",
   "execution_count": null,
   "metadata": {},
   "outputs": [],
   "source": [
    "import math\n",
    "\n",
    "def calculate_centroid(star: np.ndarray):\n",
    "    bg = np.percentile(star, 5)\n",
    "    star = np.clip(star - bg, 0, 255)\n",
    "    cx = np.sum(np.full(star.shape, np.arange(star.shape[1])) * (star**2)) / (np.sum(star**2))\n",
    "    cy = np.sum(np.full(star.shape, np.arange(star.shape[0]).reshape(star.shape[0],1)) * (star**2)) / (np.sum(star**2))\n",
    "    cx = round(cx)\n",
    "    cy = round(cy)\n",
    "    inImg = star[cy-1:cy+2, cx-1:cx+2]\n",
    "    b1 = inImg[0, 0]; a2 = inImg[0, 1]; b2 = inImg[0, 2]\n",
    "    a1 = inImg[1, 0];  c = inImg[1, 1]; a3 = inImg[1, 2]\n",
    "    b4 = inImg[2, 0]; a4 = inImg[2, 1]; b3 = inImg[2, 2]\n",
    "\n",
    "    for i in range(10):\n",
    "        c2 = 2 * c\n",
    "        sp1 = (a1 + a2 + c2) / 4\n",
    "        sp2 = (a2 + a3 + c2) / 4\n",
    "        sp3 = (a3 + a4 + c2) / 4\n",
    "        sp4 = (a4 + a1 + c2) / 4\n",
    "        \n",
    "        #New maximum is center\n",
    "        newC = max(sp1, sp2, sp3, sp4)\n",
    "        \n",
    "        # Calc position of new center\n",
    "        ad = math.pow(2.0, -(i + 1.0))\n",
    "\n",
    "        if (newC == sp1):\n",
    "            cx = cx - ad # to the left\n",
    "            cy = cy - ad # to the top\n",
    "\n",
    "            # Calculate new sub pixel values\n",
    "            b1n = (a1 + a2 + 2 * b1) / 4\n",
    "            b2n = (c + b2 + 2 * a2) / 4\n",
    "            b3n = sp3\n",
    "            b4n = (b4 + c + 2 * a1) / 4\n",
    "            a1n = (b1n + c + 2 * a1) / 4\n",
    "            a2n = (b1n + c + 2 * a2) / 4\n",
    "            a3n = sp2\n",
    "            a4n = sp4\n",
    "\n",
    "        elif (newC == sp2):\n",
    "            cx = cx + ad # to the right\n",
    "            cy = cy - ad # to the top\n",
    "\n",
    "            # Calculate new sub pixel values\n",
    "            b1n = (2 * a2 + b1 + c) / 4\n",
    "            b2n = (2 * b2 + a3 + a2) / 4\n",
    "            b3n = (2 * a3 + b3 + c) / 4\n",
    "            b4n = sp4\n",
    "            a1n = sp1\n",
    "            a2n = (b2n + c + 2 * a2) / 4\n",
    "            a3n = (b2n + c + 2 * a3) / 4\n",
    "            a4n = sp3\n",
    "        elif (newC == sp3):\n",
    "            cx = cx + ad # to the right\n",
    "            cy = cy + ad # to the bottom\n",
    "\n",
    "            # Calculate new sub pixel values\n",
    "            b1n = sp1\n",
    "            b2n = (b2 + 2 * a3 + c) / 4\n",
    "            b3n = (2 * b3 + a3 + a4) / 4\n",
    "            b4n = (2 * a4 + b4 + c) / 4\n",
    "            a1n = sp4\n",
    "            a2n = sp2\n",
    "            a3n = (b3n + 2 * a3 + c) / 4\n",
    "            a4n = (b3n + 2 * a4 + c) / 4\n",
    "        else:\n",
    "            cx = cx - ad # to the left\n",
    "            cy = cy + ad # to the bottom   \n",
    "\n",
    "            # Calculate new sub pixel values\n",
    "            b1n = (2 * a1 + b1 + c) / 4\n",
    "            b2n = sp2\n",
    "            b3n = (c + b3 + 2 * a4) / 4\n",
    "            b4n = (2 * b4 + a1 + a4) / 4\n",
    "            a1n = (b4n + 2 * a1 + c) / 4\n",
    "            a2n = sp1\n",
    "            a3n = sp3\n",
    "            a4n = (b4n + 2 * a4 + c) / 4\n",
    "\n",
    "            c = newC # Oi = Oi+1\n",
    "\n",
    "            a1 = a1n\n",
    "            a2 = a2n\n",
    "            a3 = a3n\n",
    "            a4 = a4n\n",
    "\n",
    "            b1 = b1n\n",
    "            b2 = b2n\n",
    "            b3 = b3n\n",
    "            b4 = b4n\n",
    "    return cx, cy\n"
   ]
  },
  {
   "cell_type": "code",
   "execution_count": null,
   "metadata": {},
   "outputs": [],
   "source": [
    "cx, cy"
   ]
  },
  {
   "cell_type": "code",
   "execution_count": null,
   "metadata": {},
   "outputs": [],
   "source": [
    "def plotStar3D(ax, star):\n",
    "  xs = list(range(star.shape[1]))\n",
    "  ys = list(range(star.shape[0]))\n",
    "  xs, ys = np.meshgrid(xs, ys)\n",
    "  X = np.arange(0, star.shape[1], 1)\n",
    "  Y = np.arange(0, star.shape[0], 1)\n",
    "  X, Y = np.meshgrid(X, Y)\n",
    "  ax.plot_surface(xs, ys, star)"
   ]
  },
  {
   "cell_type": "code",
   "execution_count": null,
   "metadata": {},
   "outputs": [],
   "source": [
    "import scipy.optimize as opt\n",
    "\n",
    "def twoD_GaussianScaledAmp(pos, xo, yo, sigma_x, sigma_y, amplitude, offset):\n",
    "    \"\"\"Function to fit, returns 2D gaussian function as 1D array\"\"\"\n",
    "    x,y = pos\n",
    "    xo = float(xo)\n",
    "    yo = float(yo)    \n",
    "    g = offset + amplitude*np.exp( - (((x-xo)**2)/(2*sigma_x**2) + ((y-yo)**2)/(2*sigma_y**2)))\n",
    "    return g.ravel()\n",
    "\n",
    "def getFWHM_GaussianFitScaledAmp(img, ax):\n",
    "    \"\"\"Get FWHM(x,y) of a blob by 2D gaussian fitting\n",
    "    Parameter:\n",
    "        img - image as numpy array\n",
    "    Returns: \n",
    "        FWHMs in pixels, along x and y axes.\n",
    "    \"\"\"\n",
    "    x = np.linspace(0, img.shape[1], img.shape[1])\n",
    "    y = np.linspace(0, img.shape[0], img.shape[0])\n",
    "    x, y = np.meshgrid(x, y)\n",
    "    #Parameters: xpos, ypos, sigmaX, sigmaY, amp, baseline\n",
    "    initial_guess = (img.shape[1]/2,img.shape[0]/2,10,10,1,0)\n",
    "    # subtract background and rescale image into [0,1], with floor clipping\n",
    "    bg = np.percentile(img,5)\n",
    "    img = np.clip((img - bg) / (img.max() - bg),0,1)\n",
    "\n",
    "    popt, pcov = opt.curve_fit(twoD_GaussianScaledAmp, (x, y), \n",
    "                               img.ravel(), p0=None, #initial_guess,\n",
    "                               bounds = (\n",
    "                                   (0, 0, 1, 1, 0.5, -0.1), # Lower bound\n",
    "                                   (img.shape[1], img.shape[0], img.shape[1], img.shape[0], 1.5, 0.5) # Upper bound\n",
    "                                )\n",
    "                            )\n",
    "    xcenter, ycenter, sigmaX, sigmaY, amp, offset = popt[0], popt[1], popt[2], popt[3], popt[4], popt[5]\n",
    "\n",
    "    z = offset + amp*np.exp( - (((x-xcenter)**2)/(2*sigmaX**2) + ((y-ycenter)**2)/(2*sigmaY**2)))\n",
    "    ax.plot_surface(x,y,z)\n",
    "\n",
    "    FWHM_x = np.abs(4*sigmaX*np.sqrt(-0.5*np.log(0.5)))\n",
    "    FWHM_y = np.abs(4*sigmaY*np.sqrt(-0.5*np.log(0.5)))\n",
    "    return (FWHM_x / img.shape[1], FWHM_y / img.shape[0], xcenter, ycenter)\n",
    "\n"
   ]
  },
  {
   "cell_type": "code",
   "execution_count": null,
   "metadata": {},
   "outputs": [],
   "source": [
    "from matplotlib.backends.backend_pdf import PdfPages\n",
    "print(f\"Num stars: {numstars}\")\n",
    "with PdfPages('fwhm_report_actual.pdf') as pdf:\n",
    "  for staridx in range(1, numstars):\n",
    "    star = getStar(img, staridx)\n",
    "\n",
    "    fig = plt.figure()\n",
    "    ax = fig.add_subplot(2, 3, 1)\n",
    "    ax.imshow(star, cmap='gray')\n",
    "\n",
    "    ax = fig.add_subplot(2, 3, 2, projection='3d')\n",
    "    plotStar3D(ax, star)\n",
    "\n",
    "    ax = fig.add_subplot(2, 3, 3, projection='3d')\n",
    "    cx, cy = calculate_centroid(star)\n",
    "    FWHM_x, FWHM_y, xcenter, ycenter = getFWHM_GaussianFitScaledAmp(star, ax)\n",
    "\n",
    "    ax = fig.add_subplot(2, 3, 4)\n",
    "    ax.axis(\"off\")\n",
    "    ax.text(0, 0.75, f\"FWHM: {FWHM_x:0.3f}, {FWHM_y:0.3f}\")\n",
    "\n",
    "    ax = fig.add_subplot(2, 3, 5)\n",
    "    ax.axis(\"off\")\n",
    "    ax.text(0, 0.75, f\"Centroid: ({cx:0.3f}, {cy:0.3f})\")\n",
    "\n",
    "    ax = fig.add_subplot(2, 3, 6)\n",
    "    ax.axis(\"off\")\n",
    "    ax.text(0, 0.75, f\", Curve center: ({xcenter:0.3f}, {ycenter:0.3f})\")\n",
    "\n",
    "    pdf.savefig()\n",
    "    fig.show()\n",
    "    plt.close()\n",
    "    "
   ]
  },
  {
   "cell_type": "code",
   "execution_count": null,
   "metadata": {},
   "outputs": [],
   "source": []
  }
 ],
 "metadata": {
  "interpreter": {
   "hash": "0c4d4844cb86d76aae055aa4e1025398b22665261f4b526f8aab80ac97156c6e"
  },
  "kernelspec": {
   "display_name": "Python 3.8.8 ('tf')",
   "language": "python",
   "name": "python3"
  },
  "language_info": {
   "codemirror_mode": {
    "name": "ipython",
    "version": 3
   },
   "file_extension": ".py",
   "mimetype": "text/x-python",
   "name": "python",
   "nbconvert_exporter": "python",
   "pygments_lexer": "ipython3",
   "version": "3.8.8"
  },
  "orig_nbformat": 4
 },
 "nbformat": 4,
 "nbformat_minor": 2
}
