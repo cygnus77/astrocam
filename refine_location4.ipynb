{
 "cells": [
  {
   "cell_type": "code",
   "execution_count": 1,
   "metadata": {},
   "outputs": [],
   "source": [
    "from tqdm import tqdm\n",
    "from pathlib import Path\n",
    "\n",
    "from astropy.coordinates import SkyCoord\n",
    "from astropy import units as u\n",
    "from astropy.coordinates import ICRS\n",
    "\n",
    "from image_data import ImageData\n",
    "from skymap.platesolver import platesolve"
   ]
  },
  {
   "cell_type": "markdown",
   "metadata": {},
   "source": [
    "|    | Initial     |    Corrected |\n",
    "| --- | ---- | --- |\n",
    "| Albereo |\n",
    "| RA  | 19h31m39.9612s  | 19h30m52.1928s |\n",
    "| Dec | 28d00m47.8116s  | 28d02m10.5612 |\n",
    "| RA  | 19h30m43.2072s  | 19h30m40.8528s |\n",
    "| Dec | 27d57m35.4204s  | 28d00m37.9908s |\n",
    "| NGC 7000 |\n",
    "| RA  | 20h58m46.9452s  | 20h58m50.6532s |\n",
    "| Dec  | 44d19m48.0612s  | 44d12m19.0872s |\n",
    "| Crescent Nebula |\n",
    "| RA  | 20h12m57.7404s  | 20h13m01.7652s |\n",
    "| Dec | 38d25m36.714s  |  38d30m20.232s |\n",
    "| Deneb |\n",
    "| RA  | 20h41m27.2616s  | |\n",
    "| Dec | 45d16m38.3736s  | |"
   ]
  },
  {
   "cell_type": "code",
   "execution_count": 2,
   "metadata": {},
   "outputs": [],
   "source": [
    "targets = {\n",
    "  \"Albereo\": {\n",
    "    \"location\": SkyCoord(\"19h31m39.9612s\", \"28d00m47.8116s\", frame=ICRS),\n",
    "    \"dir\": r\"D:\\Astro\\plate-solving-samples\\Albereo\\Light\"\n",
    "  },\n",
    "  \"NGC 7000\": {\n",
    "    \"location\": SkyCoord(\"20h58m46.9452s\", \"44d19m48.0612s\", frame=ICRS),\n",
    "    \"dir\": r\"D:\\Astro\\plate-solving-samples\\NGC7000\\Light\"\n",
    "  },\n",
    "  \"Crescent Nebula\": {\n",
    "    \"location\": SkyCoord(\"20h12m57.7404s\", \"38d25m36.714s\", frame=ICRS),\n",
    "    \"dir\": r\"D:\\Astro\\plate-solving-samples\\NGC6888\\Light\"\n",
    "  },\n",
    "  \"Deneb\": {\n",
    "    \"location\": SkyCoord(\"20h41m27.2616s\", \"45d16m38.3736s\", frame=ICRS),\n",
    "    \"dir\": r\"D:\\Astro\\plate-solving-samples\\Deneb\\Light\"\n",
    "  },\n",
    "  \"Alpheratz\": {\n",
    "    \"location\": SkyCoord(\"00h08m23.25988s\", \"+29d05m25.5520s\", frame=ICRS),\n",
    "    \"dir\": r\"D:\\Astro\\plate-solving-samples\\Alpheratz\\Light\"\n",
    "  }\n",
    "}"
   ]
  },
  {
   "cell_type": "code",
   "execution_count": 3,
   "metadata": {},
   "outputs": [],
   "source": [
    "def solve(center, fname):\n",
    "  imageData = ImageData(None, fname, None)\n",
    "  imageData.computeStars()\n",
    "  return platesolve(imageData, center, fov_deg=5.0, mag_limit=11.0)"
   ]
  },
  {
   "cell_type": "code",
   "execution_count": 4,
   "metadata": {},
   "outputs": [
    {
     "name": "stdout",
     "output_type": "stream",
     "text": [
      "Albereo\n"
     ]
    },
    {
     "name": "stderr",
     "output_type": "stream",
     "text": [
      " 83%|████████▎ | 10/12 [02:45<00:31, 15.67s/it]c:\\Users\\anand\\anaconda3\\envs\\astro\\lib\\site-packages\\scipy\\optimize\\_minpack_py.py:492: RuntimeWarning: Number of calls to function has reached maxfev = 1200.\n",
      "  warnings.warn(errors[info][0], RuntimeWarning)\n",
      "100%|██████████| 12/12 [03:10<00:00, 15.84s/it]\n"
     ]
    },
    {
     "name": "stdout",
     "output_type": "stream",
     "text": [
      "NGC 7000\n"
     ]
    },
    {
     "name": "stderr",
     "output_type": "stream",
     "text": [
      "  0%|          | 0/5 [00:00<?, ?it/s]c:\\Users\\anand\\anaconda3\\envs\\astro\\lib\\site-packages\\scipy\\optimize\\_minpack_py.py:492: RuntimeWarning: Number of calls to function has reached maxfev = 1200.\n",
      "  warnings.warn(errors[info][0], RuntimeWarning)\n",
      " 40%|████      | 2/5 [00:35<00:53, 17.85s/it]c:\\Users\\anand\\anaconda3\\envs\\astro\\lib\\site-packages\\scipy\\optimize\\_minpack_py.py:492: RuntimeWarning: Number of calls to function has reached maxfev = 1200.\n",
      "  warnings.warn(errors[info][0], RuntimeWarning)\n",
      "100%|██████████| 5/5 [01:29<00:00, 17.91s/it]\n"
     ]
    },
    {
     "name": "stdout",
     "output_type": "stream",
     "text": [
      "Crescent Nebula\n"
     ]
    },
    {
     "name": "stderr",
     "output_type": "stream",
     "text": [
      " 20%|██        | 1/5 [00:25<01:40, 25.19s/it]c:\\Users\\anand\\anaconda3\\envs\\astro\\lib\\site-packages\\scipy\\optimize\\_minpack_py.py:492: RuntimeWarning: Number of calls to function has reached maxfev = 1200.\n",
      "  warnings.warn(errors[info][0], RuntimeWarning)\n",
      " 80%|████████  | 4/5 [01:41<00:25, 25.30s/it]c:\\Users\\anand\\anaconda3\\envs\\astro\\lib\\site-packages\\scipy\\optimize\\_minpack_py.py:492: RuntimeWarning: Number of calls to function has reached maxfev = 1200.\n",
      "  warnings.warn(errors[info][0], RuntimeWarning)\n",
      "100%|██████████| 5/5 [02:07<00:00, 25.47s/it]\n"
     ]
    },
    {
     "name": "stdout",
     "output_type": "stream",
     "text": [
      "Deneb\n"
     ]
    },
    {
     "name": "stderr",
     "output_type": "stream",
     "text": [
      "100%|██████████| 8/8 [02:24<00:00, 18.01s/it]\n"
     ]
    },
    {
     "name": "stdout",
     "output_type": "stream",
     "text": [
      "Alpheratz\n"
     ]
    },
    {
     "name": "stderr",
     "output_type": "stream",
     "text": [
      "100%|██████████| 4/4 [00:32<00:00,  8.06s/it]\n"
     ]
    }
   ],
   "source": [
    "results = {}\n",
    "for tgtName, tgt in targets.items():\n",
    "  print(tgtName)\n",
    "  for fname in tqdm(list(Path(tgt['dir']).glob(\"*.fit\"))):\n",
    "    results[fname] = solve(tgt['location'], str(fname))"
   ]
  },
  {
   "cell_type": "code",
   "execution_count": 9,
   "metadata": {},
   "outputs": [
    {
     "name": "stdout",
     "output_type": "stream",
     "text": [
      "0 Albereo Light_03233_10.0sec_300gain_21.4C.fit True 20\n",
      "1 Albereo Light_03234_10.0sec_300gain_21.4C.fit True 20\n",
      "2 Albereo Light_03235_10.0sec_300gain_21.1C.fit True 20\n",
      "3 Albereo Light_03236_10.0sec_300gain_21.1C.fit True 20\n",
      "4 Albereo Light_03237_10.0sec_120gain_21.1C.fit True 20\n",
      "5 Albereo Light_03238_10.0sec_120gain_21.1C.fit True 20\n",
      "6 Albereo Light_03239_10.0sec_120gain_21.1C.fit True 20\n",
      "7 Albereo Light_03240_10.0sec_300gain_21.1C.fit True 20\n",
      "8 Albereo Light_03251_10.0sec_120gain_20.4C.fit True 16\n",
      "9 Albereo Light_03252_10.0sec_120gain_20.4C.fit True 15\n",
      "10 Albereo Light_03253_10.0sec_120gain_20.4C.fit False 7\n",
      "11 Albereo Light_03254_20.0sec_200gain_20.4C.fit True 7\n",
      "12 NGC7000 Light_03241_10.0sec_300gain_20.7C.fit True 20\n",
      "13 NGC7000 Light_03242_10.0sec_300gain_20.7C.fit True 20\n",
      "14 NGC7000 Light_03243_30.0sec_300gain_20.7C.fit True 20\n",
      "15 NGC7000 Light_03244_10.0sec_120gain_20.7C.fit True 20\n",
      "16 NGC7000 Light_03245_180.0sec_200gain_20.4C.fit True 20\n",
      "17 NGC6888 Light_03246_10.0sec_200gain_20.7C.fit True 20\n",
      "18 NGC6888 Light_03247_10.0sec_200gain_20.7C.fit True 20\n",
      "19 NGC6888 Light_03248_10.0sec_120gain_20.7C.fit True 20\n",
      "20 NGC6888 Light_03249_10.0sec_120gain_20.7C.fit True 20\n",
      "21 NGC6888 Light_03250_180.0sec_200gain_20.4C.fit True 20\n",
      "22 Deneb Light_03267_10.0sec_120gain_20.0C.fit True 20\n",
      "23 Deneb Light_03268_10.0sec_120gain_20.0C.fit True 20\n",
      "24 Deneb Light_03269_10.0sec_120gain_20.0C.fit True 20\n",
      "25 Deneb Light_03270_10.0sec_120gain_20.0C.fit True 20\n",
      "26 Deneb Light_03271_10.0sec_120gain_20.0C.fit True 20\n",
      "27 Deneb Light_03272_10.0sec_120gain_20.0C.fit True 20\n",
      "28 Deneb Light_03273_10.0sec_120gain_19.3C.fit True 20\n",
      "29 Deneb Light_03274_10.0sec_120gain_19.3C.fit True 20\n",
      "30 Alpheratz Light_03263_10.0sec_120gain_20.4C.fit True 13\n",
      "31 Alpheratz Light_03264_10.0sec_300gain_20.4C.fit True 20\n",
      "32 Alpheratz Light_03265_10.0sec_200gain_20.4C.fit True 20\n",
      "33 Alpheratz Light_03266_10.0sec_200gain_20.4C.fit True 20\n"
     ]
    }
   ],
   "source": [
    "for i, (k,v) in enumerate(results.items()):\n",
    "  print(i, k.parent.parent.name, k.name, v['solved'], v['num_tgt'])"
   ]
  },
  {
   "cell_type": "code",
   "execution_count": null,
   "metadata": {},
   "outputs": [],
   "source": []
  }
 ],
 "metadata": {
  "kernelspec": {
   "display_name": "astro",
   "language": "python",
   "name": "python3"
  },
  "language_info": {
   "codemirror_mode": {
    "name": "ipython",
    "version": 3
   },
   "file_extension": ".py",
   "mimetype": "text/x-python",
   "name": "python",
   "nbconvert_exporter": "python",
   "pygments_lexer": "ipython3",
   "version": "3.9.16"
  },
  "orig_nbformat": 4
 },
 "nbformat": 4,
 "nbformat_minor": 2
}
