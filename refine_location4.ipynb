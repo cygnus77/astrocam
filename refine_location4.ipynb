{
 "cells": [
  {
   "cell_type": "code",
   "execution_count": 1,
   "metadata": {},
   "outputs": [],
   "source": [
    "from tqdm import tqdm\n",
    "from pathlib import Path\n",
    "\n",
    "from astropy.coordinates import SkyCoord\n",
    "from astropy import units as u\n",
    "from astropy.coordinates import ICRS\n",
    "\n",
    "from image_data import ImageData\n",
    "from skymap.platesolver import platesolve"
   ]
  },
  {
   "cell_type": "markdown",
   "metadata": {},
   "source": [
    "|    | Initial     |    Corrected |\n",
    "| --- | ---- | --- |\n",
    "| Albereo |\n",
    "| RA  | 19h31m39.9612s  | 19h30m52.1928s |\n",
    "| Dec | 28d00m47.8116s  | 28d02m10.5612 |\n",
    "| RA  | 19h30m43.2072s  | 19h30m40.8528s |\n",
    "| Dec | 27d57m35.4204s  | 28d00m37.9908s |\n",
    "| NGC 7000 |\n",
    "| RA  | 20h58m46.9452s  | 20h58m50.6532s |\n",
    "| Dec  | 44d19m48.0612s  | 44d12m19.0872s |\n",
    "| Crescent Nebula |\n",
    "| RA  | 20h12m57.7404s  | 20h13m01.7652s |\n",
    "| Dec | 38d25m36.714s  |  38d30m20.232s |\n",
    "| Deneb |\n",
    "| RA  | 20h41m27.2616s  | |\n",
    "| Dec | 45d16m38.3736s  | |"
   ]
  },
  {
   "cell_type": "code",
   "execution_count": 2,
   "metadata": {},
   "outputs": [],
   "source": [
    "targets = {\n",
    "  \"Albereo\": {\n",
    "    \"location\": SkyCoord(\"19h31m39.9612s\", \"28d00m47.8116s\", frame=ICRS),\n",
    "    \"dir\": r\"D:\\Astro\\plate-solving-samples\\Albereo\\Light\"\n",
    "  },\n",
    "  \"NGC 7000\": {\n",
    "    \"location\": SkyCoord(\"20h58m46.9452s\", \"44d19m48.0612s\", frame=ICRS),\n",
    "    \"dir\": r\"D:\\Astro\\plate-solving-samples\\NGC7000\\Light\"\n",
    "  },\n",
    "  \"Crescent Nebula\": {\n",
    "    \"location\": SkyCoord(\"20h12m57.7404s\", \"38d25m36.714s\", frame=ICRS),\n",
    "    \"dir\": r\"D:\\Astro\\plate-solving-samples\\NGC6888\\Light\"\n",
    "  },\n",
    "  \"Deneb\": {\n",
    "    \"location\": SkyCoord(\"20h41m27.2616s\", \"45d16m38.3736s\", frame=ICRS),\n",
    "    \"dir\": r\"D:\\Astro\\plate-solving-samples\\Deneb\\Light\"\n",
    "  },\n",
    "  \"Alpheratz\": {\n",
    "    \"location\": SkyCoord(\"00h08m23.25988s\", \"+29d05m25.5520s\", frame=ICRS),\n",
    "    \"dir\": r\"D:\\Astro\\plate-solving-samples\\Alpheratz\\Light\"\n",
    "  }\n",
    "}"
   ]
  },
  {
   "cell_type": "code",
   "execution_count": 3,
   "metadata": {},
   "outputs": [],
   "source": [
    "def solve(center, fname):\n",
    "  imageData = ImageData(None, fname, None)\n",
    "  imageData.computeStars()\n",
    "  return platesolve(imageData, center, fov_deg=5.0, mag_limit=11.0)"
   ]
  },
  {
   "cell_type": "code",
   "execution_count": 4,
   "metadata": {},
   "outputs": [
    {
     "name": "stdout",
     "output_type": "stream",
     "text": [
      "Albereo\n"
     ]
    },
    {
     "name": "stderr",
     "output_type": "stream",
     "text": [
      " 83%|████████▎ | 10/12 [04:02<00:44, 22.25s/it]c:\\Users\\anand\\anaconda3\\envs\\astro\\lib\\site-packages\\scipy\\optimize\\_minpack_py.py:492: RuntimeWarning: Number of calls to function has reached maxfev = 1200.\n",
      "  warnings.warn(errors[info][0], RuntimeWarning)\n",
      "100%|██████████| 12/12 [04:28<00:00, 22.39s/it]\n"
     ]
    },
    {
     "name": "stdout",
     "output_type": "stream",
     "text": [
      "NGC 7000\n"
     ]
    },
    {
     "name": "stderr",
     "output_type": "stream",
     "text": [
      "  0%|          | 0/5 [00:00<?, ?it/s]c:\\Users\\anand\\anaconda3\\envs\\astro\\lib\\site-packages\\scipy\\optimize\\_minpack_py.py:492: RuntimeWarning: Number of calls to function has reached maxfev = 1200.\n",
      "  warnings.warn(errors[info][0], RuntimeWarning)\n",
      " 40%|████      | 2/5 [00:53<01:19, 26.54s/it]c:\\Users\\anand\\anaconda3\\envs\\astro\\lib\\site-packages\\scipy\\optimize\\_minpack_py.py:492: RuntimeWarning: Number of calls to function has reached maxfev = 1200.\n",
      "  warnings.warn(errors[info][0], RuntimeWarning)\n",
      "100%|██████████| 5/5 [02:18<00:00, 27.74s/it]\n"
     ]
    },
    {
     "name": "stdout",
     "output_type": "stream",
     "text": [
      "Crescent Nebula\n"
     ]
    },
    {
     "name": "stderr",
     "output_type": "stream",
     "text": [
      " 20%|██        | 1/5 [00:37<02:31, 37.93s/it]c:\\Users\\anand\\anaconda3\\envs\\astro\\lib\\site-packages\\scipy\\optimize\\_minpack_py.py:492: RuntimeWarning: Number of calls to function has reached maxfev = 1200.\n",
      "  warnings.warn(errors[info][0], RuntimeWarning)\n",
      " 80%|████████  | 4/5 [02:23<00:35, 35.81s/it]c:\\Users\\anand\\anaconda3\\envs\\astro\\lib\\site-packages\\scipy\\optimize\\_minpack_py.py:492: RuntimeWarning: Number of calls to function has reached maxfev = 1200.\n",
      "  warnings.warn(errors[info][0], RuntimeWarning)\n",
      "100%|██████████| 5/5 [03:03<00:00, 36.68s/it]\n"
     ]
    },
    {
     "name": "stdout",
     "output_type": "stream",
     "text": [
      "Deneb\n"
     ]
    },
    {
     "name": "stderr",
     "output_type": "stream",
     "text": [
      "100%|██████████| 8/8 [03:31<00:00, 26.39s/it]\n"
     ]
    },
    {
     "name": "stdout",
     "output_type": "stream",
     "text": [
      "Alpheratz\n"
     ]
    },
    {
     "name": "stderr",
     "output_type": "stream",
     "text": [
      "100%|██████████| 4/4 [01:03<00:00, 15.82s/it]\n"
     ]
    }
   ],
   "source": [
    "results = {}\n",
    "for tgtName, tgt in targets.items():\n",
    "  print(tgtName)\n",
    "  for fname in tqdm(list(Path(tgt['dir']).glob(\"*.fit\"))):\n",
    "    results[fname] = solve(tgt['location'], str(fname))"
   ]
  },
  {
   "cell_type": "code",
   "execution_count": 14,
   "metadata": {},
   "outputs": [
    {
     "name": "stdout",
     "output_type": "stream",
     "text": [
      "0 Albereo Light_03233_10.0sec_300gain_21.4C.fit True\n",
      "1 Albereo Light_03234_10.0sec_300gain_21.4C.fit True\n",
      "2 Albereo Light_03235_10.0sec_300gain_21.1C.fit True\n",
      "3 Albereo Light_03236_10.0sec_300gain_21.1C.fit True\n",
      "4 Albereo Light_03237_10.0sec_120gain_21.1C.fit True\n",
      "5 Albereo Light_03238_10.0sec_120gain_21.1C.fit True\n",
      "6 Albereo Light_03239_10.0sec_120gain_21.1C.fit True\n",
      "7 Albereo Light_03240_10.0sec_300gain_21.1C.fit True\n",
      "8 Albereo Light_03251_10.0sec_120gain_20.4C.fit True\n",
      "9 Albereo Light_03252_10.0sec_120gain_20.4C.fit True\n",
      "10 Albereo Light_03253_10.0sec_120gain_20.4C.fit False\n",
      "11 Albereo Light_03254_20.0sec_200gain_20.4C.fit True\n",
      "12 NGC7000 Light_03241_10.0sec_300gain_20.7C.fit True\n",
      "13 NGC7000 Light_03242_10.0sec_300gain_20.7C.fit True\n",
      "14 NGC7000 Light_03243_30.0sec_300gain_20.7C.fit True\n",
      "15 NGC7000 Light_03244_10.0sec_120gain_20.7C.fit True\n",
      "16 NGC7000 Light_03245_180.0sec_200gain_20.4C.fit True\n",
      "17 NGC6888 Light_03246_10.0sec_200gain_20.7C.fit True\n",
      "18 NGC6888 Light_03247_10.0sec_200gain_20.7C.fit True\n",
      "19 NGC6888 Light_03248_10.0sec_120gain_20.7C.fit False\n",
      "20 NGC6888 Light_03249_10.0sec_120gain_20.7C.fit True\n",
      "21 NGC6888 Light_03250_180.0sec_200gain_20.4C.fit True\n",
      "22 Deneb Light_03267_10.0sec_120gain_20.0C.fit True\n",
      "23 Deneb Light_03268_10.0sec_120gain_20.0C.fit True\n",
      "24 Deneb Light_03269_10.0sec_120gain_20.0C.fit True\n",
      "25 Deneb Light_03270_10.0sec_120gain_20.0C.fit True\n",
      "26 Deneb Light_03271_10.0sec_120gain_20.0C.fit True\n",
      "27 Deneb Light_03272_10.0sec_120gain_20.0C.fit True\n",
      "28 Deneb Light_03273_10.0sec_120gain_19.3C.fit False\n",
      "29 Deneb Light_03274_10.0sec_120gain_19.3C.fit True\n",
      "30 Alpheratz Light_03263_10.0sec_120gain_20.4C.fit False\n",
      "31 Alpheratz Light_03264_10.0sec_300gain_20.4C.fit False\n",
      "32 Alpheratz Light_03265_10.0sec_200gain_20.4C.fit False\n",
      "33 Alpheratz Light_03266_10.0sec_200gain_20.4C.fit False\n"
     ]
    }
   ],
   "source": [
    "for i, (k,v) in enumerate(results.items()):\n",
    "  print(i, k.parent.parent.name, k.name, v['solved'])"
   ]
  },
  {
   "cell_type": "code",
   "execution_count": 17,
   "metadata": {},
   "outputs": [
    {
     "data": {
      "text/plain": [
       "(WindowsPath('D:/Astro/plate-solving-samples/Alpheratz/Light/Light_03263_10.0sec_120gain_20.4C.fit'),\n",
       " {'solved': False,\n",
       "  'num_ref': 275,\n",
       "  'num_tgt': 13,\n",
       "  'vertex_sorted': True,\n",
       "  'down_votes': True,\n",
       "  'absolute_similar': True,\n",
       "  'vote_with_conf': True,\n",
       "  'limit_ref_triangle_fov': 1.0,\n",
       "  'ref_triangles': 670,\n",
       "  'tgt_triangles': 286,\n",
       "  'triangle_tolerance': 0.002,\n",
       "  'triangle_comparisons': 191620,\n",
       "  'total_votes': 16.498898,\n",
       "  'hit_ratio': 8.610216862796281e-05,\n",
       "  'votes': array([[0.        , 0.        , 0.        , ..., 0.        , 0.        ,\n",
       "          0.        ],\n",
       "         [0.        , 0.        , 0.        , ..., 0.        , 0.        ,\n",
       "          0.        ],\n",
       "         [0.        , 0.        , 0.        , ..., 0.        , 0.        ,\n",
       "          0.        ],\n",
       "         ...,\n",
       "         [0.        , 0.        , 0.        , ..., 0.        , 0.        ,\n",
       "          0.        ],\n",
       "         [0.99993557, 0.        , 0.        , ..., 0.        , 0.        ,\n",
       "          0.        ],\n",
       "         [0.        , 0.        , 0.        , ..., 0.        , 0.        ,\n",
       "          0.        ]], dtype=float32),\n",
       "  'vVotingPairs': array([[55,  8],\n",
       "         [59, 10],\n",
       "         [81, 12],\n",
       "         ...,\n",
       "         [81, 10],\n",
       "         [59,  8],\n",
       "         [55, 10]], dtype=int64),\n",
       "  'solver_votes': 16.999293863773346,\n",
       "  'matches': 7,\n",
       "  'tx': array([[ -79717.37961017, -112638.09781616,    1733.94306713],\n",
       "         [ 112685.50309953,  -79696.85254601,    1417.51131978]]),\n",
       "  'center': <SkyCoord (ICRS): (ra, dec) in deg\n",
       "      (34.510534, 28.96913302)>,\n",
       "  'separation_arcmin': 1695.031922843789})"
      ]
     },
     "execution_count": 17,
     "metadata": {},
     "output_type": "execute_result"
    }
   ],
   "source": [
    "list(results.items())[30]\n"
   ]
  },
  {
   "cell_type": "code",
   "execution_count": 18,
   "metadata": {},
   "outputs": [
    {
     "data": {
      "text/plain": [
       "(WindowsPath('D:/Astro/plate-solving-samples/Alpheratz/Light/Light_03264_10.0sec_300gain_20.4C.fit'),\n",
       " {'solved': False,\n",
       "  'num_ref': 275,\n",
       "  'num_tgt': 20,\n",
       "  'vertex_sorted': True,\n",
       "  'down_votes': True,\n",
       "  'absolute_similar': True,\n",
       "  'vote_with_conf': True,\n",
       "  'limit_ref_triangle_fov': 1.0,\n",
       "  'ref_triangles': 670,\n",
       "  'tgt_triangles': 1140,\n",
       "  'triangle_tolerance': 0.002,\n",
       "  'triangle_comparisons': 763800,\n",
       "  'total_votes': 23.99833,\n",
       "  'hit_ratio': 3.141965064493016e-05,\n",
       "  'votes': array([[0.       , 0.       , 0.       , ..., 0.       , 0.       ,\n",
       "          0.       ],\n",
       "         [0.       , 0.       , 0.       , ..., 0.       , 0.       ,\n",
       "          0.       ],\n",
       "         [0.       , 0.       , 0.       , ..., 0.       , 0.       ,\n",
       "          0.       ],\n",
       "         ...,\n",
       "         [0.       , 0.       , 0.       , ..., 0.       , 0.       ,\n",
       "          0.       ],\n",
       "         [0.9999375, 0.       , 0.       , ..., 0.       , 0.       ,\n",
       "          0.       ],\n",
       "         [0.       , 0.       , 0.       , ..., 0.       , 0.       ,\n",
       "          0.       ]], dtype=float32),\n",
       "  'vVotingPairs': array([[30,  6],\n",
       "         [81,  9],\n",
       "         [55, 11],\n",
       "         ...,\n",
       "         [30,  4],\n",
       "         [55,  9],\n",
       "         [81, 11]], dtype=int64),\n",
       "  'solver_votes': 25.99819040298462,\n",
       "  'matches': 14,\n",
       "  'tx': array([[ -79684.34286271, -112543.0764815 ,    1739.94808413],\n",
       "         [ 112632.42651028,  -79950.81525495,    1407.45188802]]),\n",
       "  'center': <SkyCoord (ICRS): (ra, dec) in deg\n",
       "      (34.33956534, 28.96880437)>,\n",
       "  'separation_arcmin': 1686.1528879403338})"
      ]
     },
     "execution_count": 18,
     "metadata": {},
     "output_type": "execute_result"
    }
   ],
   "source": [
    "list(results.items())[31]"
   ]
  },
  {
   "cell_type": "code",
   "execution_count": 21,
   "metadata": {},
   "outputs": [
    {
     "ename": "IndexError",
     "evalue": "list index out of range",
     "output_type": "error",
     "traceback": [
      "\u001b[1;31m---------------------------------------------------------------------------\u001b[0m",
      "\u001b[1;31mIndexError\u001b[0m                                Traceback (most recent call last)",
      "Cell \u001b[1;32mIn[21], line 1\u001b[0m\n\u001b[1;32m----> 1\u001b[0m \u001b[39mlist\u001b[39;49m(results\u001b[39m.\u001b[39;49mitems())[\u001b[39m34\u001b[39;49m]\n",
      "\u001b[1;31mIndexError\u001b[0m: list index out of range"
     ]
    }
   ],
   "source": [
    "list(results.items())[34]"
   ]
  },
  {
   "cell_type": "code",
   "execution_count": null,
   "metadata": {},
   "outputs": [],
   "source": []
  }
 ],
 "metadata": {
  "kernelspec": {
   "display_name": "astro",
   "language": "python",
   "name": "python3"
  },
  "language_info": {
   "codemirror_mode": {
    "name": "ipython",
    "version": 3
   },
   "file_extension": ".py",
   "mimetype": "text/x-python",
   "name": "python",
   "nbconvert_exporter": "python",
   "pygments_lexer": "ipython3",
   "version": "3.9.16"
  },
  "orig_nbformat": 4
 },
 "nbformat": 4,
 "nbformat_minor": 2
}
