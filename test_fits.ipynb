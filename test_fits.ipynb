{
 "cells": [
  {
   "cell_type": "code",
   "execution_count": 2,
   "metadata": {},
   "outputs": [],
   "source": [
    "from astropy.io import fits\n",
    "\n",
    "f = fits.open(r\"M13-Light/Light_ASIImg_90sec_Bin1_-0.3C_gain120_2022-07-10_232701_frame0001.fit\")"
   ]
  },
  {
   "cell_type": "code",
   "execution_count": 3,
   "metadata": {},
   "outputs": [
    {
     "name": "stdout",
     "output_type": "stream",
     "text": [
      "Filename: M13-Light/Light_ASIImg_90sec_Bin1_-0.3C_gain120_2022-07-10_232701_frame0001.fit\n",
      "No.    Name      Ver    Type      Cards   Dimensions   Format\n",
      "  0  PRIMARY       1 PrimaryHDU      32   (4144, 2822)   int16 (rescales to uint16)   \n"
     ]
    }
   ],
   "source": [
    "f.info()"
   ]
  },
  {
   "cell_type": "code",
   "execution_count": 4,
   "metadata": {},
   "outputs": [
    {
     "data": {
      "text/plain": [
       "astropy.io.fits.hdu.hdulist.HDUList"
      ]
     },
     "execution_count": 4,
     "metadata": {},
     "output_type": "execute_result"
    }
   ],
   "source": [
    "type(f)"
   ]
  },
  {
   "cell_type": "code",
   "execution_count": 5,
   "metadata": {},
   "outputs": [
    {
     "data": {
      "text/plain": [
       "1"
      ]
     },
     "execution_count": 5,
     "metadata": {},
     "output_type": "execute_result"
    }
   ],
   "source": [
    "len(f)"
   ]
  },
  {
   "cell_type": "code",
   "execution_count": 12,
   "metadata": {},
   "outputs": [
    {
     "data": {
      "text/plain": [
       "['SIMPLE',\n",
       " 'BITPIX',\n",
       " 'NAXIS',\n",
       " 'NAXIS1',\n",
       " 'NAXIS2',\n",
       " 'EXTEND',\n",
       " 'COMMENT',\n",
       " 'COMMENT',\n",
       " 'BZERO',\n",
       " 'BSCALE',\n",
       " 'XBINNING',\n",
       " 'YBINNING',\n",
       " 'EXPOINUS',\n",
       " 'GAIN',\n",
       " 'OFFSET',\n",
       " 'WB_RED',\n",
       " 'WB_BLUE',\n",
       " 'CBLACK',\n",
       " 'CWHITE',\n",
       " 'PEDESTAL',\n",
       " 'SWCREATE',\n",
       " 'SWOWNER',\n",
       " 'DATE-OBS',\n",
       " 'BAYERPAT',\n",
       " 'COLORTYP',\n",
       " 'INPUTFMT',\n",
       " 'INSTRUME',\n",
       " 'XPIXSZ',\n",
       " 'YPIXSZ',\n",
       " 'EXPTIME',\n",
       " 'EXPOSURE',\n",
       " 'CCD-TEMP']"
      ]
     },
     "execution_count": 12,
     "metadata": {},
     "output_type": "execute_result"
    }
   ],
   "source": [
    "list(f[0].header.keys())\n"
   ]
  },
  {
   "cell_type": "code",
   "execution_count": null,
   "metadata": {},
   "outputs": [],
   "source": []
  },
  {
   "cell_type": "code",
   "execution_count": null,
   "metadata": {},
   "outputs": [],
   "source": []
  }
 ],
 "metadata": {
  "kernelspec": {
   "display_name": "Python 3.9.12 ('astro')",
   "language": "python",
   "name": "python3"
  },
  "language_info": {
   "codemirror_mode": {
    "name": "ipython",
    "version": 3
   },
   "file_extension": ".py",
   "mimetype": "text/x-python",
   "name": "python",
   "nbconvert_exporter": "python",
   "pygments_lexer": "ipython3",
   "version": "3.9.12"
  },
  "orig_nbformat": 4,
  "vscode": {
   "interpreter": {
    "hash": "10135c47b924ecb3f54286684fbe57bedefd28547a00aee5ccbadcb50220aba0"
   }
  }
 },
 "nbformat": 4,
 "nbformat_minor": 2
}
