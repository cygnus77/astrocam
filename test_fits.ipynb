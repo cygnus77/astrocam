{
 "cells": [
  {
   "cell_type": "code",
   "execution_count": 1,
   "metadata": {},
   "outputs": [],
   "source": [
    "from astropy.io import fits\n",
    "\n",
    "f = fits.open(r\"images/L_M27_0337_Bin1x1_180s__0C.fit\")"
   ]
  },
  {
   "cell_type": "code",
   "execution_count": 2,
   "metadata": {},
   "outputs": [
    {
     "name": "stdout",
     "output_type": "stream",
     "text": [
      "Filename: images/L_M27_0337_Bin1x1_180s__0C.fit\n",
      "No.    Name      Ver    Type      Cards   Dimensions   Format\n",
      "  0  PRIMARY       1 PrimaryHDU      36   (4144, 2822)   int16 (rescales to uint16)   \n"
     ]
    }
   ],
   "source": [
    "f.info()"
   ]
  },
  {
   "cell_type": "code",
   "execution_count": 3,
   "metadata": {},
   "outputs": [
    {
     "data": {
      "text/plain": [
       "astropy.io.fits.hdu.hdulist.HDUList"
      ]
     },
     "execution_count": 3,
     "metadata": {},
     "output_type": "execute_result"
    }
   ],
   "source": [
    "type(f)"
   ]
  },
  {
   "cell_type": "code",
   "execution_count": 4,
   "metadata": {},
   "outputs": [
    {
     "data": {
      "text/plain": [
       "1"
      ]
     },
     "execution_count": 4,
     "metadata": {},
     "output_type": "execute_result"
    }
   ],
   "source": [
    "len(f)"
   ]
  },
  {
   "cell_type": "code",
   "execution_count": 5,
   "metadata": {},
   "outputs": [
    {
     "data": {
      "text/plain": [
       "['SIMPLE',\n",
       " 'BITPIX',\n",
       " 'NAXIS',\n",
       " 'NAXIS1',\n",
       " 'NAXIS2',\n",
       " 'EXTEND',\n",
       " 'COMMENT',\n",
       " 'COMMENT',\n",
       " 'BZERO',\n",
       " 'BSCALE',\n",
       " 'OBJECT',\n",
       " 'INSTRUME',\n",
       " 'DATE-OBS',\n",
       " 'CAMERA-DATE-OBS',\n",
       " 'EXPTIME',\n",
       " 'CCD-TEMP',\n",
       " 'XPIXSZ',\n",
       " 'YPIXSZ',\n",
       " 'XBINNING',\n",
       " 'YBINNING',\n",
       " 'XORGSUBF',\n",
       " 'YORGSUBF',\n",
       " 'EGAIN',\n",
       " 'FOCALLEN',\n",
       " 'JD',\n",
       " 'SWCREATE',\n",
       " 'SBSTDVER',\n",
       " 'SNAPSHOT',\n",
       " 'SET-TEMP',\n",
       " 'IMAGETYP',\n",
       " 'SITELAT',\n",
       " 'SITELONG',\n",
       " 'FOCUSPOS',\n",
       " 'GAIN',\n",
       " 'OFFSET',\n",
       " 'BAYERPAT']"
      ]
     },
     "execution_count": 5,
     "metadata": {},
     "output_type": "execute_result"
    }
   ],
   "source": [
    "list(f[0].header.keys())\n"
   ]
  },
  {
   "cell_type": "code",
   "execution_count": null,
   "metadata": {},
   "outputs": [],
   "source": []
  },
  {
   "cell_type": "code",
   "execution_count": null,
   "metadata": {},
   "outputs": [],
   "source": []
  }
 ],
 "metadata": {
  "kernelspec": {
   "display_name": "Python 3.9.12 ('astro')",
   "language": "python",
   "name": "python3"
  },
  "language_info": {
   "codemirror_mode": {
    "name": "ipython",
    "version": 3
   },
   "file_extension": ".py",
   "mimetype": "text/x-python",
   "name": "python",
   "nbconvert_exporter": "python",
   "pygments_lexer": "ipython3",
   "version": "3.9.12"
  },
  "orig_nbformat": 4,
  "vscode": {
   "interpreter": {
    "hash": "10135c47b924ecb3f54286684fbe57bedefd28547a00aee5ccbadcb50220aba0"
   }
  }
 },
 "nbformat": 4,
 "nbformat_minor": 2
}
