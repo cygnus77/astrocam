{
 "cells": [
  {
   "cell_type": "code",
   "execution_count": 84,
   "metadata": {},
   "outputs": [],
   "source": [
    "import numpy as np\n",
    "import cairo\n",
    "from random import random\n",
    "import matplotlib.pyplot as plt"
   ]
  },
  {
   "cell_type": "code",
   "execution_count": 85,
   "metadata": {},
   "outputs": [
    {
     "name": "stdout",
     "output_type": "stream",
     "text": [
      "c1:0.8898995105540186,0.4012548519136222, c2:0.6760172343285759,0.7037251715023412, r:0.3135048403318833\n"
     ]
    }
   ],
   "source": [
    "def make_star(w=200, h=200):\n",
    "  img = np.zeros(shape=(h, w), dtype=np.uint32)\n",
    "  with cairo.ImageSurface.create_for_data(img, cairo.FORMAT_ARGB32, w, h) as surface:\n",
    "      context = cairo.Context(surface)\n",
    "      context.set_antialias(cairo.Antialias.BEST)\n",
    "      context.set_source_rgb(0,0,0)\n",
    "      context.fill()\n",
    "      x1, y1 = random(), random()\n",
    "      x2, y2 = random(), random()\n",
    "      r = random()\n",
    "      print(f\"c1:{x1},{y1}, c2:{x2},{y2}, r:{r}\")\n",
    "      pat = cairo.RadialGradient(x1, y1, 0, x2, y2, r)\n",
    "      pat.set_matrix(cairo.Matrix(xx=1/w, yy=1/h))\n",
    "      pat.add_color_stop_rgb(0, 1, 1, 0)\n",
    "      pat.add_color_stop_rgb(1, 0, 0, 0)\n",
    "      context.set_source(pat)\n",
    "      context.scale(w, h)\n",
    "      context.rectangle(0, 0, 1, 1)\n",
    "      context.fill()\n",
    "  r=(img >>16) & 0xff\n",
    "  g=(img >>8) & 0xff\n",
    "  b=img & 0xff\n",
    "  return np.stack([r.astype(np.uint8),g.astype(np.uint8),b.astype(np.uint8)], axis=2)\n",
    "\n",
    "img = make_star()"
   ]
  },
  {
   "cell_type": "code",
   "execution_count": 86,
   "metadata": {},
   "outputs": [
    {
     "data": {
      "text/plain": [
       "<matplotlib.image.AxesImage at 0x252952b4ac0>"
      ]
     },
     "execution_count": 86,
     "metadata": {},
     "output_type": "execute_result"
    },
    {
     "data": {
      "image/png": "[encoded data removed]",
      "text/plain": [
       "<Figure size 432x288 with 1 Axes>"
      ]
     },
     "metadata": {
      "needs_background": "light"
     },
     "output_type": "display_data"
    }
   ],
   "source": [
    "plt.imshow(img)"
   ]
  },
  {
   "cell_type": "code",
   "execution_count": 87,
   "metadata": {},
   "outputs": [],
   "source": [
    "def rggb(img):\n",
    "  r_m = np.zeros(shape=img.shape[:2], dtype=np.uint8)\n",
    "  r_m[0::2, 0::2] = 1\n",
    "  g1_m = np.zeros(shape=img.shape[:2], dtype=np.uint8)\n",
    "  g1_m[0::2, 1::2] = 1\n",
    "  g2_m = np.zeros(shape=img.shape[:2], dtype=np.uint8)\n",
    "  g2_m[1::2, 0::2] = 1\n",
    "  b_m = np.zeros(shape=img.shape[:2], dtype=np.uint8)\n",
    "  b_m[1::2, 1::2] = 1\n",
    "\n",
    "  return (img[:,:,0] * r_m) + (img[:,:,1] * g1_m) + (img[:,:,1] * g2_m) + (img[:,:,2] * b_m)"
   ]
  },
  {
   "cell_type": "code",
   "execution_count": 88,
   "metadata": {},
   "outputs": [
    {
     "data": {
      "text/plain": [
       "<matplotlib.image.AxesImage at 0x25295314b80>"
      ]
     },
     "execution_count": 88,
     "metadata": {},
     "output_type": "execute_result"
    },
    {
     "data": {
      "image/png": "[encoded data removed]",
      "text/plain": [
       "<Figure size 432x288 with 1 Axes>"
      ]
     },
     "metadata": {
      "needs_background": "light"
     },
     "output_type": "display_data"
    }
   ],
   "source": [
    "img_rggb = rggb(img)\n",
    "plt.imshow(img_rggb, cmap='gray')"
   ]
  },
  {
   "cell_type": "code",
   "execution_count": 89,
   "metadata": {},
   "outputs": [],
   "source": [
    "plt.imsave('test_rggb.png', img_rggb, dpi=300, cmap='gray')"
   ]
  },
  {
   "cell_type": "code",
   "execution_count": 90,
   "metadata": {},
   "outputs": [
    {
     "data": {
      "text/plain": [
       "dtype('uint8')"
      ]
     },
     "execution_count": 90,
     "metadata": {},
     "output_type": "execute_result"
    }
   ],
   "source": [
    "img_rggb.dtype"
   ]
  },
  {
   "cell_type": "code",
   "execution_count": 91,
   "metadata": {},
   "outputs": [],
   "source": [
    "import bilinear\n",
    "output_img = bilinear.debayer_bilinear(img_rggb)"
   ]
  },
  {
   "cell_type": "code",
   "execution_count": 92,
   "metadata": {},
   "outputs": [
    {
     "data": {
      "text/plain": [
       "dtype('float32')"
      ]
     },
     "execution_count": 92,
     "metadata": {},
     "output_type": "execute_result"
    }
   ],
   "source": [
    "output_img.dtype"
   ]
  },
  {
   "cell_type": "code",
   "execution_count": 93,
   "metadata": {},
   "outputs": [
    {
     "data": {
      "text/plain": [
       "<matplotlib.image.AxesImage at 0x2529538a100>"
      ]
     },
     "execution_count": 93,
     "metadata": {},
     "output_type": "execute_result"
    },
    {
     "data": {
      "image/png": "[encoded data removed]",
      "text/plain": [
       "<Figure size 432x288 with 1 Axes>"
      ]
     },
     "metadata": {
      "needs_background": "light"
     },
     "output_type": "display_data"
    }
   ],
   "source": [
    "plt.imshow(output_img)"
   ]
  },
  {
   "cell_type": "code",
   "execution_count": 94,
   "metadata": {},
   "outputs": [
    {
     "data": {
      "text/plain": [
       "<matplotlib.image.AxesImage at 0x252953e3ee0>"
      ]
     },
     "execution_count": 94,
     "metadata": {},
     "output_type": "execute_result"
    },
    {
     "data": {
      "image/png": "[encoded data removed]",
      "text/plain": [
       "<Figure size 432x288 with 1 Axes>"
      ]
     },
     "metadata": {
      "needs_background": "light"
     },
     "output_type": "display_data"
    }
   ],
   "source": [
    "plt.imshow((output_img * 255).astype(np.uint8)-img)"
   ]
  },
  {
   "cell_type": "code",
   "execution_count": null,
   "metadata": {},
   "outputs": [],
   "source": []
  }
 ],
 "metadata": {
  "kernelspec": {
   "display_name": "Python 3.9.12 ('astro')",
   "language": "python",
   "name": "python3"
  },
  "language_info": {
   "codemirror_mode": {
    "name": "ipython",
    "version": 3
   },
   "file_extension": ".py",
   "mimetype": "text/x-python",
   "name": "python",
   "nbconvert_exporter": "python",
   "pygments_lexer": "ipython3",
   "version": "3.9.12"
  },
  "orig_nbformat": 4,
  "vscode": {
   "interpreter": {
    "hash": "10135c47b924ecb3f54286684fbe57bedefd28547a00aee5ccbadcb50220aba0"
   }
  }
 },
 "nbformat": 4,
 "nbformat_minor": 2
}
